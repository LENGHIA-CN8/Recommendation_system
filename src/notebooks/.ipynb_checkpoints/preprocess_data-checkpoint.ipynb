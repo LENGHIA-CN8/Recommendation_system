{
 "cells": [
  {
   "cell_type": "markdown",
   "id": "f15d4bec-567f-4bc4-bd55-10b7ff923ee7",
   "metadata": {},
   "source": [
    "## Approach 1"
   ]
  },
  {
   "cell_type": "code",
   "execution_count": 1,
   "id": "e1074f07",
   "metadata": {
    "tags": []
   },
   "outputs": [],
   "source": [
    "import pyspark \n",
    "import datetime\n",
    "import seaborn as sns\n",
    "import matplotlib.pyplot as plt\n",
    "from pyspark.sql.window import Window\n",
    "from pyspark.sql.functions import *"
   ]
  },
  {
   "cell_type": "code",
   "execution_count": 4,
   "id": "ff7dae51",
   "metadata": {
    "tags": []
   },
   "outputs": [
    {
     "name": "stdout",
     "output_type": "stream",
     "text": [
      "imported\n"
     ]
    }
   ],
   "source": [
    "exec(open(\"helpers.py\").read())\n",
    "os.environ[\"PYSPARK_PYTHON\"] = \"/usr/bin/python3\"\n",
    "os.environ[\"PYSPARK_DRIVER_PYTHON\"] = \"/usr/bin/python3\"\n",
    "os.environ[\"SPARK_LOCAL_HOSTNAME\"] = \"10.5.1.230\"\n",
    "os.environ[\"JAVA_HOME\"] = \"/storage/softs/jdk1.8.0_241\"\n",
    "os.environ[\"HADOOP_CONF_DIR\"] = \"/opt/softs/yarn-conf\"\n",
    "os.environ[\"YARN_CONF_DIR\"] = \"/opt/softs/yarn-conf\""
   ]
  },
  {
   "cell_type": "code",
   "execution_count": 6,
   "id": "589a7f7b",
   "metadata": {
    "tags": []
   },
   "outputs": [],
   "source": [
    "# spark = SparkSession.builder.master('yarn').appName('log_web')\\\n",
    "#         .config('spark.yarn.queue','dataanalyst').config('spark.executor.memory', '4G')\\\n",
    "#         .config('spark.driver.cores','2').config('spark.driver.memory','4G')\\\n",
    "#         .config('spark.excecutor.cores','3')\\\n",
    "#         .config('spark.driver.extraClassPath','/data/dataanalyst/mysql-connector-java-8.0.20.jar').getOrCreate()"
   ]
  },
  {
   "cell_type": "code",
   "execution_count": 8,
   "id": "9e664637",
   "metadata": {},
   "outputs": [],
   "source": [
    "domain = 'cafef'"
   ]
  },
  {
   "cell_type": "code",
   "execution_count": 3,
   "id": "8b421e94",
   "metadata": {},
   "outputs": [
    {
     "ename": "NameError",
     "evalue": "name 'F' is not defined",
     "output_type": "error",
     "traceback": [
      "\u001b[0;31m---------------------------------------------------------------------------\u001b[0m",
      "\u001b[0;31mNameError\u001b[0m                                 Traceback (most recent call last)",
      "Cell \u001b[0;32mIn[3], line 2\u001b[0m\n\u001b[1;32m      1\u001b[0m \u001b[38;5;66;03m#Get data from HDFS (App Pega)\u001b[39;00m\n\u001b[0;32m----> 2\u001b[0m base_filter\u001b[38;5;241m=\u001b[39m((\u001b[43mF\u001b[49m\u001b[38;5;241m.\u001b[39mcol(\u001b[38;5;124m'\u001b[39m\u001b[38;5;124mdomain\u001b[39m\u001b[38;5;124m'\u001b[39m)\u001b[38;5;241m==\u001b[39m \u001b[38;5;124mf\u001b[39m\u001b[38;5;124m'\u001b[39m\u001b[38;5;132;01m{\u001b[39;00mdomain\u001b[38;5;132;01m}\u001b[39;00m\u001b[38;5;124m.vn\u001b[39m\u001b[38;5;124m'\u001b[39m) \u001b[38;5;241m&\u001b[39m (F\u001b[38;5;241m.\u001b[39mcol(\u001b[38;5;124m'\u001b[39m\u001b[38;5;124mguid\u001b[39m\u001b[38;5;124m'\u001b[39m)\u001b[38;5;241m!=\u001b[39m\u001b[38;5;124m'\u001b[39m\u001b[38;5;124m-1\u001b[39m\u001b[38;5;124m'\u001b[39m) \u001b[38;5;241m&\u001b[39m (F\u001b[38;5;241m.\u001b[39mcol(\u001b[38;5;124m'\u001b[39m\u001b[38;5;124mitemsBox\u001b[39m\u001b[38;5;124m'\u001b[39m)\u001b[38;5;241m.\u001b[39misNotNull()))\n\u001b[1;32m      3\u001b[0m path \u001b[38;5;241m=\u001b[39m\u001b[38;5;124m'\u001b[39m\u001b[38;5;124mhdfs://10.3.71.234:8020/Data/Logging/AdTrackingLinks/\u001b[39m\u001b[38;5;124m'\u001b[39m\n\u001b[1;32m      4\u001b[0m helper \u001b[38;5;241m=\u001b[39m Helper(sparkss\u001b[38;5;241m=\u001b[39mspark, path\u001b[38;5;241m=\u001b[39mpath, base_filter\u001b[38;5;241m=\u001b[39mbase_filter)\n",
      "\u001b[0;31mNameError\u001b[0m: name 'F' is not defined"
     ]
    }
   ],
   "source": [
    "#Get data from HDFS (App Pega)\n",
    "base_filter=((F.col('domain')== f'{domain}.vn') & (F.col('guid')!='-1') & (F.col('itemsBox').isNotNull()))\n",
    "path ='hdfs://10.3.71.234:8020/Data/Logging/AdTrackingLinks/'\n",
    "helper = Helper(sparkss=spark, path=path, base_filter=base_filter)\n",
    "selects=['dt','guid','pageLoadId','itemsBox','clickOrView','date']\n",
    "\n",
    "#Thời gian phân tích\n",
    "date = datetime.now()"
   ]
  },
  {
   "cell_type": "code",
   "execution_count": 31,
   "id": "159c3e41",
   "metadata": {},
   "outputs": [
    {
     "name": "stdout",
     "output_type": "stream",
     "text": [
      "GET DATA FROM LOG TL\n"
     ]
    }
   ],
   "source": [
    "df_tl=helper.get_single_spark_df(date.date(), selects=selects)\n",
    "df_tl=df_tl.withColumn('ls_item_box', F.split(F.col('itemsBox'),\",\")).dropDuplicates().cache()\n",
    "print(\"GET DATA FROM LOG TL\")"
   ]
  },
  {
   "cell_type": "code",
   "execution_count": 32,
   "id": "ab4cc9aa",
   "metadata": {},
   "outputs": [
    {
     "name": "stdout",
     "output_type": "stream",
     "text": [
      "+-------------------+-------------------+-------------+--------------------+-----------+----------+--------------------+\n",
      "|                 dt|               guid|   pageLoadId|            itemsBox|clickOrView|      date|         ls_item_box|\n",
      "+-------------------+-------------------+-------------+--------------------+-----------+----------+--------------------+\n",
      "|2023-04-25 09:44:27|7051197589245387630|1682390663306|cf_home_dangchuy-...|          0|2023-04-25|[cf_home_dangchuy...|\n",
      "|2023-04-25 09:44:51|8679880271907512367|1682390690157|cafef_detail_rela...|          0|2023-04-25|[cafef_detail_rel...|\n",
      "|2023-04-25 09:44:46|6832319761906336173|1682387707587|cf_cate_boxmostvi...|          0|2023-04-25|[cf_cate_boxmostv...|\n",
      "|2023-04-25 09:44:47|5138411302246544831|1682388670352|cf_home_dautu_mag...|          0|2023-04-25|[cf_home_dautu_ma...|\n",
      "|2023-04-25 09:33:20|5479406168712124062|1682389738065|h3-18823042507192...|          0|2023-04-25|[h3-1882304250719...|\n",
      "|2023-04-25 09:50:19|1962913792885129185|1682390845739|h3-18823042420580...|          0|2023-04-25|[h3-1882304242058...|\n",
      "|2023-04-25 09:50:14|8351374501247090601|1682390888854|h3-18823042411011...|          0|2023-04-25|[h3-1882304241101...|\n",
      "|2023-04-25 09:46:46|4552666691886214162|1682390673570|h1-18823042509164...|          0|2023-04-25|[h1-1882304250916...|\n",
      "|2023-04-25 09:47:06|8454931821952491607|1682389917820|cf_detail_b1-1882...|          0|2023-04-25|[cf_detail_b1-188...|\n",
      "|2023-04-25 09:39:15|1677494391952501734|1682390340082|h2-742,h2-1882304...|          0|2023-04-25|[h2-742, h2-18823...|\n",
      "|2023-04-25 09:38:31|5177751107249598305|1682390200029|cf_home_dangchuy-...|          0|2023-04-25|[cf_home_dangchuy...|\n",
      "|2023-04-25 09:26:15|4150409121906414635|1682389457193|h2-18823042421480...|          0|2023-04-25|[h2-1882304242148...|\n",
      "|2023-04-25 09:26:57|5461430762712499407|1682389603531|cafef_detail_rela...|          0|2023-04-25|[cafef_detail_rel...|\n",
      "|2023-04-25 09:26:15|5589601831984290134|1682389496248|cafef_detail_rela...|          0|2023-04-25|[cafef_detail_rel...|\n",
      "|2023-04-25 09:26:11|8712009391984319750|1682389609712|,cafef_detail_rel...|          0|2023-04-25|[, cafef_detail_r...|\n",
      "|2023-04-25 09:26:31|1893257641984251619|1682385683311|cafef_detail_read...|          0|2023-04-25|[cafef_detail_rea...|\n",
      "|2023-04-25 09:26:26|8909432441729102352|1682390140831|h1-18823042509061...|          0|2023-04-25|[h1-1882304250906...|\n",
      "|2023-04-25 09:38:03|7828137978712153571|1682390243503|h3-18823042507090...|          0|2023-04-25|[h3-1882304250709...|\n",
      "|2023-04-25 09:46:03|3323907591906394792|1682390760854|cf_home_focus-188...|          0|2023-04-25|[cf_home_focus-18...|\n",
      "|2023-04-25 09:45:59|7270078241906368517|1682388802464|cf_home_boxcate31...|          0|2023-04-25|[cf_home_boxcate3...|\n",
      "+-------------------+-------------------+-------------+--------------------+-----------+----------+--------------------+\n",
      "only showing top 20 rows\n",
      "\n"
     ]
    }
   ],
   "source": [
    "df_tl.show()"
   ]
  },
  {
   "cell_type": "markdown",
   "id": "969c4a2f-5714-4d66-976e-bb73e166e1d6",
   "metadata": {},
   "source": [
    "## Approach 2"
   ]
  },
  {
   "cell_type": "code",
   "execution_count": 1,
   "id": "a20ba389-a0f7-4c2a-88da-e99ab0e4db75",
   "metadata": {
    "tags": []
   },
   "outputs": [],
   "source": [
    "import os\n",
    "from pyspark import SparkConf, SparkContext\n",
    "from pyspark.sql import SparkSession\n",
    "from datetime import datetime\n",
    "from pyspark.sql.functions import *"
   ]
  },
  {
   "cell_type": "code",
   "execution_count": 2,
   "id": "f63153bb-664a-4880-aced-a6e7db677fbc",
   "metadata": {
    "tags": []
   },
   "outputs": [],
   "source": [
    "from pyspark.sql import DataFrame\n",
    "from pyspark.sql import functions as F\n",
    "from pyspark.sql.window import Window"
   ]
  },
  {
   "cell_type": "code",
   "execution_count": 3,
   "id": "ba8a4117-ad9f-4ad2-95dc-65578b6f8551",
   "metadata": {
    "tags": []
   },
   "outputs": [],
   "source": [
    "from pyspark.sql.types import ArrayType, LongType, StringType, IntegerType"
   ]
  },
  {
   "cell_type": "code",
   "execution_count": 4,
   "id": "20ee468b-ea21-4568-8fc5-6adc075698f6",
   "metadata": {
    "tags": []
   },
   "outputs": [
    {
     "name": "stderr",
     "output_type": "stream",
     "text": [
      "Setting default log level to \"WARN\".\n",
      "To adjust logging level use sc.setLogLevel(newLevel). For SparkR, use setLogLevel(newLevel).\n",
      "23/07/29 11:12:16 WARN NativeCodeLoader: Unable to load native-hadoop library for your platform... using builtin-java classes where applicable\n",
      "23/07/29 11:12:17 WARN Utils: Service 'SparkUI' could not bind on port 4040. Attempting port 4041.\n"
     ]
    }
   ],
   "source": [
    "# from config import JAVA_HOME\n",
    "\n",
    "# os.environ[\"JAVA_HOME\"] = JAVA_HOME\n",
    "# os.environ[\"PATH\"] = f\"{os.environ['PATH']}:{JAVA_HOME}/bin\"\n",
    "\n",
    "import os\n",
    "os.environ['PYSPARK_PYTHON'] = '/data2/nghiatl/anaconda3/envs/SEO/bin/python'\n",
    "os.environ['PYSPARK_DRIVER_PYTHON'] = '/data2/nghiatl/anaconda3/envs/SEO/bin/python'\n",
    "\n",
    "CONF: SparkConf = SparkConf().setAppName(\"Save log data\").setMaster(\"local\").set('spark.executor.memory', '20gb').set(\"spark.driver.memory\", \"10g\")\n",
    "SPARK_CONTEXT: SparkContext = SparkContext(conf=CONF)\n",
    "SPARK_CONTEXT.setLogLevel(\"WARN\")\n",
    "SPARK_SESSION: SparkSession = SparkSession(sparkContext=SPARK_CONTEXT)"
   ]
  },
  {
   "cell_type": "code",
   "execution_count": 5,
   "id": "d972ce1a-5e31-4c10-81dd-5e8e86dbffe3",
   "metadata": {
    "tags": []
   },
   "outputs": [
    {
     "data": {
      "text/html": [
       "\n",
       "            <div>\n",
       "                <p><b>SparkSession - in-memory</b></p>\n",
       "                \n",
       "        <div>\n",
       "            <p><b>SparkContext</b></p>\n",
       "\n",
       "            <p><a href=\"http://adt-sys-gpu-cloud-1-230:4041\">Spark UI</a></p>\n",
       "\n",
       "            <dl>\n",
       "              <dt>Version</dt>\n",
       "                <dd><code>v3.3.2</code></dd>\n",
       "              <dt>Master</dt>\n",
       "                <dd><code>local</code></dd>\n",
       "              <dt>AppName</dt>\n",
       "                <dd><code>Save log data</code></dd>\n",
       "            </dl>\n",
       "        </div>\n",
       "        \n",
       "            </div>\n",
       "        "
      ],
      "text/plain": [
       "<pyspark.sql.session.SparkSession at 0x7fc038418460>"
      ]
     },
     "execution_count": 5,
     "metadata": {},
     "output_type": "execute_result"
    }
   ],
   "source": [
    "SPARK_SESSION"
   ]
  },
  {
   "cell_type": "code",
   "execution_count": 27,
   "id": "1e7962f3-8211-4743-8bbd-c639cb71154e",
   "metadata": {
    "tags": []
   },
   "outputs": [
    {
     "name": "stdout",
     "output_type": "stream",
     "text": [
      "2023-07-27 00:00:00\n",
      "23/07/28 18:07:08 WARN FileStreamSink: Assume no metadata directory. Error while looking for metadata directory in the path: hdfs://10.3.71.86:8020/Data/Logging/AdTrackingLinks/2023-07-27/*.parquet.\n",
      "org.apache.hadoop.ipc.RemoteException(org.apache.hadoop.ipc.StandbyException): Operation category READ is not supported in state standby. Visit https://s.apache.org/sbnn-error\n",
      "\tat org.apache.hadoop.hdfs.server.namenode.ha.StandbyState.checkOperation(StandbyState.java:88)\n",
      "\tat org.apache.hadoop.hdfs.server.namenode.NameNode$NameNodeHAContext.checkOperation(NameNode.java:1954)\n",
      "\tat org.apache.hadoop.hdfs.server.namenode.FSNamesystem.checkOperation(FSNamesystem.java:1442)\n",
      "\tat org.apache.hadoop.hdfs.server.namenode.FSNamesystem.getFileInfo(FSNamesystem.java:3165)\n",
      "\tat org.apache.hadoop.hdfs.server.namenode.NameNodeRpcServer.getFileInfo(NameNodeRpcServer.java:1155)\n",
      "\tat org.apache.hadoop.hdfs.protocolPB.ClientNamenodeProtocolServerSideTranslatorPB.getFileInfo(ClientNamenodeProtocolServerSideTranslatorPB.java:972)\n",
      "\tat org.apache.hadoop.hdfs.protocol.proto.ClientNamenodeProtocolProtos$ClientNamenodeProtocol$2.callBlockingMethod(ClientNamenodeProtocolProtos.java)\n",
      "\tat org.apache.hadoop.ipc.ProtobufRpcEngine$Server$ProtoBufRpcInvoker.call(ProtobufRpcEngine.java:524)\n",
      "\tat org.apache.hadoop.ipc.RPC$Server.call(RPC.java:1025)\n",
      "\tat org.apache.hadoop.ipc.Server$RpcCall.run(Server.java:876)\n",
      "\tat org.apache.hadoop.ipc.Server$RpcCall.run(Server.java:822)\n",
      "\tat java.security.AccessController.doPrivileged(Native Method)\n",
      "\tat javax.security.auth.Subject.doAs(Subject.java:422)\n",
      "\tat org.apache.hadoop.security.UserGroupInformation.doAs(UserGroupInformation.java:1730)\n",
      "\tat org.apache.hadoop.ipc.Server$Handler.run(Server.java:2682)\n",
      "\n",
      "\tat org.apache.hadoop.ipc.Client.getRpcResponse(Client.java:1612)\n",
      "\tat org.apache.hadoop.ipc.Client.call(Client.java:1558)\n",
      "\tat org.apache.hadoop.ipc.Client.call(Client.java:1455)\n",
      "\tat org.apache.hadoop.ipc.ProtobufRpcEngine2$Invoker.invoke(ProtobufRpcEngine2.java:242)\n",
      "\tat org.apache.hadoop.ipc.ProtobufRpcEngine2$Invoker.invoke(ProtobufRpcEngine2.java:129)\n",
      "\tat com.sun.proxy.$Proxy34.getFileInfo(Unknown Source)\n",
      "\tat org.apache.hadoop.hdfs.protocolPB.ClientNamenodeProtocolTranslatorPB.getFileInfo(ClientNamenodeProtocolTranslatorPB.java:965)\n",
      "\tat sun.reflect.GeneratedMethodAccessor42.invoke(Unknown Source)\n",
      "\tat sun.reflect.DelegatingMethodAccessorImpl.invoke(DelegatingMethodAccessorImpl.java:43)\n",
      "\tat java.lang.reflect.Method.invoke(Method.java:498)\n",
      "\tat org.apache.hadoop.io.retry.RetryInvocationHandler.invokeMethod(RetryInvocationHandler.java:422)\n",
      "\tat org.apache.hadoop.io.retry.RetryInvocationHandler$Call.invokeMethod(RetryInvocationHandler.java:165)\n",
      "\tat org.apache.hadoop.io.retry.RetryInvocationHandler$Call.invoke(RetryInvocationHandler.java:157)\n",
      "\tat org.apache.hadoop.io.retry.RetryInvocationHandler$Call.invokeOnce(RetryInvocationHandler.java:95)\n",
      "\tat org.apache.hadoop.io.retry.RetryInvocationHandler.invoke(RetryInvocationHandler.java:359)\n",
      "\tat com.sun.proxy.$Proxy35.getFileInfo(Unknown Source)\n",
      "\tat org.apache.hadoop.hdfs.DFSClient.getFileInfo(DFSClient.java:1739)\n",
      "\tat org.apache.hadoop.hdfs.DistributedFileSystem$29.doCall(DistributedFileSystem.java:1753)\n",
      "\tat org.apache.hadoop.hdfs.DistributedFileSystem$29.doCall(DistributedFileSystem.java:1750)\n",
      "\tat org.apache.hadoop.fs.FileSystemLinkResolver.resolve(FileSystemLinkResolver.java:81)\n",
      "\tat org.apache.hadoop.hdfs.DistributedFileSystem.getFileStatus(DistributedFileSystem.java:1765)\n",
      "\tat org.apache.hadoop.fs.FileSystem.isDirectory(FileSystem.java:1777)\n",
      "\tat org.apache.spark.sql.execution.streaming.FileStreamSink$.hasMetadata(FileStreamSink.scala:54)\n",
      "\tat org.apache.spark.sql.execution.datasources.DataSource.resolveRelation(DataSource.scala:370)\n",
      "\tat org.apache.spark.sql.DataFrameReader.loadV1Source(DataFrameReader.scala:228)\n",
      "\tat org.apache.spark.sql.DataFrameReader.$anonfun$load$2(DataFrameReader.scala:210)\n",
      "\tat scala.Option.getOrElse(Option.scala:189)\n",
      "\tat org.apache.spark.sql.DataFrameReader.load(DataFrameReader.scala:210)\n",
      "\tat org.apache.spark.sql.DataFrameReader.parquet(DataFrameReader.scala:562)\n",
      "\tat sun.reflect.NativeMethodAccessorImpl.invoke0(Native Method)\n",
      "\tat sun.reflect.NativeMethodAccessorImpl.invoke(NativeMethodAccessorImpl.java:62)\n",
      "\tat sun.reflect.DelegatingMethodAccessorImpl.invoke(DelegatingMethodAccessorImpl.java:43)\n",
      "\tat java.lang.reflect.Method.invoke(Method.java:498)\n",
      "\tat py4j.reflection.MethodInvoker.invoke(MethodInvoker.java:244)\n",
      "\tat py4j.reflection.ReflectionEngine.invoke(ReflectionEngine.java:357)\n",
      "\tat py4j.Gateway.invoke(Gateway.java:282)\n",
      "\tat py4j.commands.AbstractCommand.invokeMethod(AbstractCommand.java:132)\n",
      "\tat py4j.commands.CallCommand.execute(CallCommand.java:79)\n",
      "\tat py4j.ClientServerConnection.waitForCommands(ClientServerConnection.java:182)\n",
      "\tat py4j.ClientServerConnection.run(ClientServerConnection.java:106)\n",
      "\tat java.lang.Thread.run(Thread.java:748)\n"
     ]
    },
    {
     "name": "stderr",
     "output_type": "stream",
     "text": [
      "                                                                                \r"
     ]
    }
   ],
   "source": [
    "domain =  'cafef'\n",
    "base_filter=((F.col('domain')== f'{domain}.vn') & (F.col('guid')!='-1') & (F.col('itemsBox').isNotNull()))\n",
    "day = datetime(2023, 7, 27)\n",
    "dt = day.date()\n",
    "print(day)\n",
    "day_str: str = day.strftime('%Y-%m-%d')\n",
    "try:\n",
    "        df: DataFrame = SPARK_SESSION.read.parquet(f\"hdfs://10.3.71.86:8020/Data/Logging/AdTrackingLinks/{day_str}/*.parquet\").where(base_filter).withColumn('date', F.lit(dt))\n",
    "except:\n",
    "        df: DataFrame = SPARK_SESSION.read.parquet(f\"hdfs://10.3.71.234:8020/Data/Logging/AdTrackingLinks/{day_str}/*.parquet\").where(base_filter).withColumn('date', F.lit(dt))"
   ]
  },
  {
   "cell_type": "code",
   "execution_count": 28,
   "id": "f8abf603-e7af-48c4-86d0-d55d3e8f7b43",
   "metadata": {
    "tags": []
   },
   "outputs": [
    {
     "name": "stderr",
     "output_type": "stream",
     "text": [
      "[Stage 26:>                                                         (0 + 1) / 1]\r"
     ]
    },
    {
     "name": "stdout",
     "output_type": "stream",
     "text": [
      "+-------------------+-------------------+-------------------+--------------------+--------+--------------------+-----------------+-------------+-------+-----------+-------+-------------+--------------------+---+--------------------+----------+\n",
      "|                 dt|         cookietime|               guid|            itemsBox|  domain|                path|         fullPath|           ip|ipChain|clickOrView|referer|   pageloadId|                 f13|f14|         domain_guid|      date|\n",
      "+-------------------+-------------------+-------------------+--------------------+--------+--------------------+-----------------+-------------+-------+-----------+-------+-------------+--------------------+---+--------------------+----------+\n",
      "|2023-07-27 11:24:12|2023-07-27 11:22:45|4604317651984264192|h3-18823072709441...|cafef.vn|                   /|https://cafef.vn/| 118.69.120.0|       |          0|       |1690431764706|01H6ASE4985P4FD1W...|  1|9bda46222dde7c280...|2023-07-27|\n",
      "|2023-07-27 11:23:24|2023-06-26 17:50:19|3687776619234886302|h3-18823072607404...|cafef.vn|/thi-truong-chung...|https://cafef.vn/|  14.0.20.158|       |          0|       |1690428383700|01H6ASCNGH40PHW79...|  1|31693c3086e4672e0...|2023-07-27|\n",
      "|2023-07-27 11:23:42|2023-06-11 12:55:39|6664629391952897466|1124_178-cf_cate_...|cafef.vn|   /bat-dong-san.chn|https://cafef.vn/| 27.77.248.65|       |          1|       |1690431780586|01H6ASD7280CHADDK...|  1|d94a63e987afe3a11...|2023-07-27|\n",
      "|2023-07-27 11:23:48|2022-12-06 15:38:03|3003158833419218740|h3-18823072618451...|cafef.vn|/thi-truong-chung...|https://cafef.vn/|203.205.35.52|       |          0|       |1690431718688|01H6ASDCGT8TC3JHJ...|  1|173e4e78d18a9f9e0...|2023-07-27|\n",
      "|2023-07-27 11:23:50|2022-10-25 16:53:12|8966691592245440890|h3-18823072617055...|cafef.vn|/thi-truong-chung...|https://cafef.vn/|115.79.199.74|       |          0|       |1690430853909|01H6ASDEB2V56TAEN...|  1|cc4988758bb737341...|2023-07-27|\n",
      "+-------------------+-------------------+-------------------+--------------------+--------+--------------------+-----------------+-------------+-------+-----------+-------+-------------+--------------------+---+--------------------+----------+\n",
      "only showing top 5 rows\n",
      "\n"
     ]
    },
    {
     "name": "stderr",
     "output_type": "stream",
     "text": [
      "                                                                                \r"
     ]
    }
   ],
   "source": [
    "df.show(n=5)"
   ]
  },
  {
   "cell_type": "code",
   "execution_count": 29,
   "id": "8ee2d8ab-db33-442d-a2de-c22cd0b58736",
   "metadata": {
    "tags": []
   },
   "outputs": [
    {
     "name": "stdout",
     "output_type": "stream",
     "text": [
      "+-------------------+-------------------+--------------------+--------+-----------+----------+\n",
      "|                 dt|               guid|            itemsBox|  domain|clickOrView|      date|\n",
      "+-------------------+-------------------+--------------------+--------+-----------+----------+\n",
      "|2023-07-27 11:24:12|4604317651984264192|h3-18823072709441...|cafef.vn|          0|2023-07-27|\n",
      "|2023-07-27 11:23:24|3687776619234886302|h3-18823072607404...|cafef.vn|          0|2023-07-27|\n",
      "|2023-07-27 11:23:42|6664629391952897466|1124_178-cf_cate_...|cafef.vn|          1|2023-07-27|\n",
      "|2023-07-27 11:23:48|3003158833419218740|h3-18823072618451...|cafef.vn|          0|2023-07-27|\n",
      "|2023-07-27 11:23:50|8966691592245440890|h3-18823072617055...|cafef.vn|          0|2023-07-27|\n",
      "+-------------------+-------------------+--------------------+--------+-----------+----------+\n",
      "only showing top 5 rows\n",
      "\n"
     ]
    }
   ],
   "source": [
    "selects=['dt','guid','itemsBox', 'domain','clickOrView','date']\n",
    "df = df.select(selects)\n",
    "df.show(5)"
   ]
  },
  {
   "cell_type": "code",
   "execution_count": 38,
   "id": "5694b00a-696e-48ea-b4b9-7a342c541d98",
   "metadata": {},
   "outputs": [],
   "source": [
    "# t_df = process_df(df)\n",
    "# t_df.show(5)"
   ]
  },
  {
   "cell_type": "code",
   "execution_count": 5,
   "id": "1c02577f-7a9e-4704-8385-3adaa17b9aaf",
   "metadata": {
    "tags": []
   },
   "outputs": [
    {
     "data": {
      "text/plain": [
       "datetime.date(2023, 7, 26)"
      ]
     },
     "execution_count": 5,
     "metadata": {},
     "output_type": "execute_result"
    }
   ],
   "source": [
    "import pandas as pd\n",
    "\n",
    "std = '2023-07-26'\n",
    "end = '2023-07-26'\n",
    "date_time_indexes = pd.date_range(std, end)\n",
    "date_time_indexes\n",
    "date_time_indexes[0].date()"
   ]
  },
  {
   "cell_type": "code",
   "execution_count": 6,
   "id": "d598cec4-e68e-445b-964a-a86472ec8622",
   "metadata": {
    "tags": []
   },
   "outputs": [
    {
     "data": {
      "text/plain": [
       "'2023-07-26'"
      ]
     },
     "execution_count": 6,
     "metadata": {},
     "output_type": "execute_result"
    }
   ],
   "source": [
    "str(date_time_indexes[0].date())"
   ]
  },
  {
   "cell_type": "code",
   "execution_count": 7,
   "id": "28859512-d39b-4dbb-aa06-16d4ecdd97a8",
   "metadata": {},
   "outputs": [],
   "source": [
    "# df = get_single_spark_df(str(date_time_indexes[0].date()), selects=selects)\n",
    "# df.show(5)"
   ]
  },
  {
   "cell_type": "code",
   "execution_count": 8,
   "id": "21a8983d-ed64-409c-a1cd-82b25a3a0fcc",
   "metadata": {
    "tags": []
   },
   "outputs": [],
   "source": [
    "selects=['dt','guid','itemsBox', 'domain','clickOrView','date']\n",
    "\n",
    "def get_single_spark_df(dt, base_filter=None, selects=None):\n",
    "    day_str = str(dt)\n",
    "    domain = 'cafef'\n",
    "    base_filter=((F.col('domain')== f'{domain}.vn') & (F.col('guid')!='-1') & (F.col('itemsBox').isNotNull()))\n",
    "    \n",
    "    try:\n",
    "        df: DataFrame = SPARK_SESSION.read.parquet(f\"hdfs://10.3.71.86:8020/Data/Logging/AdTrackingLinks/{day_str}/*.parquet\").where(base_filter).withColumn('date', F.lit(dt))\n",
    "    except:\n",
    "        df: DataFrame = SPARK_SESSION.read.parquet(f\"hdfs://10.3.71.234:8020/Data/Logging/AdTrackingLinks/{day_str}/*.parquet\").where(base_filter).withColumn('date', F.lit(dt))\n",
    "    if selects != None:\n",
    "        df = df.select(selects)\n",
    "    return df\n",
    "\n",
    "# def get_within(dt):\n",
    "#         return get_single_spark_df(dt)\n",
    "    \n",
    "def get_spark_df(date_time_indexes, filters=None, selects=None):\n",
    "\n",
    "    df = get_single_spark_df(dt=str(date_time_indexes[0].date()), selects=selects)\n",
    "    df = process_df(df)\n",
    "    for i in range(1, len(date_time_indexes)):\n",
    "        df_dt = get_single_spark_df(dt=str(date_time_indexes[i].date()), selects=selects)\n",
    "        df_dt = process_df(df_dt)\n",
    "        df = df.union(df_dt)\n",
    "\n",
    "    return df"
   ]
  },
  {
   "cell_type": "code",
   "execution_count": 11,
   "id": "7f743677-17cf-4b68-a1c8-2377e3c1daaf",
   "metadata": {
    "tags": []
   },
   "outputs": [],
   "source": [
    "import ast\n",
    "from pyspark.sql.functions import expr\n",
    "from pyspark.sql.functions import to_timestamp\n",
    "from pyspark.sql.functions import concat_ws\n",
    "import re\n",
    "from pyspark.sql.types import StringType\n",
    "from pyspark.sql.functions import col, flatten\n",
    "\n",
    "domain = 'cafef'\n",
    "def convert_candidate_news(candidate_news):\n",
    "    candidate_news = re.sub(r'[\\]\\[]','',candidate_news).split(',')\n",
    "    candidate_news = [element.strip() for element in candidate_news[:4]]\n",
    "    \n",
    "    return ' '.join(candidate_news)\n",
    "\n",
    "def split_list(item_list):\n",
    "    convert_list = [l[0] for l in item_list]\n",
    "    \n",
    "    return convert_list\n",
    "\n",
    "def extract_item_ids(items_box):\n",
    "    item_ids = items_box.split(\",\")\n",
    "    item_ids = [int(item_id.split(\"-\")[-1].strip()) for item_id in item_ids if item_id.split(\"-\")[-1].strip() != '']\n",
    "    # print(item_ids)\n",
    "    return item_ids\n",
    "\n",
    "def process_df(filtered_df= None):\n",
    "    extract_item_ids_udf = F.udf(extract_item_ids, ArrayType(LongType()))\n",
    "    filtered_df = filtered_df.withColumn(\"itemIDs\", extract_item_ids_udf(\"itemsBox\"))\n",
    "    filtered_df_click_0 = filtered_df.filter(filtered_df.clickOrView == 0)\n",
    "    filtered_df_click_1 = filtered_df.filter(filtered_df.clickOrView == 1)\n",
    "    # # Define a window partitioned by guid and sorted by dt\n",
    "    window = Window.partitionBy(\"guid\").orderBy(\"dt\")\n",
    "\n",
    "    # # Create a column containing the sorted list of itemIDs for each guid\n",
    "    grouped_df = filtered_df_click_1.withColumn(\"sorted_itemIDs\", F.collect_list(\"itemIDs\").over(window))\n",
    "    \n",
    "    split_list_df = F.udf(split_list, ArrayType(LongType()))\n",
    "    grouped_df = grouped_df.withColumn(\"sorted_itemIDs\", split_list_df(\"sorted_itemIDs\"))\n",
    "    grouped_df = grouped_df.filter(F.size(grouped_df['sorted_itemIDs']) > 1)\n",
    "    # Calculate the maximum length of sorted_itemIDs for each guid\n",
    "    max_length_df = grouped_df.groupBy(\"guid\").agg(F.max(F.size(\"sorted_itemIDs\")).alias(\"max_length\"))\n",
    "\n",
    "    # Join with the original DataFrame to filter out rows with other lengths\n",
    "    grouped_df = grouped_df.join(max_length_df, [\"guid\"]).filter(F.size(\"sorted_itemIDs\") == F.col(\"max_length\"))\n",
    "\n",
    "    # Drop the max_length column if desired\n",
    "    grouped_df = grouped_df.drop(\"max_length\")\n",
    "\n",
    "    # Extract the last element of sorted_itemIDs\n",
    "    last_element = F.expr(\"sorted_itemIDs[size(sorted_itemIDs) - 1]\")\n",
    "\n",
    "    # Add the last element to a new column called candidate_news\n",
    "    grouped_df = grouped_df.withColumn(\"candidate_news\", last_element)\n",
    "\n",
    "    grouped_df = grouped_df.withColumn(\"sorted_itemIDs\", F.expr(\"slice(sorted_itemIDs, 1, size(sorted_itemIDs) - 1)\"))\n",
    "    \n",
    "    grouped_df = grouped_df.withColumnRenamed(\"sorted_itemIDs\", \"clicked_news\")\n",
    "    \n",
    "    new_column_names = ['click_0_' + col for col in filtered_df_click_0.columns]\n",
    "    df_renamed_click_0 = filtered_df_click_0.toDF(*new_column_names)\n",
    "    \n",
    "    # Perform the join operation with the additional condition on dt\n",
    "    df_updated = grouped_df.join(df_renamed_click_0, (grouped_df[\"guid\"] == df_renamed_click_0[\"click_0_guid\"]), \"left\")\n",
    "\n",
    "    # Convert the string columns to timestamp\n",
    "    df_updated = df_updated.withColumn('dt', to_timestamp('dt'))\n",
    "    df_updated = df_updated.withColumn('click_0_dt', to_timestamp('click_0_dt'))\n",
    "\n",
    "    # Filter the DataFrame based on the condition\n",
    "    df_updated = df_updated.filter(df_updated.dt < df_updated.click_0_dt)\n",
    "    df_updated = df_updated.filter(\n",
    "        expr(\"dt + interval 1 hour >= click_0_dt\")\n",
    "    )\n",
    "\n",
    "    # Group by 'guid' and concatenate 'click_0_itemIDs'\n",
    "    # df_updated = df_updated.groupBy('guid').agg(concat_ws(',', collect_list('click_0_itemIDs')).alias('candidate_news'), first('click_0_dt').alias('click_0_dt'), first('dt').alias('dt'))\n",
    "    df_updated = df_updated.groupBy('guid').agg(first('dt').alias('dt'), first('guid').alias('user'), first('clicked_news').alias('clicked_news'), collect_list('click_0_itemIDs').alias('click_0_itemIDs'), first('candidate_news').alias('candidate_news'))\n",
    "    df_updated = df_updated.withColumn('click_0_itemIDs', flatten(col('click_0_itemIDs')))\n",
    "    df_updated = df_updated.withColumn(\"dt\", col(\"dt\").cast(\"string\"))\n",
    "    \n",
    "    return df_updated"
   ]
  },
  {
   "cell_type": "code",
   "execution_count": 12,
   "id": "1a266824-cd66-45d9-a676-5b4b427e1d01",
   "metadata": {},
   "outputs": [
    {
     "name": "stderr",
     "output_type": "stream",
     "text": [
      "23/07/29 11:12:37 WARN FileStreamSink: Assume no metadata directory. Error while looking for metadata directory in the path: hdfs://10.3.71.86:8020/Data/Logging/AdTrackingLinks/2023-07-26/*.parquet.\n",
      "org.apache.hadoop.ipc.RemoteException(org.apache.hadoop.ipc.StandbyException): Operation category READ is not supported in state standby. Visit https://s.apache.org/sbnn-error\n",
      "\tat org.apache.hadoop.hdfs.server.namenode.ha.StandbyState.checkOperation(StandbyState.java:88)\n",
      "\tat org.apache.hadoop.hdfs.server.namenode.NameNode$NameNodeHAContext.checkOperation(NameNode.java:1954)\n",
      "\tat org.apache.hadoop.hdfs.server.namenode.FSNamesystem.checkOperation(FSNamesystem.java:1442)\n",
      "\tat org.apache.hadoop.hdfs.server.namenode.FSNamesystem.getFileInfo(FSNamesystem.java:3165)\n",
      "\tat org.apache.hadoop.hdfs.server.namenode.NameNodeRpcServer.getFileInfo(NameNodeRpcServer.java:1155)\n",
      "\tat org.apache.hadoop.hdfs.protocolPB.ClientNamenodeProtocolServerSideTranslatorPB.getFileInfo(ClientNamenodeProtocolServerSideTranslatorPB.java:972)\n",
      "\tat org.apache.hadoop.hdfs.protocol.proto.ClientNamenodeProtocolProtos$ClientNamenodeProtocol$2.callBlockingMethod(ClientNamenodeProtocolProtos.java)\n",
      "\tat org.apache.hadoop.ipc.ProtobufRpcEngine$Server$ProtoBufRpcInvoker.call(ProtobufRpcEngine.java:524)\n",
      "\tat org.apache.hadoop.ipc.RPC$Server.call(RPC.java:1025)\n",
      "\tat org.apache.hadoop.ipc.Server$RpcCall.run(Server.java:876)\n",
      "\tat org.apache.hadoop.ipc.Server$RpcCall.run(Server.java:822)\n",
      "\tat java.security.AccessController.doPrivileged(Native Method)\n",
      "\tat javax.security.auth.Subject.doAs(Subject.java:422)\n",
      "\tat org.apache.hadoop.security.UserGroupInformation.doAs(UserGroupInformation.java:1730)\n",
      "\tat org.apache.hadoop.ipc.Server$Handler.run(Server.java:2682)\n",
      "\n",
      "\tat org.apache.hadoop.ipc.Client.getRpcResponse(Client.java:1612)\n",
      "\tat org.apache.hadoop.ipc.Client.call(Client.java:1558)\n",
      "\tat org.apache.hadoop.ipc.Client.call(Client.java:1455)\n",
      "\tat org.apache.hadoop.ipc.ProtobufRpcEngine2$Invoker.invoke(ProtobufRpcEngine2.java:242)\n",
      "\tat org.apache.hadoop.ipc.ProtobufRpcEngine2$Invoker.invoke(ProtobufRpcEngine2.java:129)\n",
      "\tat com.sun.proxy.$Proxy34.getFileInfo(Unknown Source)\n",
      "\tat org.apache.hadoop.hdfs.protocolPB.ClientNamenodeProtocolTranslatorPB.getFileInfo(ClientNamenodeProtocolTranslatorPB.java:965)\n",
      "\tat sun.reflect.NativeMethodAccessorImpl.invoke0(Native Method)\n",
      "\tat sun.reflect.NativeMethodAccessorImpl.invoke(NativeMethodAccessorImpl.java:62)\n",
      "\tat sun.reflect.DelegatingMethodAccessorImpl.invoke(DelegatingMethodAccessorImpl.java:43)\n",
      "\tat java.lang.reflect.Method.invoke(Method.java:498)\n",
      "\tat org.apache.hadoop.io.retry.RetryInvocationHandler.invokeMethod(RetryInvocationHandler.java:422)\n",
      "\tat org.apache.hadoop.io.retry.RetryInvocationHandler$Call.invokeMethod(RetryInvocationHandler.java:165)\n",
      "\tat org.apache.hadoop.io.retry.RetryInvocationHandler$Call.invoke(RetryInvocationHandler.java:157)\n",
      "\tat org.apache.hadoop.io.retry.RetryInvocationHandler$Call.invokeOnce(RetryInvocationHandler.java:95)\n",
      "\tat org.apache.hadoop.io.retry.RetryInvocationHandler.invoke(RetryInvocationHandler.java:359)\n",
      "\tat com.sun.proxy.$Proxy35.getFileInfo(Unknown Source)\n",
      "\tat org.apache.hadoop.hdfs.DFSClient.getFileInfo(DFSClient.java:1739)\n",
      "\tat org.apache.hadoop.hdfs.DistributedFileSystem$29.doCall(DistributedFileSystem.java:1753)\n",
      "\tat org.apache.hadoop.hdfs.DistributedFileSystem$29.doCall(DistributedFileSystem.java:1750)\n",
      "\tat org.apache.hadoop.fs.FileSystemLinkResolver.resolve(FileSystemLinkResolver.java:81)\n",
      "\tat org.apache.hadoop.hdfs.DistributedFileSystem.getFileStatus(DistributedFileSystem.java:1765)\n",
      "\tat org.apache.hadoop.fs.FileSystem.isDirectory(FileSystem.java:1777)\n",
      "\tat org.apache.spark.sql.execution.streaming.FileStreamSink$.hasMetadata(FileStreamSink.scala:54)\n",
      "\tat org.apache.spark.sql.execution.datasources.DataSource.resolveRelation(DataSource.scala:366)\n",
      "\tat org.apache.spark.sql.DataFrameReader.loadV1Source(DataFrameReader.scala:229)\n",
      "\tat org.apache.spark.sql.DataFrameReader.$anonfun$load$2(DataFrameReader.scala:211)\n",
      "\tat scala.Option.getOrElse(Option.scala:189)\n",
      "\tat org.apache.spark.sql.DataFrameReader.load(DataFrameReader.scala:211)\n",
      "\tat org.apache.spark.sql.DataFrameReader.parquet(DataFrameReader.scala:563)\n",
      "\tat sun.reflect.NativeMethodAccessorImpl.invoke0(Native Method)\n",
      "\tat sun.reflect.NativeMethodAccessorImpl.invoke(NativeMethodAccessorImpl.java:62)\n",
      "\tat sun.reflect.DelegatingMethodAccessorImpl.invoke(DelegatingMethodAccessorImpl.java:43)\n",
      "\tat java.lang.reflect.Method.invoke(Method.java:498)\n",
      "\tat py4j.reflection.MethodInvoker.invoke(MethodInvoker.java:244)\n",
      "\tat py4j.reflection.ReflectionEngine.invoke(ReflectionEngine.java:374)\n",
      "\tat py4j.Gateway.invoke(Gateway.java:282)\n",
      "\tat py4j.commands.AbstractCommand.invokeMethod(AbstractCommand.java:132)\n",
      "\tat py4j.commands.CallCommand.execute(CallCommand.java:79)\n",
      "\tat py4j.ClientServerConnection.waitForCommands(ClientServerConnection.java:182)\n",
      "\tat py4j.ClientServerConnection.run(ClientServerConnection.java:106)\n",
      "\tat java.lang.Thread.run(Thread.java:748)\n",
      "[Stage 17:>                                                         (0 + 1) / 1]\r"
     ]
    },
    {
     "name": "stdout",
     "output_type": "stream",
     "text": [
      "+-------------------+-------------------+-------------------+--------------------+--------------------+------------------+\n",
      "|               guid|                 dt|               user|        clicked_news|     click_0_itemIDs|    candidate_news|\n",
      "+-------------------+-------------------+-------------------+--------------------+--------------------+------------------+\n",
      "|1000401823245443291|2023-07-26 12:46:53|1000401823245443291|[188230725090309164]|[1882307261006041...|188230726100604107|\n",
      "|1001293083419217013|2023-07-26 10:56:39|1001293083419217013|[188230726094147663]|[1882307220935208...|188230726092636215|\n",
      "|1001607571953058600|2023-07-26 16:22:05|1001607571953058600|[1882307251539528...|[1882307261039100...|188230726161009102|\n",
      "|1001674281934610744|2023-07-26 13:27:35|1001674281934610744|[1882307260704151...|[1882307240628188...|188230726111348694|\n",
      "|1001683581984332176|2023-07-26 11:32:13|1001683581984332176|[188230726111348694]|[1882307261113486...|188230726111348694|\n",
      "+-------------------+-------------------+-------------------+--------------------+--------------------+------------------+\n",
      "only showing top 5 rows\n",
      "\n"
     ]
    },
    {
     "name": "stderr",
     "output_type": "stream",
     "text": [
      "                                                                                \r"
     ]
    }
   ],
   "source": [
    "df = get_spark_df(date_time_indexes)\n",
    "df.show(5)"
   ]
  },
  {
   "cell_type": "code",
   "execution_count": 13,
   "id": "6686f9f3-8eea-44aa-be90-bf29f3c51a03",
   "metadata": {},
   "outputs": [
    {
     "name": "stderr",
     "output_type": "stream",
     "text": [
      "                                                                                \r"
     ]
    },
    {
     "name": "stdout",
     "output_type": "stream",
     "text": [
      "+----+---+----+------------+---------------+--------------+\n",
      "|guid| dt|user|clicked_news|click_0_itemIDs|candidate_news|\n",
      "+----+---+----+------------+---------------+--------------+\n",
      "+----+---+----+------------+---------------+--------------+\n",
      "\n"
     ]
    }
   ],
   "source": [
    "df.where(col('dt').isNull()).show()"
   ]
  },
  {
   "cell_type": "code",
   "execution_count": 14,
   "id": "200950f8-1beb-4149-9e4f-3bf5c2909678",
   "metadata": {},
   "outputs": [
    {
     "name": "stdout",
     "output_type": "stream",
     "text": [
      "root\n",
      " |-- guid: string (nullable = true)\n",
      " |-- dt: timestamp (nullable = true)\n",
      " |-- user: string (nullable = true)\n",
      " |-- clicked_news: array (nullable = true)\n",
      " |    |-- element: long (containsNull = true)\n",
      " |-- click_0_itemIDs: array (nullable = false)\n",
      " |    |-- element: long (containsNull = true)\n",
      " |-- candidate_news: long (nullable = true)\n",
      "\n"
     ]
    }
   ],
   "source": [
    "df.printSchema()"
   ]
  },
  {
   "cell_type": "code",
   "execution_count": 24,
   "id": "fab07152-0027-4c8c-913e-8728e5e67e72",
   "metadata": {},
   "outputs": [
    {
     "name": "stderr",
     "output_type": "stream",
     "text": [
      "[Stage 61:>                                                         (0 + 1) / 1]\r"
     ]
    },
    {
     "name": "stdout",
     "output_type": "stream",
     "text": [
      "+-------------------+-------------------+-------------------+--------------------+--------------------+------------------+\n",
      "|               guid|                 dt|               user|        clicked_news|     click_0_itemIDs|    candidate_news|\n",
      "+-------------------+-------------------+-------------------+--------------------+--------------------+------------------+\n",
      "|1000401823245443291|2023-07-26 12:46:53|1000401823245443291|[188230725090309164]|[1882307261006041...|188230726100604107|\n",
      "|1001293083419217013|2023-07-26 10:56:39|1001293083419217013|[188230726094147663]|[1882307220935208...|188230726092636215|\n",
      "|1001607571953058600|2023-07-26 16:22:05|1001607571953058600|[1882307251539528...|[1882307261039100...|188230726161009102|\n",
      "|1001674281934610744|2023-07-26 13:27:35|1001674281934610744|[1882307260704151...|[1882307240628188...|188230726111348694|\n",
      "|1001683581984332176|2023-07-26 11:32:13|1001683581984332176|[188230726111348694]|[1882307261113486...|188230726111348694|\n",
      "+-------------------+-------------------+-------------------+--------------------+--------------------+------------------+\n",
      "only showing top 5 rows\n",
      "\n"
     ]
    },
    {
     "name": "stderr",
     "output_type": "stream",
     "text": [
      "                                                                                \r"
     ]
    }
   ],
   "source": [
    "df.show(5)"
   ]
  },
  {
   "cell_type": "code",
   "execution_count": 22,
   "id": "1624dc8e-bd14-4b81-bb2f-b969ae68aaa3",
   "metadata": {},
   "outputs": [
    {
     "name": "stdout",
     "output_type": "stream",
     "text": [
      "guid                       object\n",
      "dt                 datetime64[ns]\n",
      "user                       object\n",
      "clicked_news               object\n",
      "click_0_itemIDs            object\n",
      "candidate_news             object\n",
      "dtype: object\n"
     ]
    }
   ],
   "source": [
    "import pandas as pd\n",
    "import numpy as np\n",
    "\n",
    "schema = {'guid': object, 'dt': 'datetime64[ns]', 'user': object, 'clicked_news': object, 'click_0_itemIDs': object, 'candidate_news': object}\n",
    "df_to_csv = pd.DataFrame(columns=schema.keys()).astype(schema)\n",
    "print(df_to_csv.dtypes)"
   ]
  },
  {
   "cell_type": "code",
   "execution_count": 23,
   "id": "f18d2419-29d4-4edd-9e7b-05d99a2e12cc",
   "metadata": {},
   "outputs": [
    {
     "name": "stderr",
     "output_type": "stream",
     "text": [
      "                                                                                \r"
     ]
    },
    {
     "ename": "TypeError",
     "evalue": "Casting to unit-less dtype 'datetime64' is not supported. Pass e.g. 'datetime64[ns]' instead.",
     "output_type": "error",
     "traceback": [
      "\u001b[0;31m---------------------------------------------------------------------------\u001b[0m",
      "\u001b[0;31mTypeError\u001b[0m                                 Traceback (most recent call last)",
      "Cell \u001b[0;32mIn[23], line 1\u001b[0m\n\u001b[0;32m----> 1\u001b[0m df_to_csv \u001b[38;5;241m=\u001b[39m \u001b[43mdf\u001b[49m\u001b[38;5;241;43m.\u001b[39;49m\u001b[43mtoPandas\u001b[49m\u001b[43m(\u001b[49m\u001b[43m)\u001b[49m\n\u001b[1;32m      2\u001b[0m df_to_csv\u001b[38;5;241m.\u001b[39mhead()\n",
      "File \u001b[0;32m/data2/nghiatl/anaconda3/envs/REC/lib/python3.8/site-packages/pyspark/sql/pandas/conversion.py:251\u001b[0m, in \u001b[0;36mPandasConversionMixin.toPandas\u001b[0;34m(self)\u001b[0m\n\u001b[1;32m    248\u001b[0m should_check_timedelta \u001b[38;5;241m=\u001b[39m is_timedelta64_dtype(t) \u001b[38;5;129;01mand\u001b[39;00m \u001b[38;5;28mlen\u001b[39m(pdf) \u001b[38;5;241m==\u001b[39m \u001b[38;5;241m0\u001b[39m\n\u001b[1;32m    250\u001b[0m \u001b[38;5;28;01mif\u001b[39;00m (t \u001b[38;5;129;01mis\u001b[39;00m \u001b[38;5;129;01mnot\u001b[39;00m \u001b[38;5;28;01mNone\u001b[39;00m \u001b[38;5;129;01mand\u001b[39;00m \u001b[38;5;129;01mnot\u001b[39;00m is_timedelta64_dtype(t)) \u001b[38;5;129;01mor\u001b[39;00m should_check_timedelta:\n\u001b[0;32m--> 251\u001b[0m     series \u001b[38;5;241m=\u001b[39m \u001b[43mseries\u001b[49m\u001b[38;5;241;43m.\u001b[39;49m\u001b[43mastype\u001b[49m\u001b[43m(\u001b[49m\u001b[43mt\u001b[49m\u001b[43m,\u001b[49m\u001b[43m \u001b[49m\u001b[43mcopy\u001b[49m\u001b[38;5;241;43m=\u001b[39;49m\u001b[38;5;28;43;01mFalse\u001b[39;49;00m\u001b[43m)\u001b[49m\n\u001b[1;32m    253\u001b[0m \u001b[38;5;28;01mwith\u001b[39;00m catch_warnings():\n\u001b[1;32m    254\u001b[0m     \u001b[38;5;28;01mfrom\u001b[39;00m \u001b[38;5;21;01mpandas\u001b[39;00m\u001b[38;5;21;01m.\u001b[39;00m\u001b[38;5;21;01merrors\u001b[39;00m \u001b[38;5;28;01mimport\u001b[39;00m PerformanceWarning\n",
      "File \u001b[0;32m/data2/nghiatl/anaconda3/envs/REC/lib/python3.8/site-packages/pandas/core/generic.py:6324\u001b[0m, in \u001b[0;36mNDFrame.astype\u001b[0;34m(self, dtype, copy, errors)\u001b[0m\n\u001b[1;32m   6317\u001b[0m     results \u001b[38;5;241m=\u001b[39m [\n\u001b[1;32m   6318\u001b[0m         \u001b[38;5;28mself\u001b[39m\u001b[38;5;241m.\u001b[39miloc[:, i]\u001b[38;5;241m.\u001b[39mastype(dtype, copy\u001b[38;5;241m=\u001b[39mcopy)\n\u001b[1;32m   6319\u001b[0m         \u001b[38;5;28;01mfor\u001b[39;00m i \u001b[38;5;129;01min\u001b[39;00m \u001b[38;5;28mrange\u001b[39m(\u001b[38;5;28mlen\u001b[39m(\u001b[38;5;28mself\u001b[39m\u001b[38;5;241m.\u001b[39mcolumns))\n\u001b[1;32m   6320\u001b[0m     ]\n\u001b[1;32m   6322\u001b[0m \u001b[38;5;28;01melse\u001b[39;00m:\n\u001b[1;32m   6323\u001b[0m     \u001b[38;5;66;03m# else, only a single dtype is given\u001b[39;00m\n\u001b[0;32m-> 6324\u001b[0m     new_data \u001b[38;5;241m=\u001b[39m \u001b[38;5;28;43mself\u001b[39;49m\u001b[38;5;241;43m.\u001b[39;49m\u001b[43m_mgr\u001b[49m\u001b[38;5;241;43m.\u001b[39;49m\u001b[43mastype\u001b[49m\u001b[43m(\u001b[49m\u001b[43mdtype\u001b[49m\u001b[38;5;241;43m=\u001b[39;49m\u001b[43mdtype\u001b[49m\u001b[43m,\u001b[49m\u001b[43m \u001b[49m\u001b[43mcopy\u001b[49m\u001b[38;5;241;43m=\u001b[39;49m\u001b[43mcopy\u001b[49m\u001b[43m,\u001b[49m\u001b[43m \u001b[49m\u001b[43merrors\u001b[49m\u001b[38;5;241;43m=\u001b[39;49m\u001b[43merrors\u001b[49m\u001b[43m)\u001b[49m\n\u001b[1;32m   6325\u001b[0m     \u001b[38;5;28;01mreturn\u001b[39;00m \u001b[38;5;28mself\u001b[39m\u001b[38;5;241m.\u001b[39m_constructor(new_data)\u001b[38;5;241m.\u001b[39m__finalize__(\u001b[38;5;28mself\u001b[39m, method\u001b[38;5;241m=\u001b[39m\u001b[38;5;124m\"\u001b[39m\u001b[38;5;124mastype\u001b[39m\u001b[38;5;124m\"\u001b[39m)\n\u001b[1;32m   6327\u001b[0m \u001b[38;5;66;03m# GH 33113: handle empty frame or series\u001b[39;00m\n",
      "File \u001b[0;32m/data2/nghiatl/anaconda3/envs/REC/lib/python3.8/site-packages/pandas/core/internals/managers.py:451\u001b[0m, in \u001b[0;36mBaseBlockManager.astype\u001b[0;34m(self, dtype, copy, errors)\u001b[0m\n\u001b[1;32m    448\u001b[0m \u001b[38;5;28;01melif\u001b[39;00m using_copy_on_write():\n\u001b[1;32m    449\u001b[0m     copy \u001b[38;5;241m=\u001b[39m \u001b[38;5;28;01mFalse\u001b[39;00m\n\u001b[0;32m--> 451\u001b[0m \u001b[38;5;28;01mreturn\u001b[39;00m \u001b[38;5;28;43mself\u001b[39;49m\u001b[38;5;241;43m.\u001b[39;49m\u001b[43mapply\u001b[49m\u001b[43m(\u001b[49m\n\u001b[1;32m    452\u001b[0m \u001b[43m    \u001b[49m\u001b[38;5;124;43m\"\u001b[39;49m\u001b[38;5;124;43mastype\u001b[39;49m\u001b[38;5;124;43m\"\u001b[39;49m\u001b[43m,\u001b[49m\n\u001b[1;32m    453\u001b[0m \u001b[43m    \u001b[49m\u001b[43mdtype\u001b[49m\u001b[38;5;241;43m=\u001b[39;49m\u001b[43mdtype\u001b[49m\u001b[43m,\u001b[49m\n\u001b[1;32m    454\u001b[0m \u001b[43m    \u001b[49m\u001b[43mcopy\u001b[49m\u001b[38;5;241;43m=\u001b[39;49m\u001b[43mcopy\u001b[49m\u001b[43m,\u001b[49m\n\u001b[1;32m    455\u001b[0m \u001b[43m    \u001b[49m\u001b[43merrors\u001b[49m\u001b[38;5;241;43m=\u001b[39;49m\u001b[43merrors\u001b[49m\u001b[43m,\u001b[49m\n\u001b[1;32m    456\u001b[0m \u001b[43m    \u001b[49m\u001b[43musing_cow\u001b[49m\u001b[38;5;241;43m=\u001b[39;49m\u001b[43musing_copy_on_write\u001b[49m\u001b[43m(\u001b[49m\u001b[43m)\u001b[49m\u001b[43m,\u001b[49m\n\u001b[1;32m    457\u001b[0m \u001b[43m\u001b[49m\u001b[43m)\u001b[49m\n",
      "File \u001b[0;32m/data2/nghiatl/anaconda3/envs/REC/lib/python3.8/site-packages/pandas/core/internals/managers.py:352\u001b[0m, in \u001b[0;36mBaseBlockManager.apply\u001b[0;34m(self, f, align_keys, **kwargs)\u001b[0m\n\u001b[1;32m    350\u001b[0m         applied \u001b[38;5;241m=\u001b[39m b\u001b[38;5;241m.\u001b[39mapply(f, \u001b[38;5;241m*\u001b[39m\u001b[38;5;241m*\u001b[39mkwargs)\n\u001b[1;32m    351\u001b[0m     \u001b[38;5;28;01melse\u001b[39;00m:\n\u001b[0;32m--> 352\u001b[0m         applied \u001b[38;5;241m=\u001b[39m \u001b[38;5;28;43mgetattr\u001b[39;49m\u001b[43m(\u001b[49m\u001b[43mb\u001b[49m\u001b[43m,\u001b[49m\u001b[43m \u001b[49m\u001b[43mf\u001b[49m\u001b[43m)\u001b[49m\u001b[43m(\u001b[49m\u001b[38;5;241;43m*\u001b[39;49m\u001b[38;5;241;43m*\u001b[39;49m\u001b[43mkwargs\u001b[49m\u001b[43m)\u001b[49m\n\u001b[1;32m    353\u001b[0m     result_blocks \u001b[38;5;241m=\u001b[39m extend_blocks(applied, result_blocks)\n\u001b[1;32m    355\u001b[0m out \u001b[38;5;241m=\u001b[39m \u001b[38;5;28mtype\u001b[39m(\u001b[38;5;28mself\u001b[39m)\u001b[38;5;241m.\u001b[39mfrom_blocks(result_blocks, \u001b[38;5;28mself\u001b[39m\u001b[38;5;241m.\u001b[39maxes)\n",
      "File \u001b[0;32m/data2/nghiatl/anaconda3/envs/REC/lib/python3.8/site-packages/pandas/core/internals/blocks.py:511\u001b[0m, in \u001b[0;36mBlock.astype\u001b[0;34m(self, dtype, copy, errors, using_cow)\u001b[0m\n\u001b[1;32m    491\u001b[0m \u001b[38;5;250m\u001b[39m\u001b[38;5;124;03m\"\"\"\u001b[39;00m\n\u001b[1;32m    492\u001b[0m \u001b[38;5;124;03mCoerce to the new dtype.\u001b[39;00m\n\u001b[1;32m    493\u001b[0m \n\u001b[0;32m   (...)\u001b[0m\n\u001b[1;32m    507\u001b[0m \u001b[38;5;124;03mBlock\u001b[39;00m\n\u001b[1;32m    508\u001b[0m \u001b[38;5;124;03m\"\"\"\u001b[39;00m\n\u001b[1;32m    509\u001b[0m values \u001b[38;5;241m=\u001b[39m \u001b[38;5;28mself\u001b[39m\u001b[38;5;241m.\u001b[39mvalues\n\u001b[0;32m--> 511\u001b[0m new_values \u001b[38;5;241m=\u001b[39m \u001b[43mastype_array_safe\u001b[49m\u001b[43m(\u001b[49m\u001b[43mvalues\u001b[49m\u001b[43m,\u001b[49m\u001b[43m \u001b[49m\u001b[43mdtype\u001b[49m\u001b[43m,\u001b[49m\u001b[43m \u001b[49m\u001b[43mcopy\u001b[49m\u001b[38;5;241;43m=\u001b[39;49m\u001b[43mcopy\u001b[49m\u001b[43m,\u001b[49m\u001b[43m \u001b[49m\u001b[43merrors\u001b[49m\u001b[38;5;241;43m=\u001b[39;49m\u001b[43merrors\u001b[49m\u001b[43m)\u001b[49m\n\u001b[1;32m    513\u001b[0m new_values \u001b[38;5;241m=\u001b[39m maybe_coerce_values(new_values)\n\u001b[1;32m    515\u001b[0m refs \u001b[38;5;241m=\u001b[39m \u001b[38;5;28;01mNone\u001b[39;00m\n",
      "File \u001b[0;32m/data2/nghiatl/anaconda3/envs/REC/lib/python3.8/site-packages/pandas/core/dtypes/astype.py:242\u001b[0m, in \u001b[0;36mastype_array_safe\u001b[0;34m(values, dtype, copy, errors)\u001b[0m\n\u001b[1;32m    239\u001b[0m     dtype \u001b[38;5;241m=\u001b[39m dtype\u001b[38;5;241m.\u001b[39mnumpy_dtype\n\u001b[1;32m    241\u001b[0m \u001b[38;5;28;01mtry\u001b[39;00m:\n\u001b[0;32m--> 242\u001b[0m     new_values \u001b[38;5;241m=\u001b[39m \u001b[43mastype_array\u001b[49m\u001b[43m(\u001b[49m\u001b[43mvalues\u001b[49m\u001b[43m,\u001b[49m\u001b[43m \u001b[49m\u001b[43mdtype\u001b[49m\u001b[43m,\u001b[49m\u001b[43m \u001b[49m\u001b[43mcopy\u001b[49m\u001b[38;5;241;43m=\u001b[39;49m\u001b[43mcopy\u001b[49m\u001b[43m)\u001b[49m\n\u001b[1;32m    243\u001b[0m \u001b[38;5;28;01mexcept\u001b[39;00m (\u001b[38;5;167;01mValueError\u001b[39;00m, \u001b[38;5;167;01mTypeError\u001b[39;00m):\n\u001b[1;32m    244\u001b[0m     \u001b[38;5;66;03m# e.g. _astype_nansafe can fail on object-dtype of strings\u001b[39;00m\n\u001b[1;32m    245\u001b[0m     \u001b[38;5;66;03m#  trying to convert to float\u001b[39;00m\n\u001b[1;32m    246\u001b[0m     \u001b[38;5;28;01mif\u001b[39;00m errors \u001b[38;5;241m==\u001b[39m \u001b[38;5;124m\"\u001b[39m\u001b[38;5;124mignore\u001b[39m\u001b[38;5;124m\"\u001b[39m:\n",
      "File \u001b[0;32m/data2/nghiatl/anaconda3/envs/REC/lib/python3.8/site-packages/pandas/core/dtypes/astype.py:184\u001b[0m, in \u001b[0;36mastype_array\u001b[0;34m(values, dtype, copy)\u001b[0m\n\u001b[1;32m    180\u001b[0m     \u001b[38;5;28;01mreturn\u001b[39;00m values\n\u001b[1;32m    182\u001b[0m \u001b[38;5;28;01mif\u001b[39;00m \u001b[38;5;129;01mnot\u001b[39;00m \u001b[38;5;28misinstance\u001b[39m(values, np\u001b[38;5;241m.\u001b[39mndarray):\n\u001b[1;32m    183\u001b[0m     \u001b[38;5;66;03m# i.e. ExtensionArray\u001b[39;00m\n\u001b[0;32m--> 184\u001b[0m     values \u001b[38;5;241m=\u001b[39m \u001b[43mvalues\u001b[49m\u001b[38;5;241;43m.\u001b[39;49m\u001b[43mastype\u001b[49m\u001b[43m(\u001b[49m\u001b[43mdtype\u001b[49m\u001b[43m,\u001b[49m\u001b[43m \u001b[49m\u001b[43mcopy\u001b[49m\u001b[38;5;241;43m=\u001b[39;49m\u001b[43mcopy\u001b[49m\u001b[43m)\u001b[49m\n\u001b[1;32m    186\u001b[0m \u001b[38;5;28;01melse\u001b[39;00m:\n\u001b[1;32m    187\u001b[0m     values \u001b[38;5;241m=\u001b[39m _astype_nansafe(values, dtype, copy\u001b[38;5;241m=\u001b[39mcopy)\n",
      "File \u001b[0;32m/data2/nghiatl/anaconda3/envs/REC/lib/python3.8/site-packages/pandas/core/arrays/datetimes.py:694\u001b[0m, in \u001b[0;36mDatetimeArray.astype\u001b[0;34m(self, dtype, copy)\u001b[0m\n\u001b[1;32m    682\u001b[0m     \u001b[38;5;28;01mraise\u001b[39;00m \u001b[38;5;167;01mTypeError\u001b[39;00m(\n\u001b[1;32m    683\u001b[0m         \u001b[38;5;124m\"\u001b[39m\u001b[38;5;124mCannot use .astype to convert from timezone-aware dtype to \u001b[39m\u001b[38;5;124m\"\u001b[39m\n\u001b[1;32m    684\u001b[0m         \u001b[38;5;124m\"\u001b[39m\u001b[38;5;124mtimezone-naive dtype. Use obj.tz_localize(None) or \u001b[39m\u001b[38;5;124m\"\u001b[39m\n\u001b[1;32m    685\u001b[0m         \u001b[38;5;124m\"\u001b[39m\u001b[38;5;124mobj.tz_convert(\u001b[39m\u001b[38;5;124m'\u001b[39m\u001b[38;5;124mUTC\u001b[39m\u001b[38;5;124m'\u001b[39m\u001b[38;5;124m).tz_localize(None) instead.\u001b[39m\u001b[38;5;124m\"\u001b[39m\n\u001b[1;32m    686\u001b[0m     )\n\u001b[1;32m    688\u001b[0m \u001b[38;5;28;01melif\u001b[39;00m (\n\u001b[1;32m    689\u001b[0m     \u001b[38;5;28mself\u001b[39m\u001b[38;5;241m.\u001b[39mtz \u001b[38;5;129;01mis\u001b[39;00m \u001b[38;5;28;01mNone\u001b[39;00m\n\u001b[1;32m    690\u001b[0m     \u001b[38;5;129;01mand\u001b[39;00m is_datetime64_dtype(dtype)\n\u001b[1;32m    691\u001b[0m     \u001b[38;5;129;01mand\u001b[39;00m dtype \u001b[38;5;241m!=\u001b[39m \u001b[38;5;28mself\u001b[39m\u001b[38;5;241m.\u001b[39mdtype\n\u001b[1;32m    692\u001b[0m     \u001b[38;5;129;01mand\u001b[39;00m is_unitless(dtype)\n\u001b[1;32m    693\u001b[0m ):\n\u001b[0;32m--> 694\u001b[0m     \u001b[38;5;28;01mraise\u001b[39;00m \u001b[38;5;167;01mTypeError\u001b[39;00m(\n\u001b[1;32m    695\u001b[0m         \u001b[38;5;124m\"\u001b[39m\u001b[38;5;124mCasting to unit-less dtype \u001b[39m\u001b[38;5;124m'\u001b[39m\u001b[38;5;124mdatetime64\u001b[39m\u001b[38;5;124m'\u001b[39m\u001b[38;5;124m is not supported. \u001b[39m\u001b[38;5;124m\"\u001b[39m\n\u001b[1;32m    696\u001b[0m         \u001b[38;5;124m\"\u001b[39m\u001b[38;5;124mPass e.g. \u001b[39m\u001b[38;5;124m'\u001b[39m\u001b[38;5;124mdatetime64[ns]\u001b[39m\u001b[38;5;124m'\u001b[39m\u001b[38;5;124m instead.\u001b[39m\u001b[38;5;124m\"\u001b[39m\n\u001b[1;32m    697\u001b[0m     )\n\u001b[1;32m    699\u001b[0m \u001b[38;5;28;01melif\u001b[39;00m is_period_dtype(dtype):\n\u001b[1;32m    700\u001b[0m     \u001b[38;5;28;01mreturn\u001b[39;00m \u001b[38;5;28mself\u001b[39m\u001b[38;5;241m.\u001b[39mto_period(freq\u001b[38;5;241m=\u001b[39mdtype\u001b[38;5;241m.\u001b[39mfreq)\n",
      "\u001b[0;31mTypeError\u001b[0m: Casting to unit-less dtype 'datetime64' is not supported. Pass e.g. 'datetime64[ns]' instead."
     ]
    }
   ],
   "source": [
    "df_to_csv = df.toPandas()\n",
    "df_to_csv.head()"
   ]
  },
  {
   "cell_type": "code",
   "execution_count": 20,
   "id": "36396f8b-f21a-45ba-abf7-c35f6227df3a",
   "metadata": {
    "tags": []
   },
   "outputs": [
    {
     "name": "stdout",
     "output_type": "stream",
     "text": [
      "23/07/28 17:30:26 WARN FileStreamSink: Assume no metadata directory. Error while looking for metadata directory in the path: hdfs://10.3.71.86:8020/Data/Logging/AdTrackingLinks/2023-07-26/*.parquet.\n",
      "org.apache.hadoop.ipc.RemoteException(org.apache.hadoop.ipc.StandbyException): Operation category READ is not supported in state standby. Visit https://s.apache.org/sbnn-error\n",
      "\tat org.apache.hadoop.hdfs.server.namenode.ha.StandbyState.checkOperation(StandbyState.java:88)\n",
      "\tat org.apache.hadoop.hdfs.server.namenode.NameNode$NameNodeHAContext.checkOperation(NameNode.java:1954)\n",
      "\tat org.apache.hadoop.hdfs.server.namenode.FSNamesystem.checkOperation(FSNamesystem.java:1442)\n",
      "\tat org.apache.hadoop.hdfs.server.namenode.FSNamesystem.getFileInfo(FSNamesystem.java:3165)\n",
      "\tat org.apache.hadoop.hdfs.server.namenode.NameNodeRpcServer.getFileInfo(NameNodeRpcServer.java:1155)\n",
      "\tat org.apache.hadoop.hdfs.protocolPB.ClientNamenodeProtocolServerSideTranslatorPB.getFileInfo(ClientNamenodeProtocolServerSideTranslatorPB.java:972)\n",
      "\tat org.apache.hadoop.hdfs.protocol.proto.ClientNamenodeProtocolProtos$ClientNamenodeProtocol$2.callBlockingMethod(ClientNamenodeProtocolProtos.java)\n",
      "\tat org.apache.hadoop.ipc.ProtobufRpcEngine$Server$ProtoBufRpcInvoker.call(ProtobufRpcEngine.java:524)\n",
      "\tat org.apache.hadoop.ipc.RPC$Server.call(RPC.java:1025)\n",
      "\tat org.apache.hadoop.ipc.Server$RpcCall.run(Server.java:876)\n",
      "\tat org.apache.hadoop.ipc.Server$RpcCall.run(Server.java:822)\n",
      "\tat java.security.AccessController.doPrivileged(Native Method)\n",
      "\tat javax.security.auth.Subject.doAs(Subject.java:422)\n",
      "\tat org.apache.hadoop.security.UserGroupInformation.doAs(UserGroupInformation.java:1730)\n",
      "\tat org.apache.hadoop.ipc.Server$Handler.run(Server.java:2682)\n",
      "\n",
      "\tat org.apache.hadoop.ipc.Client.getRpcResponse(Client.java:1612)\n",
      "\tat org.apache.hadoop.ipc.Client.call(Client.java:1558)\n",
      "\tat org.apache.hadoop.ipc.Client.call(Client.java:1455)\n",
      "\tat org.apache.hadoop.ipc.ProtobufRpcEngine2$Invoker.invoke(ProtobufRpcEngine2.java:242)\n",
      "\tat org.apache.hadoop.ipc.ProtobufRpcEngine2$Invoker.invoke(ProtobufRpcEngine2.java:129)\n",
      "\tat com.sun.proxy.$Proxy34.getFileInfo(Unknown Source)\n",
      "\tat org.apache.hadoop.hdfs.protocolPB.ClientNamenodeProtocolTranslatorPB.getFileInfo(ClientNamenodeProtocolTranslatorPB.java:965)\n",
      "\tat sun.reflect.GeneratedMethodAccessor45.invoke(Unknown Source)\n",
      "\tat sun.reflect.DelegatingMethodAccessorImpl.invoke(DelegatingMethodAccessorImpl.java:43)\n",
      "\tat java.lang.reflect.Method.invoke(Method.java:498)\n",
      "\tat org.apache.hadoop.io.retry.RetryInvocationHandler.invokeMethod(RetryInvocationHandler.java:422)\n",
      "\tat org.apache.hadoop.io.retry.RetryInvocationHandler$Call.invokeMethod(RetryInvocationHandler.java:165)\n",
      "\tat org.apache.hadoop.io.retry.RetryInvocationHandler$Call.invoke(RetryInvocationHandler.java:157)\n",
      "\tat org.apache.hadoop.io.retry.RetryInvocationHandler$Call.invokeOnce(RetryInvocationHandler.java:95)\n",
      "\tat org.apache.hadoop.io.retry.RetryInvocationHandler.invoke(RetryInvocationHandler.java:359)\n",
      "\tat com.sun.proxy.$Proxy35.getFileInfo(Unknown Source)\n",
      "\tat org.apache.hadoop.hdfs.DFSClient.getFileInfo(DFSClient.java:1739)\n",
      "\tat org.apache.hadoop.hdfs.DistributedFileSystem$29.doCall(DistributedFileSystem.java:1753)\n",
      "\tat org.apache.hadoop.hdfs.DistributedFileSystem$29.doCall(DistributedFileSystem.java:1750)\n",
      "\tat org.apache.hadoop.fs.FileSystemLinkResolver.resolve(FileSystemLinkResolver.java:81)\n",
      "\tat org.apache.hadoop.hdfs.DistributedFileSystem.getFileStatus(DistributedFileSystem.java:1765)\n",
      "\tat org.apache.hadoop.fs.FileSystem.isDirectory(FileSystem.java:1777)\n",
      "\tat org.apache.spark.sql.execution.streaming.FileStreamSink$.hasMetadata(FileStreamSink.scala:54)\n",
      "\tat org.apache.spark.sql.execution.datasources.DataSource.resolveRelation(DataSource.scala:370)\n",
      "\tat org.apache.spark.sql.DataFrameReader.loadV1Source(DataFrameReader.scala:228)\n",
      "\tat org.apache.spark.sql.DataFrameReader.$anonfun$load$2(DataFrameReader.scala:210)\n",
      "\tat scala.Option.getOrElse(Option.scala:189)\n",
      "\tat org.apache.spark.sql.DataFrameReader.load(DataFrameReader.scala:210)\n",
      "\tat org.apache.spark.sql.DataFrameReader.parquet(DataFrameReader.scala:562)\n",
      "\tat sun.reflect.NativeMethodAccessorImpl.invoke0(Native Method)\n",
      "\tat sun.reflect.NativeMethodAccessorImpl.invoke(NativeMethodAccessorImpl.java:62)\n",
      "\tat sun.reflect.DelegatingMethodAccessorImpl.invoke(DelegatingMethodAccessorImpl.java:43)\n",
      "\tat java.lang.reflect.Method.invoke(Method.java:498)\n",
      "\tat py4j.reflection.MethodInvoker.invoke(MethodInvoker.java:244)\n",
      "\tat py4j.reflection.ReflectionEngine.invoke(ReflectionEngine.java:357)\n",
      "\tat py4j.Gateway.invoke(Gateway.java:282)\n",
      "\tat py4j.commands.AbstractCommand.invokeMethod(AbstractCommand.java:132)\n",
      "\tat py4j.commands.CallCommand.execute(CallCommand.java:79)\n",
      "\tat py4j.ClientServerConnection.waitForCommands(ClientServerConnection.java:182)\n",
      "\tat py4j.ClientServerConnection.run(ClientServerConnection.java:106)\n",
      "\tat java.lang.Thread.run(Thread.java:748)\n"
     ]
    },
    {
     "name": "stderr",
     "output_type": "stream",
     "text": [
      "                                                                                \r"
     ]
    }
   ],
   "source": [
    "total_df = get_spark_df(date_time_indexes)"
   ]
  },
  {
   "cell_type": "code",
   "execution_count": 39,
   "id": "78c0a98b-7350-4874-898e-8ee1e9f613f2",
   "metadata": {
    "tags": []
   },
   "outputs": [
    {
     "ename": "NameError",
     "evalue": "name 'total_df' is not defined",
     "output_type": "error",
     "traceback": [
      "\u001b[0;31m---------------------------------------------------------------------------\u001b[0m",
      "\u001b[0;31mNameError\u001b[0m                                 Traceback (most recent call last)",
      "Cell \u001b[0;32mIn[39], line 1\u001b[0m\n\u001b[0;32m----> 1\u001b[0m \u001b[43mtotal_df\u001b[49m\u001b[38;5;241m.\u001b[39mshow(\u001b[38;5;241m5\u001b[39m)\n",
      "\u001b[0;31mNameError\u001b[0m: name 'total_df' is not defined"
     ]
    }
   ],
   "source": [
    "total_df.show(5)"
   ]
  },
  {
   "cell_type": "code",
   "execution_count": 18,
   "id": "e083ac7c-05be-442f-8ce1-b84a09e5d87f",
   "metadata": {
    "tags": []
   },
   "outputs": [],
   "source": [
    "filtered_df = df.select(selects)"
   ]
  },
  {
   "cell_type": "code",
   "execution_count": 19,
   "id": "cb0808c4-2db2-409e-b7a8-f4ddcb90af57",
   "metadata": {
    "tags": []
   },
   "outputs": [
    {
     "data": {
      "text/plain": [
       "DataFrame[dt: string, guid: string, itemsBox: string, domain: string, clickOrView: int, date: date]"
      ]
     },
     "execution_count": 19,
     "metadata": {},
     "output_type": "execute_result"
    }
   ],
   "source": [
    "filtered_df"
   ]
  },
  {
   "cell_type": "code",
   "execution_count": 39,
   "id": "e86fc6e5-4593-478d-a36b-9d24d36be87d",
   "metadata": {
    "tags": []
   },
   "outputs": [
    {
     "data": {
      "text/plain": [
       "DataFrame[dt: string, guid: string, itemsBox: string, domain: string, clickOrView: int, date: date, itemIDs: array<bigint>, sorted_itemIDs: array<array<bigint>>]"
      ]
     },
     "execution_count": 39,
     "metadata": {},
     "output_type": "execute_result"
    }
   ],
   "source": [
    "grouped_df"
   ]
  },
  {
   "cell_type": "code",
   "execution_count": 42,
   "id": "69900eb2-cc5c-40e9-9fb5-fbaa99a095ef",
   "metadata": {
    "tags": []
   },
   "outputs": [],
   "source": [
    "# Drop duplicate rows\n",
    "# grouped_df = grouped_df.dropDuplicates([\"guid\"])\n",
    "# grouped_df = grouped_df.withColumn(\"sorted_itemIDs\", grouped_df[\"sorted_itemIDs\"].cast(ArrayType(LongType())))\n",
    "\n",
    "# grouped_df.show()"
   ]
  },
  {
   "cell_type": "code",
   "execution_count": 44,
   "id": "aa2de504-d0d8-46d7-b9f0-c80a9208080e",
   "metadata": {
    "tags": []
   },
   "outputs": [],
   "source": [
    "import ast\n",
    "\n",
    "def split_list(item_list):\n",
    "    convert_list = [l[0] for l in item_list]\n",
    "    \n",
    "    return convert_list"
   ]
  },
  {
   "cell_type": "code",
   "execution_count": 45,
   "id": "18943106-e12f-4409-b9be-4503dfcb561a",
   "metadata": {
    "tags": []
   },
   "outputs": [
    {
     "name": "stderr",
     "output_type": "stream",
     "text": [
      "                                                                                \r"
     ]
    },
    {
     "name": "stdout",
     "output_type": "stream",
     "text": [
      "+-------------------+-------------------+--------------------+--------+-----------+----------+--------------------+--------------------+------------------+\n",
      "|               guid|                 dt|            itemsBox|  domain|clickOrView|      date|             itemIDs|      sorted_itemIDs|    candidate_news|\n",
      "+-------------------+-------------------+--------------------+--------+-----------+----------+--------------------+--------------------+------------------+\n",
      "|1067456013741081261|2023-05-23 12:08:21|1085_652-cf_home_...|cafef.vn|          1|2023-05-23|[188230523091949273]|[1882305230810477...|188230523091949273|\n",
      "|1147228643403036000|2023-05-23 11:56:57|688_408-cf_cate_b...|cafef.vn|          1|2023-05-23|[188230523105226304]|[1882305230810477...|188230523105226304|\n",
      "|1205381202065292166|2023-05-23 13:08:49|1090_140-cf_cate_...|cafef.vn|          1|2023-05-23|[188230523104932182]|[1882305230706155...|188230523104932182|\n",
      "|1206286790457726397|2023-05-23 16:20:06|2152_704-h2-18823...|cafef.vn|          1|2023-05-23|[188230523151725744]|[188230523155440663]|188230523151725744|\n",
      "|1217888601700992931|2023-05-23 16:39:35|616_690-cf_home_f...|cafef.vn|          1|2023-05-23|[188230522223641785]|[1882305230934578...|188230522223641785|\n",
      "|1231038643029599276|2023-05-23 13:17:38|4991_341-h3-18823...|cafef.vn|          1|2023-05-23|[188230523074209691]|[1882305222236417...|188230523074209691|\n",
      "|1253974522885458323|2023-05-23 09:29:40|2084_458-h2-18823...|cafef.vn|          1|2023-05-23|[188230523073739961]|[1882305222236417...|188230523073739961|\n",
      "|1254663967250081739|2023-05-23 11:57:07|8646_694-h3-18823...|cafef.vn|          1|2023-05-23|[188230522101418843]|[1882305230959241...|188230522101418843|\n",
      "|1280130142883970278|2023-05-23 20:27:46|4353_433-cf_detai...|cafef.vn|          1|2023-05-23|[188230523103436052]|[1882305231554406...|188230523103436052|\n",
      "|1367560096246365558|2023-05-23 09:38:45|1055_408-cf_home_...|cafef.vn|          1|2023-05-23| [18823052309231968]| [18823052309231968]| 18823052309231968|\n",
      "|1370593431934592297|2023-05-23 15:42:16|84_574-h1-1882305...|cafef.vn|          1|2023-05-23|[188230523134650824]|[188230521082110908]|188230523134650824|\n",
      "|1417005701907161479|2023-05-23 13:23:15|5217_453-cf_detai...|cafef.vn|          1|2023-05-23|[188230521203237093]|[1882305212350501...|188230521203237093|\n",
      "|1439885311984261985|2023-05-23 08:16:15|4945_628-h3-18823...|cafef.vn|          1|2023-05-23|[188230522151121224]| [18823052307112511]|188230522151121224|\n",
      "|1535725973245865041|2023-05-23 14:00:23|9300_343-cafef_Po...|cafef.vn|          1|2023-05-23| [18823052307052348]|[1882305231049321...| 18823052307052348|\n",
      "|1563721618247094935|2023-05-23 16:39:07|12223_523-cf_home...|cafef.vn|          1|2023-05-23|[188230523153620352]|[1882305231056408...|188230523153620352|\n",
      "|1609164231908342290|2023-05-23 14:55:02|1987_502-h2-20190...|cafef.vn|          1|2023-05-23| [20190425150637037]| [20190425150637037]| 20190425150637037|\n",
      "|1612318201908325562|2023-05-23 07:25:37|7836_606-cafef_de...|cafef.vn|          1|2023-05-23|[188230522195539263]|[1882305230651367...|188230522195539263|\n",
      "|1811862571934385976|2023-05-23 13:46:10|698_652-cf_home_f...|cafef.vn|          1|2023-05-23|[188230522223641785]|[1882305231157398...|188230522223641785|\n",
      "|1819609481952541751|2023-05-23 13:58:30|626_495-cf_cate_b...|cafef.vn|          1|2023-05-23|[188230523003035935]|[188230523003035935]|188230523003035935|\n",
      "|1884770651246592432|2023-05-23 23:39:31|13329_396-h3-1882...|cafef.vn|          1|2023-05-23|[188230522133024881]|[1882305231931111...|188230522133024881|\n",
      "+-------------------+-------------------+--------------------+--------+-----------+----------+--------------------+--------------------+------------------+\n",
      "only showing top 20 rows\n",
      "\n"
     ]
    }
   ],
   "source": [
    "split_list_df = F.udf(split_list, ArrayType(LongType()))\n",
    "grouped_df = grouped_df.withColumn(\"sorted_itemIDs\", split_list_df(\"sorted_itemIDs\"))\n",
    "grouped_df = grouped_df.filter(F.size(grouped_df['sorted_itemIDs']) > 1)\n",
    "# Calculate the maximum length of sorted_itemIDs for each guid\n",
    "max_length_df = grouped_df.groupBy(\"guid\").agg(F.max(F.size(\"sorted_itemIDs\")).alias(\"max_length\"))\n",
    "\n",
    "# Join with the original DataFrame to filter out rows with other lengths\n",
    "grouped_df = grouped_df.join(max_length_df, [\"guid\"]).filter(F.size(\"sorted_itemIDs\") == F.col(\"max_length\"))\n",
    "\n",
    "# Drop the max_length column if desired\n",
    "grouped_df = grouped_df.drop(\"max_length\")\n",
    "\n",
    "# Extract the last element of sorted_itemIDs\n",
    "last_element = F.expr(\"sorted_itemIDs[size(sorted_itemIDs) - 1]\")\n",
    "\n",
    "# Add the last element to a new column called candidate_news\n",
    "grouped_df = grouped_df.withColumn(\"candidate_news\", last_element)\n",
    "\n",
    "grouped_df = grouped_df.withColumn(\"sorted_itemIDs\", F.expr(\"slice(sorted_itemIDs, 1, size(sorted_itemIDs) - 1)\"))\n",
    "# Show the resulting DataFrame\n",
    "grouped_df.show()"
   ]
  },
  {
   "cell_type": "code",
   "execution_count": 46,
   "id": "22d14945-338f-4dee-83ca-605a76060354",
   "metadata": {
    "tags": []
   },
   "outputs": [
    {
     "name": "stderr",
     "output_type": "stream",
     "text": [
      "                                                                                \r"
     ]
    },
    {
     "data": {
      "text/plain": [
       "[Row(guid='1067456013741081261', dt='2023-05-23 12:08:21', itemsBox='1085_652-cf_home_focus-188230523091949273', domain='cafef.vn', clickOrView=1, date=datetime.date(2023, 5, 23), itemIDs=[188230523091949273], sorted_itemIDs=[188230523081047777, 188230523063745132, 188230523063745132, 188230523064512837, 188230523003035935, 18823052310212765, 188230522223641785, 188230523115739876], candidate_news=188230523091949273),\n",
       " Row(guid='1147228643403036000', dt='2023-05-23 11:56:57', itemsBox='688_408-cf_cate_boxfocus-188230523105226304', domain='cafef.vn', clickOrView=1, date=datetime.date(2023, 5, 23), itemIDs=[188230523105226304], sorted_itemIDs=[188230523081047777, 18823052309231968, 188230523084157905, 188230523105640887], candidate_news=188230523105226304),\n",
       " Row(guid='1205381202065292166', dt='2023-05-23 13:08:49', itemsBox='1090_140-cf_cate_boxfocus-188230523104932182', domain='cafef.vn', clickOrView=1, date=datetime.date(2023, 5, 23), itemIDs=[188230523104932182], sorted_itemIDs=[188230523070615583, 188230523064917989, 188230523064917989, 188230521223714088], candidate_news=188230523104932182)]"
      ]
     },
     "execution_count": 46,
     "metadata": {},
     "output_type": "execute_result"
    }
   ],
   "source": [
    "sam = grouped_df.take(3)\n",
    "sam"
   ]
  },
  {
   "cell_type": "code",
   "execution_count": 47,
   "id": "a513ace3-fdcf-4203-a64d-83b3d8ee879a",
   "metadata": {
    "tags": []
   },
   "outputs": [],
   "source": [
    "grouped_df = grouped_df.withColumnRenamed(\"sorted_itemIDs\", \"clicked_news\")"
   ]
  },
  {
   "cell_type": "code",
   "execution_count": 49,
   "id": "fb5bf2e3-830f-4bc6-842c-50bdd94bdc11",
   "metadata": {
    "tags": []
   },
   "outputs": [
    {
     "data": {
      "text/plain": [
       "DataFrame[guid: string, dt: string, itemsBox: string, domain: string, clickOrView: int, date: date, itemIDs: array<bigint>, clicked_news: array<bigint>, candidate_news: bigint]"
      ]
     },
     "execution_count": 49,
     "metadata": {},
     "output_type": "execute_result"
    }
   ],
   "source": [
    "grouped_df"
   ]
  },
  {
   "cell_type": "code",
   "execution_count": 48,
   "id": "b17e5c16-7d1e-4ea5-8380-a77f57cccf70",
   "metadata": {
    "tags": []
   },
   "outputs": [
    {
     "data": {
      "text/plain": [
       "DataFrame[click_0_dt: string, click_0_guid: string, click_0_itemsBox: string, click_0_domain: string, click_0_clickOrView: int, click_0_date: date, click_0_itemIDs: array<bigint>]"
      ]
     },
     "execution_count": 48,
     "metadata": {},
     "output_type": "execute_result"
    }
   ],
   "source": [
    "new_column_names = ['click_0_' + col for col in filtered_df_click_0.columns]\n",
    "df_renamed_click_0 = filtered_df_click_0.toDF(*new_column_names)\n",
    "df_renamed_click_0"
   ]
  },
  {
   "cell_type": "code",
   "execution_count": 94,
   "id": "63eb4023-07db-437f-b089-1c1020cc8eb1",
   "metadata": {
    "tags": []
   },
   "outputs": [
    {
     "name": "stderr",
     "output_type": "stream",
     "text": [
      "[Stage 247:>                                                        (0 + 1) / 1]\r"
     ]
    },
    {
     "name": "stdout",
     "output_type": "stream",
     "text": [
      "+-------------------+-------------------+-------------------+--------------------+--------------------+------------------+\n",
      "|               guid|                 dt|               user|        clicked_news|     click_0_itemIDs|    candidate_news|\n",
      "+-------------------+-------------------+-------------------+--------------------+--------------------+------------------+\n",
      "|1000715571907506311|2023-05-23 16:09:20|1000715571907506311|[188230523084634909]|[1882305230651367...|188230523151137269|\n",
      "|1000869511963106373|2023-05-23 13:12:56|1000869511963106373|[1882305230919492...|[1882305231104220...|188230523110422031|\n",
      "|1002133351984329224|2023-05-23 13:38:17|1002133351984329224|[188230523064729426]|[1882305221014188...|188230523110949589|\n",
      "|1002379101984331591|2023-05-23 08:12:58|1002379101984331591|[1882305230737399...|[1882305222012293...|188230522230501154|\n",
      "|1002923693419218533|2023-05-23 13:34:03|1002923693419218533|[188230523084634909]|[1882305230948257...|188230523091949273|\n",
      "|1003567053741062160|2023-05-23 14:24:07|1003567053741062160|[1882305222236417...|[1882305231352121...|188230523070259414|\n",
      "|1004173811963373118|2023-05-23 13:20:50|1004173811963373118|[188230523102909302]|[1882305231049321...|188230523102933283|\n",
      "|1004623683250147708|2023-05-23 17:20:29|1004623683250147708|[1882305222236417...|[2022120510265214...|188230523115739876|\n",
      "|1005076803741061841|2023-05-23 12:03:46|1005076803741061841|[1882305231108038...|[1882305231142383...|188230523100420566|\n",
      "|1005859631984415006|2023-05-23 13:47:43|1005859631984415006|[1882305222000407...|[1882305200854395...|188230523081047777|\n",
      "|1006005551984291503|2023-05-23 12:54:36|1006005551984291503|[188230523110949589]|[1882305231123556...|188230522101418843|\n",
      "|1006153211984250530|2023-05-23 13:52:58|1006153211984250530|[1882305221717060...|[1882305220859464...|188230522223641785|\n",
      "|1006661674246681398|2023-05-23 14:06:29|1006661674246681398|[1882305211934229...|[1882305212237140...|188230523065136764|\n",
      "| 100705620320392876|2023-05-23 14:10:56| 100705620320392876|[1882305221940516...|[1882305231407254...|188230523133342615|\n",
      "|1007980733111961541|2023-05-23 15:37:22|1007980733111961541|[188230523091949273]|[1882305190708344...|188230523093457844|\n",
      "|1009381162065023014|2023-05-23 11:24:11|1009381162065023014|[1882305230030359...|[1882305201944076...| 18823052220004079|\n",
      "|1009544231908338889|2023-05-23 07:25:49|1009544231908338889|[188230522223641785]|[1882305230636061...|188230522194051609|\n",
      "|1009595401906339782|2023-05-23 10:57:50|1009595401906339782|[188230522171200967]|[1882305230651367...|188230523095924173|\n",
      "|1009838881897323455|2023-05-23 21:12:20|1009838881897323455|[1882305222000407...|[1882305231517257...|188230523151725744|\n",
      "|1010308577245531344|2023-05-23 11:21:44|1010308577245531344|[188230523093903164]|[1882305230649179...|188230523105640887|\n",
      "+-------------------+-------------------+-------------------+--------------------+--------------------+------------------+\n",
      "only showing top 20 rows\n",
      "\n"
     ]
    },
    {
     "name": "stderr",
     "output_type": "stream",
     "text": [
      "                                                                                \r"
     ]
    }
   ],
   "source": [
    "from pyspark.sql.functions import expr\n",
    "from pyspark.sql.functions import to_timestamp\n",
    "from pyspark.sql.functions import concat_ws\n",
    "import re\n",
    "from pyspark.sql.types import StringType\n",
    "from pyspark.sql.functions import col, flatten\n",
    "\n",
    "def convert_candidate_news(candidate_news):\n",
    "    candidate_news = re.sub(r'[\\]\\[]','',candidate_news).split(',')\n",
    "    candidate_news = [element.strip() for element in candidate_news[:4]]\n",
    "    \n",
    "    return ' '.join(candidate_news)\n",
    "\n",
    "# Define the number of items to add (K)\n",
    "K = 3\n",
    "\n",
    "# Perform the join operation with the additional condition on dt\n",
    "df_updated = grouped_df.join(df_renamed_click_0, (grouped_df[\"guid\"] == df_renamed_click_0[\"click_0_guid\"]), \"left\")\n",
    "\n",
    "# Convert the string columns to timestamp\n",
    "df_updated = df_updated.withColumn('dt', to_timestamp('dt'))\n",
    "df_updated = df_updated.withColumn('click_0_dt', to_timestamp('click_0_dt'))\n",
    "\n",
    "# Filter the DataFrame based on the condition\n",
    "df_updated = df_updated.filter(df_updated.dt < df_updated.click_0_dt)\n",
    "df_updated = df_updated.filter(\n",
    "    expr(\"dt + interval 1 hour >= click_0_dt\")\n",
    ")\n",
    "\n",
    "# Group by 'guid' and concatenate 'click_0_itemIDs'\n",
    "# df_updated = df_updated.groupBy('guid').agg(concat_ws(',', collect_list('click_0_itemIDs')).alias('candidate_news'), first('click_0_dt').alias('click_0_dt'), first('dt').alias('dt'))\n",
    "df_updated = df_updated.groupBy('guid').agg(first('dt').alias('dt'), first('guid').alias('user'), first('clicked_news').alias('clicked_news'), collect_list('click_0_itemIDs').alias('click_0_itemIDs'), first('candidate_news').alias('candidate_news'))\n",
    "df_updated = df_updated.withColumn('click_0_itemIDs', flatten(col('click_0_itemIDs')))\n",
    "# convert_candidate_news_df = F.udf(convert_candidate_news, StringType())\n",
    "# df_updated = df_updated.withColumn('candidate_news', convert_candidate_news_df('candidate_news'))\n",
    "\n",
    "# Show the resulting DataFrame\n",
    "df_updated.show()"
   ]
  },
  {
   "cell_type": "code",
   "execution_count": 95,
   "id": "7f5d5e9e-01a0-492b-9ab6-38e6ef953e27",
   "metadata": {
    "tags": []
   },
   "outputs": [
    {
     "data": {
      "text/plain": [
       "DataFrame[guid: string, dt: timestamp, user: string, clicked_news: array<bigint>, click_0_itemIDs: array<bigint>, candidate_news: bigint]"
      ]
     },
     "execution_count": 95,
     "metadata": {},
     "output_type": "execute_result"
    }
   ],
   "source": [
    "df_updated"
   ]
  },
  {
   "cell_type": "code",
   "execution_count": 32,
   "id": "95a55901-26af-4861-bb2c-089a4eb199cc",
   "metadata": {
    "tags": []
   },
   "outputs": [],
   "source": [
    "df_to_csv = total_df"
   ]
  },
  {
   "cell_type": "code",
   "execution_count": 33,
   "id": "1f86e66f-592b-43b6-a6a5-de422b0cce76",
   "metadata": {
    "tags": []
   },
   "outputs": [
    {
     "name": "stderr",
     "output_type": "stream",
     "text": [
      "/data2/nghiatl/anaconda3/envs/SEO/lib/python3.8/site-packages/pyspark/sql/pandas/conversion.py:248: FutureWarning: Passing unit-less datetime64 dtype to .astype is deprecated and will raise in a future version. Pass 'datetime64[ns]' instead\n",
      "  series = series.astype(t, copy=False)\n"
     ]
    },
    {
     "data": {
      "text/html": [
       "<div>\n",
       "<style scoped>\n",
       "    .dataframe tbody tr th:only-of-type {\n",
       "        vertical-align: middle;\n",
       "    }\n",
       "\n",
       "    .dataframe tbody tr th {\n",
       "        vertical-align: top;\n",
       "    }\n",
       "\n",
       "    .dataframe thead th {\n",
       "        text-align: right;\n",
       "    }\n",
       "</style>\n",
       "<table border=\"1\" class=\"dataframe\">\n",
       "  <thead>\n",
       "    <tr style=\"text-align: right;\">\n",
       "      <th></th>\n",
       "      <th>guid</th>\n",
       "      <th>dt</th>\n",
       "      <th>user</th>\n",
       "      <th>clicked_news</th>\n",
       "      <th>click_0_itemIDs</th>\n",
       "      <th>candidate_news</th>\n",
       "    </tr>\n",
       "  </thead>\n",
       "  <tbody>\n",
       "    <tr>\n",
       "      <th>0</th>\n",
       "      <td>1000593691952460179</td>\n",
       "      <td>2023-06-01 11:50:01</td>\n",
       "      <td>1000593691952460179</td>\n",
       "      <td>[188230531214548779]</td>\n",
       "      <td>[188230601095827535, 188230601061406565, 18823...</td>\n",
       "      <td>188230601060040919</td>\n",
       "    </tr>\n",
       "    <tr>\n",
       "      <th>1</th>\n",
       "      <td>1001091507763033221</td>\n",
       "      <td>2023-06-01 10:53:03</td>\n",
       "      <td>1001091507763033221</td>\n",
       "      <td>[18823053115365144]</td>\n",
       "      <td>[188230601065833685, 188230531210556396, 18823...</td>\n",
       "      <td>188230531210556396</td>\n",
       "    </tr>\n",
       "    <tr>\n",
       "      <th>2</th>\n",
       "      <td>1002593331984405900</td>\n",
       "      <td>2023-06-01 10:57:54</td>\n",
       "      <td>1002593331984405900</td>\n",
       "      <td>[188230601065833685]</td>\n",
       "      <td>[188230601092327402, 188230530232318576]</td>\n",
       "      <td>188230601092327402</td>\n",
       "    </tr>\n",
       "    <tr>\n",
       "      <th>3</th>\n",
       "      <td>1003000125712104133</td>\n",
       "      <td>2023-06-01 15:55:47</td>\n",
       "      <td>1003000125712104133</td>\n",
       "      <td>[1882306010713553]</td>\n",
       "      <td>[188230601135146848, 188230601142246788, 18823...</td>\n",
       "      <td>188230601134612455</td>\n",
       "    </tr>\n",
       "    <tr>\n",
       "      <th>4</th>\n",
       "      <td>1003804531741109381</td>\n",
       "      <td>2023-06-01 15:57:35</td>\n",
       "      <td>1003804531741109381</td>\n",
       "      <td>[188230531122429652, 20221110111334543, 188230...</td>\n",
       "      <td>[18823060109571305, 188230601100005841, 188230...</td>\n",
       "      <td>188230509141741355</td>\n",
       "    </tr>\n",
       "    <tr>\n",
       "      <th>...</th>\n",
       "      <td>...</td>\n",
       "      <td>...</td>\n",
       "      <td>...</td>\n",
       "      <td>...</td>\n",
       "      <td>...</td>\n",
       "      <td>...</td>\n",
       "    </tr>\n",
       "    <tr>\n",
       "      <th>64310</th>\n",
       "      <td>9086336013741133207</td>\n",
       "      <td>2023-06-03 14:34:41</td>\n",
       "      <td>9086336013741133207</td>\n",
       "      <td>[188230603065410859, 188230601110419982]</td>\n",
       "      <td>[188230603094126337, 188230602080543524, 18823...</td>\n",
       "      <td>188230603070501867</td>\n",
       "    </tr>\n",
       "    <tr>\n",
       "      <th>64311</th>\n",
       "      <td>9091466452883713764</td>\n",
       "      <td>2023-06-03 13:48:23</td>\n",
       "      <td>9091466452883713764</td>\n",
       "      <td>[188230603010727753, 188230603002348338, 18823...</td>\n",
       "      <td>[188230603115744524, 188230530114327528, 18823...</td>\n",
       "      <td>188230603115744524</td>\n",
       "    </tr>\n",
       "    <tr>\n",
       "      <th>64312</th>\n",
       "      <td>9096447930985365881</td>\n",
       "      <td>2023-06-03 08:56:04</td>\n",
       "      <td>9096447930985365881</td>\n",
       "      <td>[188230602170535812]</td>\n",
       "      <td>[188230602105222869, 188230602095309667, 18823...</td>\n",
       "      <td>188230603081923381</td>\n",
       "    </tr>\n",
       "    <tr>\n",
       "      <th>64313</th>\n",
       "      <td>9098153632065201086</td>\n",
       "      <td>2023-06-03 20:51:37</td>\n",
       "      <td>9098153632065201086</td>\n",
       "      <td>[188230603092441689, 18823060222375915]</td>\n",
       "      <td>[18823060317105873, 188230531174225747, 188230...</td>\n",
       "      <td>188230601080102386</td>\n",
       "    </tr>\n",
       "    <tr>\n",
       "      <th>64314</th>\n",
       "      <td>9098321631984312985</td>\n",
       "      <td>2023-06-03 18:03:56</td>\n",
       "      <td>9098321631984312985</td>\n",
       "      <td>[188230603165633112]</td>\n",
       "      <td>[188230603110742505, 188230602182611176, 18823...</td>\n",
       "      <td>188230603065306311</td>\n",
       "    </tr>\n",
       "  </tbody>\n",
       "</table>\n",
       "<p>64315 rows × 6 columns</p>\n",
       "</div>"
      ],
      "text/plain": [
       "                      guid                  dt                 user  \\\n",
       "0      1000593691952460179 2023-06-01 11:50:01  1000593691952460179   \n",
       "1      1001091507763033221 2023-06-01 10:53:03  1001091507763033221   \n",
       "2      1002593331984405900 2023-06-01 10:57:54  1002593331984405900   \n",
       "3      1003000125712104133 2023-06-01 15:55:47  1003000125712104133   \n",
       "4      1003804531741109381 2023-06-01 15:57:35  1003804531741109381   \n",
       "...                    ...                 ...                  ...   \n",
       "64310  9086336013741133207 2023-06-03 14:34:41  9086336013741133207   \n",
       "64311  9091466452883713764 2023-06-03 13:48:23  9091466452883713764   \n",
       "64312  9096447930985365881 2023-06-03 08:56:04  9096447930985365881   \n",
       "64313  9098153632065201086 2023-06-03 20:51:37  9098153632065201086   \n",
       "64314  9098321631984312985 2023-06-03 18:03:56  9098321631984312985   \n",
       "\n",
       "                                            clicked_news  \\\n",
       "0                                   [188230531214548779]   \n",
       "1                                    [18823053115365144]   \n",
       "2                                   [188230601065833685]   \n",
       "3                                     [1882306010713553]   \n",
       "4      [188230531122429652, 20221110111334543, 188230...   \n",
       "...                                                  ...   \n",
       "64310           [188230603065410859, 188230601110419982]   \n",
       "64311  [188230603010727753, 188230603002348338, 18823...   \n",
       "64312                               [188230602170535812]   \n",
       "64313            [188230603092441689, 18823060222375915]   \n",
       "64314                               [188230603165633112]   \n",
       "\n",
       "                                         click_0_itemIDs      candidate_news  \n",
       "0      [188230601095827535, 188230601061406565, 18823...  188230601060040919  \n",
       "1      [188230601065833685, 188230531210556396, 18823...  188230531210556396  \n",
       "2               [188230601092327402, 188230530232318576]  188230601092327402  \n",
       "3      [188230601135146848, 188230601142246788, 18823...  188230601134612455  \n",
       "4      [18823060109571305, 188230601100005841, 188230...  188230509141741355  \n",
       "...                                                  ...                 ...  \n",
       "64310  [188230603094126337, 188230602080543524, 18823...  188230603070501867  \n",
       "64311  [188230603115744524, 188230530114327528, 18823...  188230603115744524  \n",
       "64312  [188230602105222869, 188230602095309667, 18823...  188230603081923381  \n",
       "64313  [18823060317105873, 188230531174225747, 188230...  188230601080102386  \n",
       "64314  [188230603110742505, 188230602182611176, 18823...  188230603065306311  \n",
       "\n",
       "[64315 rows x 6 columns]"
      ]
     },
     "execution_count": 33,
     "metadata": {},
     "output_type": "execute_result"
    }
   ],
   "source": [
    "df_to_csv = df_to_csv.toPandas()\n",
    "df_to_csv"
   ]
  },
  {
   "cell_type": "code",
   "execution_count": 61,
   "id": "aad6f70d-19a6-4f7c-8ffc-aad6c70c56cd",
   "metadata": {
    "tags": []
   },
   "outputs": [
    {
     "data": {
      "text/html": [
       "<div>\n",
       "<style scoped>\n",
       "    .dataframe tbody tr th:only-of-type {\n",
       "        vertical-align: middle;\n",
       "    }\n",
       "\n",
       "    .dataframe tbody tr th {\n",
       "        vertical-align: top;\n",
       "    }\n",
       "\n",
       "    .dataframe thead th {\n",
       "        text-align: right;\n",
       "    }\n",
       "</style>\n",
       "<table border=\"1\" class=\"dataframe\">\n",
       "  <thead>\n",
       "    <tr style=\"text-align: right;\">\n",
       "      <th></th>\n",
       "      <th>dt</th>\n",
       "      <th>user</th>\n",
       "      <th>clicked_news</th>\n",
       "      <th>click_0_itemIDs</th>\n",
       "      <th>candidate_news</th>\n",
       "    </tr>\n",
       "  </thead>\n",
       "  <tbody>\n",
       "    <tr>\n",
       "      <th>0</th>\n",
       "      <td>2023-06-01 11:50:01</td>\n",
       "      <td>1000593691952460179</td>\n",
       "      <td>[188230531214548779]</td>\n",
       "      <td>[188230601095827535, 188230601061406565, 18823...</td>\n",
       "      <td>188230601060040919</td>\n",
       "    </tr>\n",
       "    <tr>\n",
       "      <th>1</th>\n",
       "      <td>2023-06-01 10:53:03</td>\n",
       "      <td>1001091507763033221</td>\n",
       "      <td>[18823053115365144]</td>\n",
       "      <td>[188230601065833685, 188230531210556396, 18823...</td>\n",
       "      <td>188230531210556396</td>\n",
       "    </tr>\n",
       "    <tr>\n",
       "      <th>2</th>\n",
       "      <td>2023-06-01 15:55:47</td>\n",
       "      <td>1003000125712104133</td>\n",
       "      <td>[1882306010713553]</td>\n",
       "      <td>[188230601135146848, 188230601142246788, 18823...</td>\n",
       "      <td>188230601134612455</td>\n",
       "    </tr>\n",
       "    <tr>\n",
       "      <th>3</th>\n",
       "      <td>2023-06-01 15:57:35</td>\n",
       "      <td>1003804531741109381</td>\n",
       "      <td>[188230531122429652, 20221110111334543, 188230...</td>\n",
       "      <td>[18823060109571305, 188230601100005841, 188230...</td>\n",
       "      <td>188230509141741355</td>\n",
       "    </tr>\n",
       "    <tr>\n",
       "      <th>4</th>\n",
       "      <td>2023-06-01 16:34:31</td>\n",
       "      <td>1004173811963373118</td>\n",
       "      <td>[188230601103753849, 188230601104548521, 18823...</td>\n",
       "      <td>[188230601162708712, 188230601155508097, 18823...</td>\n",
       "      <td>188230601162708712</td>\n",
       "    </tr>\n",
       "    <tr>\n",
       "      <th>...</th>\n",
       "      <td>...</td>\n",
       "      <td>...</td>\n",
       "      <td>...</td>\n",
       "      <td>...</td>\n",
       "      <td>...</td>\n",
       "    </tr>\n",
       "    <tr>\n",
       "      <th>58614</th>\n",
       "      <td>2023-06-03 14:34:41</td>\n",
       "      <td>9086336013741133207</td>\n",
       "      <td>[188230603065410859, 188230601110419982]</td>\n",
       "      <td>[188230603094126337, 188230602080543524, 18823...</td>\n",
       "      <td>188230603070501867</td>\n",
       "    </tr>\n",
       "    <tr>\n",
       "      <th>58615</th>\n",
       "      <td>2023-06-03 13:48:23</td>\n",
       "      <td>9091466452883713764</td>\n",
       "      <td>[188230603010727753, 188230603002348338, 18823...</td>\n",
       "      <td>[188230603115744524, 188230530114327528, 18823...</td>\n",
       "      <td>188230603115744524</td>\n",
       "    </tr>\n",
       "    <tr>\n",
       "      <th>58616</th>\n",
       "      <td>2023-06-03 08:56:04</td>\n",
       "      <td>9096447930985365881</td>\n",
       "      <td>[188230602170535812]</td>\n",
       "      <td>[188230602105222869, 188230602095309667, 18823...</td>\n",
       "      <td>188230603081923381</td>\n",
       "    </tr>\n",
       "    <tr>\n",
       "      <th>58617</th>\n",
       "      <td>2023-06-03 20:51:37</td>\n",
       "      <td>9098153632065201086</td>\n",
       "      <td>[188230603092441689, 18823060222375915]</td>\n",
       "      <td>[18823060317105873, 188230531174225747, 188230...</td>\n",
       "      <td>188230601080102386</td>\n",
       "    </tr>\n",
       "    <tr>\n",
       "      <th>58618</th>\n",
       "      <td>2023-06-03 18:03:56</td>\n",
       "      <td>9098321631984312985</td>\n",
       "      <td>[188230603165633112]</td>\n",
       "      <td>[188230603110742505, 188230602182611176, 18823...</td>\n",
       "      <td>188230603065306311</td>\n",
       "    </tr>\n",
       "  </tbody>\n",
       "</table>\n",
       "<p>58619 rows × 5 columns</p>\n",
       "</div>"
      ],
      "text/plain": [
       "                       dt                 user  \\\n",
       "0     2023-06-01 11:50:01  1000593691952460179   \n",
       "1     2023-06-01 10:53:03  1001091507763033221   \n",
       "2     2023-06-01 15:55:47  1003000125712104133   \n",
       "3     2023-06-01 15:57:35  1003804531741109381   \n",
       "4     2023-06-01 16:34:31  1004173811963373118   \n",
       "...                   ...                  ...   \n",
       "58614 2023-06-03 14:34:41  9086336013741133207   \n",
       "58615 2023-06-03 13:48:23  9091466452883713764   \n",
       "58616 2023-06-03 08:56:04  9096447930985365881   \n",
       "58617 2023-06-03 20:51:37  9098153632065201086   \n",
       "58618 2023-06-03 18:03:56  9098321631984312985   \n",
       "\n",
       "                                            clicked_news  \\\n",
       "0                                   [188230531214548779]   \n",
       "1                                    [18823053115365144]   \n",
       "2                                     [1882306010713553]   \n",
       "3      [188230531122429652, 20221110111334543, 188230...   \n",
       "4      [188230601103753849, 188230601104548521, 18823...   \n",
       "...                                                  ...   \n",
       "58614           [188230603065410859, 188230601110419982]   \n",
       "58615  [188230603010727753, 188230603002348338, 18823...   \n",
       "58616                               [188230602170535812]   \n",
       "58617            [188230603092441689, 18823060222375915]   \n",
       "58618                               [188230603165633112]   \n",
       "\n",
       "                                         click_0_itemIDs      candidate_news  \n",
       "0      [188230601095827535, 188230601061406565, 18823...  188230601060040919  \n",
       "1      [188230601065833685, 188230531210556396, 18823...  188230531210556396  \n",
       "2      [188230601135146848, 188230601142246788, 18823...  188230601134612455  \n",
       "3      [18823060109571305, 188230601100005841, 188230...  188230509141741355  \n",
       "4      [188230601162708712, 188230601155508097, 18823...  188230601162708712  \n",
       "...                                                  ...                 ...  \n",
       "58614  [188230603094126337, 188230602080543524, 18823...  188230603070501867  \n",
       "58615  [188230603115744524, 188230530114327528, 18823...  188230603115744524  \n",
       "58616  [188230602105222869, 188230602095309667, 18823...  188230603081923381  \n",
       "58617  [18823060317105873, 188230531174225747, 188230...  188230601080102386  \n",
       "58618  [188230603110742505, 188230602182611176, 18823...  188230603065306311  \n",
       "\n",
       "[58619 rows x 5 columns]"
      ]
     },
     "execution_count": 61,
     "metadata": {},
     "output_type": "execute_result"
    }
   ],
   "source": [
    "# df_to_csv.drop('guid', axis =1, inplace=True)\n",
    "df_to_csv = df_to_csv[df_to_csv['click_0_itemIDs'].apply(lambda x: len(x) > 3)].reset_index(drop=True)\n",
    "df_to_csv"
   ]
  },
  {
   "cell_type": "code",
   "execution_count": 63,
   "id": "75f0b978-8018-4115-b7eb-d224acb570fb",
   "metadata": {
    "tags": []
   },
   "outputs": [
    {
     "data": {
      "text/plain": [
       "True"
      ]
     },
     "execution_count": 63,
     "metadata": {},
     "output_type": "execute_result"
    }
   ],
   "source": [
    "1 in df_to_csv['clicked_news'].explode().unique().tolist()"
   ]
  },
  {
   "cell_type": "code",
   "execution_count": 64,
   "id": "36364aae-a77e-47e5-b9fa-93c4ef2843e9",
   "metadata": {
    "tags": []
   },
   "outputs": [
    {
     "data": {
      "text/plain": [
       "8326"
      ]
     },
     "execution_count": 64,
     "metadata": {},
     "output_type": "execute_result"
    }
   ],
   "source": [
    "ids_merged_list = list(set(df_to_csv['candidate_news'].unique().tolist() + df_to_csv['click_0_itemIDs'].explode().unique().tolist() + df_to_csv['clicked_news'].explode().unique().tolist()))\n",
    "len(ids_merged_list)"
   ]
  },
  {
   "cell_type": "code",
   "execution_count": 45,
   "id": "8b6924b5-25e1-47f4-aaf5-3e287751d9ad",
   "metadata": {
    "tags": []
   },
   "outputs": [],
   "source": [
    "len(ids_merged_list)\n",
    "with open('../data_news/output.txt', 'w') as file:\n",
    "    file.writelines('\\n'.join(str(x) for x in ids_merged_list))"
   ]
  },
  {
   "cell_type": "code",
   "execution_count": 46,
   "id": "7f29d557-a55c-4d69-bff6-d091e06901d7",
   "metadata": {
    "tags": []
   },
   "outputs": [
    {
     "data": {
      "text/plain": [
       "[0, 1, 2, 3, 4, 5, 188230603113201668, 7, 6, 8]"
      ]
     },
     "execution_count": 46,
     "metadata": {},
     "output_type": "execute_result"
    }
   ],
   "source": [
    "ids_merged_list = []\n",
    "with open('../data_news/output.txt', 'r') as file:\n",
    "    for line in file:\n",
    "        ids_merged_list.append(int(line))\n",
    "ids_merged_list[:10]"
   ]
  },
  {
   "cell_type": "code",
   "execution_count": 47,
   "id": "34eb9914-fb9c-4b23-8fad-a7d8f002a8bf",
   "metadata": {
    "tags": []
   },
   "outputs": [
    {
     "data": {
      "text/plain": [
       "8593"
      ]
     },
     "execution_count": 47,
     "metadata": {},
     "output_type": "execute_result"
    }
   ],
   "source": [
    "len(ids_merged_list)"
   ]
  },
  {
   "cell_type": "code",
   "execution_count": null,
   "id": "3102ce60-234e-48cd-bd41-236db69d271b",
   "metadata": {},
   "outputs": [],
   "source": [
    "def take_k_clicked_0_news(click_0_itemIDs, K):\n",
    "    return click_0_itemIDs[:K]\n",
    "\n",
    "df_to_csv['click_0_itemIDs'] = df_to_csv['click_0_itemIDs'].apply(lambda x: take_k_clicked_0_news(x, K))"
   ]
  },
  {
   "cell_type": "code",
   "execution_count": 65,
   "id": "8f48a1dd-16aa-4876-a606-4dad8d64c510",
   "metadata": {
    "tags": []
   },
   "outputs": [],
   "source": [
    "# df_to_csv.iloc[0]['click_0_itemIDs']\n",
    "# df_to_csv['clicked'] = '1 0 0 0'"
   ]
  },
  {
   "cell_type": "code",
   "execution_count": 66,
   "id": "739e4f92-95c1-447a-8832-b452a609d325",
   "metadata": {
    "tags": []
   },
   "outputs": [],
   "source": [
    "df_to_csv.to_csv('../data_news/log.csv', index = False)"
   ]
  },
  {
   "cell_type": "code",
   "execution_count": 67,
   "id": "85ba6a93-a5fa-4583-9e8e-779c0ecfe3b9",
   "metadata": {
    "tags": []
   },
   "outputs": [
    {
     "data": {
      "text/plain": [
       "58619"
      ]
     },
     "execution_count": 67,
     "metadata": {},
     "output_type": "execute_result"
    }
   ],
   "source": [
    "len(df_to_csv)"
   ]
  },
  {
   "cell_type": "code",
   "execution_count": 68,
   "id": "cdfc5d42-f8eb-4590-90dd-a81baa6682e3",
   "metadata": {
    "tags": []
   },
   "outputs": [],
   "source": [
    "from sklearn.model_selection import train_test_split\n",
    "\n",
    "train_df, val_df = train_test_split(df_to_csv, test_size = 0.1, random_state=42)\n",
    "train_df = train_df.reset_index(drop=True)\n",
    "val_df = val_df.reset_index(drop=True)"
   ]
  },
  {
   "cell_type": "code",
   "execution_count": 69,
   "id": "95cf291c-f7a3-40a9-8e08-dd5fc92125bb",
   "metadata": {
    "tags": []
   },
   "outputs": [
    {
     "data": {
      "text/html": [
       "<div>\n",
       "<style scoped>\n",
       "    .dataframe tbody tr th:only-of-type {\n",
       "        vertical-align: middle;\n",
       "    }\n",
       "\n",
       "    .dataframe tbody tr th {\n",
       "        vertical-align: top;\n",
       "    }\n",
       "\n",
       "    .dataframe thead th {\n",
       "        text-align: right;\n",
       "    }\n",
       "</style>\n",
       "<table border=\"1\" class=\"dataframe\">\n",
       "  <thead>\n",
       "    <tr style=\"text-align: right;\">\n",
       "      <th></th>\n",
       "      <th>dt</th>\n",
       "      <th>user</th>\n",
       "      <th>clicked_news</th>\n",
       "      <th>click_0_itemIDs</th>\n",
       "      <th>candidate_news</th>\n",
       "      <th>clicked</th>\n",
       "    </tr>\n",
       "  </thead>\n",
       "  <tbody>\n",
       "    <tr>\n",
       "      <th>0</th>\n",
       "      <td>2023-06-02 17:22:34</td>\n",
       "      <td>8127699963539285012</td>\n",
       "      <td>[188230602014325398, 188230602071026589, 18823...</td>\n",
       "      <td>[188230601160000702, 188230602143933224, 18823...</td>\n",
       "      <td>20230220073334385</td>\n",
       "      <td>1 0 0 0</td>\n",
       "    </tr>\n",
       "    <tr>\n",
       "      <th>1</th>\n",
       "      <td>2023-06-02 21:13:42</td>\n",
       "      <td>8154076411984290855</td>\n",
       "      <td>[188230601203843682, 18823060208533999, 188230...</td>\n",
       "      <td>[18823060210485704, 188230602142624415, 188230...</td>\n",
       "      <td>188230602140011977</td>\n",
       "      <td>1 0 0 0</td>\n",
       "    </tr>\n",
       "    <tr>\n",
       "      <th>2</th>\n",
       "      <td>2023-06-01 21:49:27</td>\n",
       "      <td>1456308351907115413</td>\n",
       "      <td>[188230601133830527, 18823053115365144]</td>\n",
       "      <td>[188230601201406943, 188230601195328547, 18823...</td>\n",
       "      <td>188230531210556396</td>\n",
       "      <td>1 0 0 0</td>\n",
       "    </tr>\n",
       "    <tr>\n",
       "      <th>3</th>\n",
       "      <td>2023-06-02 17:23:06</td>\n",
       "      <td>6866179523741062785</td>\n",
       "      <td>[18823060113431264, 188230601112045329, 188230...</td>\n",
       "      <td>[188230521210651284, 188230531095844285, 18823...</td>\n",
       "      <td>188230602094935279</td>\n",
       "      <td>1 0 0 0</td>\n",
       "    </tr>\n",
       "    <tr>\n",
       "      <th>4</th>\n",
       "      <td>2023-06-01 11:48:25</td>\n",
       "      <td>8483719213419223378</td>\n",
       "      <td>[188230531215254922, 188230601081828941, 18823...</td>\n",
       "      <td>[188230601110529823, 188230531084205473, 18823...</td>\n",
       "      <td>188230531084205473</td>\n",
       "      <td>1 0 0 0</td>\n",
       "    </tr>\n",
       "  </tbody>\n",
       "</table>\n",
       "</div>"
      ],
      "text/plain": [
       "                   dt                 user  \\\n",
       "0 2023-06-02 17:22:34  8127699963539285012   \n",
       "1 2023-06-02 21:13:42  8154076411984290855   \n",
       "2 2023-06-01 21:49:27  1456308351907115413   \n",
       "3 2023-06-02 17:23:06  6866179523741062785   \n",
       "4 2023-06-01 11:48:25  8483719213419223378   \n",
       "\n",
       "                                        clicked_news  \\\n",
       "0  [188230602014325398, 188230602071026589, 18823...   \n",
       "1  [188230601203843682, 18823060208533999, 188230...   \n",
       "2            [188230601133830527, 18823053115365144]   \n",
       "3  [18823060113431264, 188230601112045329, 188230...   \n",
       "4  [188230531215254922, 188230601081828941, 18823...   \n",
       "\n",
       "                                     click_0_itemIDs      candidate_news  \\\n",
       "0  [188230601160000702, 188230602143933224, 18823...   20230220073334385   \n",
       "1  [18823060210485704, 188230602142624415, 188230...  188230602140011977   \n",
       "2  [188230601201406943, 188230601195328547, 18823...  188230531210556396   \n",
       "3  [188230521210651284, 188230531095844285, 18823...  188230602094935279   \n",
       "4  [188230601110529823, 188230531084205473, 18823...  188230531084205473   \n",
       "\n",
       "    clicked  \n",
       "0  1 0 0 0   \n",
       "1  1 0 0 0   \n",
       "2  1 0 0 0   \n",
       "3  1 0 0 0   \n",
       "4  1 0 0 0   "
      ]
     },
     "execution_count": 69,
     "metadata": {},
     "output_type": "execute_result"
    }
   ],
   "source": [
    "train_df['clicked'] = '1 ' + '0 '*(4-1)\n",
    "train_df.head()"
   ]
  },
  {
   "cell_type": "code",
   "execution_count": 70,
   "id": "61ac5a42-1349-4dbc-bfc3-8d143cc126bb",
   "metadata": {
    "tags": []
   },
   "outputs": [
    {
     "data": {
      "text/html": [
       "<div>\n",
       "<style scoped>\n",
       "    .dataframe tbody tr th:only-of-type {\n",
       "        vertical-align: middle;\n",
       "    }\n",
       "\n",
       "    .dataframe tbody tr th {\n",
       "        vertical-align: top;\n",
       "    }\n",
       "\n",
       "    .dataframe thead th {\n",
       "        text-align: right;\n",
       "    }\n",
       "</style>\n",
       "<table border=\"1\" class=\"dataframe\">\n",
       "  <thead>\n",
       "    <tr style=\"text-align: right;\">\n",
       "      <th></th>\n",
       "      <th>dt</th>\n",
       "      <th>user</th>\n",
       "      <th>clicked_news</th>\n",
       "      <th>click_0_itemIDs</th>\n",
       "      <th>candidate_news</th>\n",
       "      <th>clicked</th>\n",
       "    </tr>\n",
       "  </thead>\n",
       "  <tbody>\n",
       "    <tr>\n",
       "      <th>0</th>\n",
       "      <td>2023-06-02 16:14:46</td>\n",
       "      <td>1417130961984342686</td>\n",
       "      <td>[188230602073438587, 188230602071026589, 18823...</td>\n",
       "      <td>[188230602153626345, 188230602105222348, 18823...</td>\n",
       "      <td>188230602151729075</td>\n",
       "      <td>1 0 0 0 0 0 0 0 0 0 0 0 0 0 0 0 0 0 0 0 0 0 0 ...</td>\n",
       "    </tr>\n",
       "    <tr>\n",
       "      <th>1</th>\n",
       "      <td>2023-06-01 17:15:59</td>\n",
       "      <td>4384172263741060980</td>\n",
       "      <td>[188230531220735767, 188230601092846975, 18823...</td>\n",
       "      <td>[188230531100312113, 188230523194546056, 18823...</td>\n",
       "      <td>188230531100312113</td>\n",
       "      <td>1 0 0 0 0 0 0 0 0 0</td>\n",
       "    </tr>\n",
       "    <tr>\n",
       "      <th>2</th>\n",
       "      <td>2023-06-03 10:44:04</td>\n",
       "      <td>5322264411906414371</td>\n",
       "      <td>[18823060213494444, 18823060213494444, 1882306...</td>\n",
       "      <td>[188230603102523271, 18823060222375915, 188230...</td>\n",
       "      <td>188230603092441689</td>\n",
       "      <td>1 0 0 0 0 0 0 0 0 0 0</td>\n",
       "    </tr>\n",
       "    <tr>\n",
       "      <th>3</th>\n",
       "      <td>2023-06-03 14:34:18</td>\n",
       "      <td>6012439896458116068</td>\n",
       "      <td>[188230603010727753]</td>\n",
       "      <td>[188230603075244802, 188230603110712887, 18823...</td>\n",
       "      <td>188230603075244802</td>\n",
       "      <td>1 0 0 0 0</td>\n",
       "    </tr>\n",
       "    <tr>\n",
       "      <th>4</th>\n",
       "      <td>2023-06-03 09:02:54</td>\n",
       "      <td>4681052192884382090</td>\n",
       "      <td>[188230601161250583, 188230602100245473, 18823...</td>\n",
       "      <td>[188230602170535812, 18823060119075476, 188230...</td>\n",
       "      <td>18823060119075476</td>\n",
       "      <td>1 0 0 0 0 0 0 0 0 0 0 0 0 0 0</td>\n",
       "    </tr>\n",
       "  </tbody>\n",
       "</table>\n",
       "</div>"
      ],
      "text/plain": [
       "                   dt                 user  \\\n",
       "0 2023-06-02 16:14:46  1417130961984342686   \n",
       "1 2023-06-01 17:15:59  4384172263741060980   \n",
       "2 2023-06-03 10:44:04  5322264411906414371   \n",
       "3 2023-06-03 14:34:18  6012439896458116068   \n",
       "4 2023-06-03 09:02:54  4681052192884382090   \n",
       "\n",
       "                                        clicked_news  \\\n",
       "0  [188230602073438587, 188230602071026589, 18823...   \n",
       "1  [188230531220735767, 188230601092846975, 18823...   \n",
       "2  [18823060213494444, 18823060213494444, 1882306...   \n",
       "3                               [188230603010727753]   \n",
       "4  [188230601161250583, 188230602100245473, 18823...   \n",
       "\n",
       "                                     click_0_itemIDs      candidate_news  \\\n",
       "0  [188230602153626345, 188230602105222348, 18823...  188230602151729075   \n",
       "1  [188230531100312113, 188230523194546056, 18823...  188230531100312113   \n",
       "2  [188230603102523271, 18823060222375915, 188230...  188230603092441689   \n",
       "3  [188230603075244802, 188230603110712887, 18823...  188230603075244802   \n",
       "4  [188230602170535812, 18823060119075476, 188230...   18823060119075476   \n",
       "\n",
       "                                             clicked  \n",
       "0  1 0 0 0 0 0 0 0 0 0 0 0 0 0 0 0 0 0 0 0 0 0 0 ...  \n",
       "1                               1 0 0 0 0 0 0 0 0 0   \n",
       "2                             1 0 0 0 0 0 0 0 0 0 0   \n",
       "3                                         1 0 0 0 0   \n",
       "4                     1 0 0 0 0 0 0 0 0 0 0 0 0 0 0   "
      ]
     },
     "execution_count": 70,
     "metadata": {},
     "output_type": "execute_result"
    },
    {
     "name": "stdout",
     "output_type": "stream",
     "text": [
      "23/06/21 16:30:07 WARN JavaUtils: Attempt to delete using native Unix OS command failed for path = /tmp/blockmgr-a2479844-495c-4756-8058-5b8587e4498a. Falling back to Java IO way\n",
      "java.io.IOException: Failed to delete: /tmp/blockmgr-a2479844-495c-4756-8058-5b8587e4498a\n",
      "\tat org.apache.spark.network.util.JavaUtils.deleteRecursivelyUsingUnixNative(JavaUtils.java:171)\n",
      "\tat org.apache.spark.network.util.JavaUtils.deleteRecursively(JavaUtils.java:110)\n",
      "\tat org.apache.spark.network.util.JavaUtils.deleteRecursively(JavaUtils.java:91)\n",
      "\tat org.apache.spark.util.Utils$.deleteRecursively(Utils.scala:1206)\n",
      "\tat org.apache.spark.storage.DiskBlockManager.$anonfun$doStop$1(DiskBlockManager.scala:374)\n",
      "\tat org.apache.spark.storage.DiskBlockManager.$anonfun$doStop$1$adapted(DiskBlockManager.scala:370)\n",
      "\tat scala.collection.IndexedSeqOptimized.foreach(IndexedSeqOptimized.scala:36)\n",
      "\tat scala.collection.IndexedSeqOptimized.foreach$(IndexedSeqOptimized.scala:33)\n",
      "\tat scala.collection.mutable.ArrayOps$ofRef.foreach(ArrayOps.scala:198)\n",
      "\tat org.apache.spark.storage.DiskBlockManager.doStop(DiskBlockManager.scala:370)\n",
      "\tat org.apache.spark.storage.DiskBlockManager.stop(DiskBlockManager.scala:365)\n",
      "\tat org.apache.spark.storage.BlockManager.stop(BlockManager.scala:2040)\n",
      "\tat org.apache.spark.SparkEnv.stop(SparkEnv.scala:95)\n",
      "\tat org.apache.spark.SparkContext.$anonfun$stop$23(SparkContext.scala:2150)\n",
      "\tat org.apache.spark.util.Utils$.tryLogNonFatalError(Utils.scala:1484)\n",
      "\tat org.apache.spark.SparkContext.stop(SparkContext.scala:2150)\n",
      "\tat org.apache.spark.SparkContext.$anonfun$new$35(SparkContext.scala:670)\n",
      "\tat org.apache.spark.util.SparkShutdownHook.run(ShutdownHookManager.scala:214)\n",
      "\tat org.apache.spark.util.SparkShutdownHookManager.$anonfun$runAll$2(ShutdownHookManager.scala:188)\n",
      "\tat scala.runtime.java8.JFunction0$mcV$sp.apply(JFunction0$mcV$sp.java:23)\n",
      "\tat org.apache.spark.util.Utils$.logUncaughtExceptions(Utils.scala:2066)\n",
      "\tat org.apache.spark.util.SparkShutdownHookManager.$anonfun$runAll$1(ShutdownHookManager.scala:188)\n",
      "\tat scala.runtime.java8.JFunction0$mcV$sp.apply(JFunction0$mcV$sp.java:23)\n",
      "\tat scala.util.Try$.apply(Try.scala:213)\n",
      "\tat org.apache.spark.util.SparkShutdownHookManager.runAll(ShutdownHookManager.scala:188)\n",
      "\tat org.apache.spark.util.SparkShutdownHookManager$$anon$2.run(ShutdownHookManager.scala:178)\n",
      "\tat java.util.concurrent.Executors$RunnableAdapter.call(Executors.java:511)\n",
      "\tat java.util.concurrent.FutureTask.run(FutureTask.java:266)\n",
      "\tat java.util.concurrent.ThreadPoolExecutor.runWorker(ThreadPoolExecutor.java:1149)\n",
      "\tat java.util.concurrent.ThreadPoolExecutor$Worker.run(ThreadPoolExecutor.java:624)\n",
      "\tat java.lang.Thread.run(Thread.java:748)\n"
     ]
    },
    {
     "name": "stderr",
     "output_type": "stream",
     "text": [
      "----------------------------------------\n",
      "Exception happened during processing of request from ('127.0.0.1', 41624)\n",
      "Traceback (most recent call last):\n",
      "  File \"/data2/nghiatl/anaconda3/envs/SEO/lib/python3.8/socketserver.py\", line 316, in _handle_request_noblock\n",
      "    self.process_request(request, client_address)\n",
      "  File \"/data2/nghiatl/anaconda3/envs/SEO/lib/python3.8/socketserver.py\", line 347, in process_request\n",
      "    self.finish_request(request, client_address)\n",
      "  File \"/data2/nghiatl/anaconda3/envs/SEO/lib/python3.8/socketserver.py\", line 360, in finish_request\n",
      "    self.RequestHandlerClass(request, client_address, self)\n",
      "  File \"/data2/nghiatl/anaconda3/envs/SEO/lib/python3.8/socketserver.py\", line 747, in __init__\n",
      "    self.handle()\n",
      "  File \"/data2/nghiatl/anaconda3/envs/SEO/lib/python3.8/site-packages/pyspark/accumulators.py\", line 281, in handle\n",
      "    poll(accum_updates)\n",
      "  File \"/data2/nghiatl/anaconda3/envs/SEO/lib/python3.8/site-packages/pyspark/accumulators.py\", line 253, in poll\n",
      "    if func():\n",
      "  File \"/data2/nghiatl/anaconda3/envs/SEO/lib/python3.8/site-packages/pyspark/accumulators.py\", line 257, in accum_updates\n",
      "    num_updates = read_int(self.rfile)\n",
      "  File \"/data2/nghiatl/anaconda3/envs/SEO/lib/python3.8/site-packages/pyspark/serializers.py\", line 595, in read_int\n",
      "    raise EOFError\n",
      "EOFError\n",
      "----------------------------------------\n"
     ]
    }
   ],
   "source": [
    "val_df['clicked'] = val_df['click_0_itemIDs'].apply(lambda x: '1 ' + '0 ' * len(x))\n",
    "val_df.head()"
   ]
  },
  {
   "cell_type": "markdown",
   "id": "f2c24453-6ccc-4bb3-addb-31f7cfa780c1",
   "metadata": {
    "jp-MarkdownHeadingCollapsed": true,
    "tags": []
   },
   "source": [
    "## To Pandas"
   ]
  },
  {
   "cell_type": "code",
   "execution_count": null,
   "id": "5fe1135a-343d-48d8-a863-f0f52eedaa1a",
   "metadata": {
    "tags": []
   },
   "outputs": [
    {
     "name": "stderr",
     "output_type": "stream",
     "text": [
      "[Stage 44:=============>                                        (163 + 1) / 654]\r"
     ]
    }
   ],
   "source": [
    "group_df_pandas = grouped_df.toPandas()\n",
    "group_df_pandas.head(5)"
   ]
  },
  {
   "cell_type": "code",
   "execution_count": 43,
   "id": "b146ed47-d2a5-494a-a842-cd3945f5c7bb",
   "metadata": {},
   "outputs": [
    {
     "data": {
      "text/html": [
       "<div>\n",
       "<style scoped>\n",
       "    .dataframe tbody tr th:only-of-type {\n",
       "        vertical-align: middle;\n",
       "    }\n",
       "\n",
       "    .dataframe tbody tr th {\n",
       "        vertical-align: top;\n",
       "    }\n",
       "\n",
       "    .dataframe thead th {\n",
       "        text-align: right;\n",
       "    }\n",
       "</style>\n",
       "<table border=\"1\" class=\"dataframe\">\n",
       "  <thead>\n",
       "    <tr style=\"text-align: right;\">\n",
       "      <th></th>\n",
       "      <th>dt</th>\n",
       "      <th>cookietime</th>\n",
       "      <th>guid</th>\n",
       "      <th>itemsBox</th>\n",
       "      <th>domain</th>\n",
       "      <th>path</th>\n",
       "      <th>fullPath</th>\n",
       "      <th>ip</th>\n",
       "      <th>ipChain</th>\n",
       "      <th>clickOrView</th>\n",
       "      <th>referer</th>\n",
       "      <th>pageloadId</th>\n",
       "      <th>f13</th>\n",
       "      <th>f14</th>\n",
       "      <th>domain_guid</th>\n",
       "      <th>date</th>\n",
       "      <th>itemIDs</th>\n",
       "      <th>sorted_itemIDs</th>\n",
       "    </tr>\n",
       "  </thead>\n",
       "  <tbody>\n",
       "    <tr>\n",
       "      <th>0</th>\n",
       "      <td>2023-05-01 00:09:07</td>\n",
       "      <td>2023-05-01 00:09:07</td>\n",
       "      <td>-1</td>\n",
       "      <td>8578_712-cafef_detail_readmore_boxid_1_algid_1...</td>\n",
       "      <td>cafef.vn</td>\n",
       "      <td>/do-thi-kinh-bac-kbc-lai-hon-nghin-ty-quy-dau-...</td>\n",
       "      <td>https://cafef.vn/</td>\n",
       "      <td>116.110.41.128</td>\n",
       "      <td></td>\n",
       "      <td>1</td>\n",
       "      <td></td>\n",
       "      <td>1682874404047</td>\n",
       "      <td>01GZ9J7EWVRV26EJYE2Q06YDB7</td>\n",
       "      <td>1</td>\n",
       "      <td>737e608e246895d2d3428d039e00111e</td>\n",
       "      <td>2023-05-01</td>\n",
       "      <td>[188230429084604137]</td>\n",
       "      <td>[[188230429084604137]]</td>\n",
       "    </tr>\n",
       "    <tr>\n",
       "      <th>1</th>\n",
       "      <td>2023-05-04 16:28:53</td>\n",
       "      <td>2018-06-28 15:08:04</td>\n",
       "      <td>1001732842884082578</td>\n",
       "      <td>22987_564-cafef_detail_readmore_boxid_1_algid_...</td>\n",
       "      <td>cafef.vn</td>\n",
       "      <td>/moi-ngay-co-hon-1-trieu-nguoi-xem-jenny-huynh...</td>\n",
       "      <td>https://cafef.vn/</td>\n",
       "      <td>116.96.77.181</td>\n",
       "      <td></td>\n",
       "      <td>1</td>\n",
       "      <td></td>\n",
       "      <td>1683192308658</td>\n",
       "      <td>01GZK1FMPNSRXJBDY436HJF1EC</td>\n",
       "      <td>1</td>\n",
       "      <td>96dba11b057c1f0ccf8e3df385aba09b</td>\n",
       "      <td>2023-05-04</td>\n",
       "      <td>[188230504072627199]</td>\n",
       "      <td>[[188230504072627199]]</td>\n",
       "    </tr>\n",
       "    <tr>\n",
       "      <th>2</th>\n",
       "      <td>2023-05-04 15:25:20</td>\n",
       "      <td>2021-01-11 16:44:56</td>\n",
       "      <td>1003582962883798356</td>\n",
       "      <td>6187_599-cafef_detail_readmore_boxid_1_algid_1...</td>\n",
       "      <td>cafef.vn</td>\n",
       "      <td>/mot-du-an-cop-mac-masterise-homes-tai-phia-do...</td>\n",
       "      <td>https://cafef.vn/</td>\n",
       "      <td>171.250.4.146</td>\n",
       "      <td></td>\n",
       "      <td>1</td>\n",
       "      <td></td>\n",
       "      <td>1683188310790</td>\n",
       "      <td>01GZJXV97QVGHX24CSYEX113RT</td>\n",
       "      <td>1</td>\n",
       "      <td>814f5cc0243ddab54d1faa2eccd638b8</td>\n",
       "      <td>2023-05-04</td>\n",
       "      <td>[188230504110147336]</td>\n",
       "      <td>[[188230504110147336]]</td>\n",
       "    </tr>\n",
       "    <tr>\n",
       "      <th>3</th>\n",
       "      <td>2023-05-04 16:18:00</td>\n",
       "      <td>2021-08-31 13:46:59</td>\n",
       "      <td>1003924191700990917</td>\n",
       "      <td>8952_714-cafef_detail_readmore_boxid_1_algid_1...</td>\n",
       "      <td>cafef.vn</td>\n",
       "      <td>/truoc-on-ao-hen-ho-ong-dang-le-nguyen-vu-hoa-...</td>\n",
       "      <td>https://cafef.vn/</td>\n",
       "      <td>101.99.15.197</td>\n",
       "      <td></td>\n",
       "      <td>1</td>\n",
       "      <td></td>\n",
       "      <td>1683190190533</td>\n",
       "      <td>01GZK0VPJHY9BX033DFTSXHN4E</td>\n",
       "      <td>1</td>\n",
       "      <td>cc6909aca803d8b723253cec7890d7a0</td>\n",
       "      <td>2023-05-04</td>\n",
       "      <td>[188230503230520784]</td>\n",
       "      <td>[[188230503230520784]]</td>\n",
       "    </tr>\n",
       "    <tr>\n",
       "      <th>4</th>\n",
       "      <td>2023-05-04 11:12:48</td>\n",
       "      <td>2019-10-07 12:52:25</td>\n",
       "      <td>1004275451906438397</td>\n",
       "      <td>9018_571-cafef_detail_readmore_boxid_1_algid_1...</td>\n",
       "      <td>cafef.vn</td>\n",
       "      <td>/truoc-on-ao-hen-ho-ong-dang-le-nguyen-vu-hoa-...</td>\n",
       "      <td>https://cafef.vn/</td>\n",
       "      <td>203.210.239.212</td>\n",
       "      <td></td>\n",
       "      <td>1</td>\n",
       "      <td></td>\n",
       "      <td>1683173491683</td>\n",
       "      <td>01GZJFCVVEBX157DTM9PXEE516</td>\n",
       "      <td>1</td>\n",
       "      <td>bdcea18fead7caa1025ff2bfffbfa289</td>\n",
       "      <td>2023-05-04</td>\n",
       "      <td>[18823050320045371]</td>\n",
       "      <td>[[18823050320045371]]</td>\n",
       "    </tr>\n",
       "    <tr>\n",
       "      <th>...</th>\n",
       "      <td>...</td>\n",
       "      <td>...</td>\n",
       "      <td>...</td>\n",
       "      <td>...</td>\n",
       "      <td>...</td>\n",
       "      <td>...</td>\n",
       "      <td>...</td>\n",
       "      <td>...</td>\n",
       "      <td>...</td>\n",
       "      <td>...</td>\n",
       "      <td>...</td>\n",
       "      <td>...</td>\n",
       "      <td>...</td>\n",
       "      <td>...</td>\n",
       "      <td>...</td>\n",
       "      <td>...</td>\n",
       "      <td>...</td>\n",
       "      <td>...</td>\n",
       "    </tr>\n",
       "    <tr>\n",
       "      <th>17929</th>\n",
       "      <td>2023-05-04 08:26:27</td>\n",
       "      <td>2022-04-13 16:27:05</td>\n",
       "      <td>9098420251984331865</td>\n",
       "      <td>10004_695-cafef_detail_readmore_boxid_1_algid_...</td>\n",
       "      <td>cafef.vn</td>\n",
       "      <td>/vndirect-khong-co-doanh-nghiep-phat-hanh-trai...</td>\n",
       "      <td>https://cafef.vn/</td>\n",
       "      <td>118.70.128.89</td>\n",
       "      <td></td>\n",
       "      <td>1</td>\n",
       "      <td></td>\n",
       "      <td>1683163804740</td>\n",
       "      <td>01GZJ5W92W6K96NQDRAA7SVKJE</td>\n",
       "      <td>1</td>\n",
       "      <td>393bf99aa0c6bc1e7401f99d8b1fdd24</td>\n",
       "      <td>2023-05-04</td>\n",
       "      <td>[18823050315311197]</td>\n",
       "      <td>[[18823050315311197]]</td>\n",
       "    </tr>\n",
       "    <tr>\n",
       "      <th>17930</th>\n",
       "      <td>2023-05-04 08:12:57</td>\n",
       "      <td>2023-03-27 07:18:44</td>\n",
       "      <td>9098763241952696987</td>\n",
       "      <td>9195_520-cafef_detail_readmore_boxid_1_algid_1...</td>\n",
       "      <td>cafef.vn</td>\n",
       "      <td>/nhung-con-so-khung-dau-tien-ve-du-lich-30-4-1...</td>\n",
       "      <td>https://cafef.vn/</td>\n",
       "      <td>42.118.194.42</td>\n",
       "      <td></td>\n",
       "      <td>1</td>\n",
       "      <td></td>\n",
       "      <td>1683162635847</td>\n",
       "      <td>01GZJ53J4GE42SQTYF1PJK2VM8</td>\n",
       "      <td>1</td>\n",
       "      <td>bfa03b7dbbd1c9c9d2c54fe26f035c00</td>\n",
       "      <td>2023-05-04</td>\n",
       "      <td>[188230503155811935]</td>\n",
       "      <td>[[188230503155811935]]</td>\n",
       "    </tr>\n",
       "    <tr>\n",
       "      <th>17931</th>\n",
       "      <td>2023-05-05 10:37:20</td>\n",
       "      <td>2022-12-01 16:04:52</td>\n",
       "      <td>9098854922065243854</td>\n",
       "      <td>9806_1001-cafef_detail_readmore_boxid_1_algid_...</td>\n",
       "      <td>cafef.vn</td>\n",
       "      <td>/hoi-me-bau-tiet-lo-chi-phi-sam-do-don-con-cha...</td>\n",
       "      <td>https://cafef.vn/</td>\n",
       "      <td>125.212.129.94</td>\n",
       "      <td></td>\n",
       "      <td>1</td>\n",
       "      <td></td>\n",
       "      <td>1683257727076</td>\n",
       "      <td>01GZMZRMZ9VDEESK1B9SW6KBTN</td>\n",
       "      <td>1</td>\n",
       "      <td>cf600b02c3c28f4347f0ee2eeddeeebd</td>\n",
       "      <td>2023-05-05</td>\n",
       "      <td>[188230505085118761]</td>\n",
       "      <td>[[188230505085118761]]</td>\n",
       "    </tr>\n",
       "    <tr>\n",
       "      <th>17932</th>\n",
       "      <td>2023-05-03 13:46:55</td>\n",
       "      <td>2023-03-27 10:31:22</td>\n",
       "      <td>9098878821897345386</td>\n",
       "      <td>9844_639-cafef_detail_readmore_boxid_1_algid_1...</td>\n",
       "      <td>cafef.vn</td>\n",
       "      <td>/viet-hai-lang-chai-co-duoc-cac-gia-dinh-quan-...</td>\n",
       "      <td>https://cafef.vn/</td>\n",
       "      <td>1.52.41.121</td>\n",
       "      <td></td>\n",
       "      <td>1</td>\n",
       "      <td></td>\n",
       "      <td>1683096514794</td>\n",
       "      <td>01GZG5TB2XWZAM55F3KG51XT17</td>\n",
       "      <td>1</td>\n",
       "      <td>0a2d22bf0bfa49535890e35bc0f13b65</td>\n",
       "      <td>2023-05-03</td>\n",
       "      <td>[188230502165724024]</td>\n",
       "      <td>[[188230502165724024]]</td>\n",
       "    </tr>\n",
       "    <tr>\n",
       "      <th>17933</th>\n",
       "      <td>2023-05-05 08:03:17</td>\n",
       "      <td>2020-09-11 08:40:01</td>\n",
       "      <td>9099788401457954048</td>\n",
       "      <td>8522_473-cafef_detail_readmore_boxid_1_algid_1...</td>\n",
       "      <td>cafef.vn</td>\n",
       "      <td>/co-nhung-bi-mat-gi-ben-trong-cuon-sach-dat-gi...</td>\n",
       "      <td>https://cafef.vn/co-nhung-bi-mat-gi-ben-trong-...</td>\n",
       "      <td>171.248.96.69</td>\n",
       "      <td></td>\n",
       "      <td>1</td>\n",
       "      <td></td>\n",
       "      <td>1683248244009</td>\n",
       "      <td>01GZMPYJ40E0KHRRE2ZABY4F56</td>\n",
       "      <td>1</td>\n",
       "      <td>a130288c3d51993a9f824587e5589939</td>\n",
       "      <td>2023-05-05</td>\n",
       "      <td>[188230504203715481]</td>\n",
       "      <td>[[188230504203715481]]</td>\n",
       "    </tr>\n",
       "  </tbody>\n",
       "</table>\n",
       "<p>17934 rows × 18 columns</p>\n",
       "</div>"
      ],
      "text/plain": [
       "                        dt           cookietime                 guid  \\\n",
       "0      2023-05-01 00:09:07  2023-05-01 00:09:07                   -1   \n",
       "1      2023-05-04 16:28:53  2018-06-28 15:08:04  1001732842884082578   \n",
       "2      2023-05-04 15:25:20  2021-01-11 16:44:56  1003582962883798356   \n",
       "3      2023-05-04 16:18:00  2021-08-31 13:46:59  1003924191700990917   \n",
       "4      2023-05-04 11:12:48  2019-10-07 12:52:25  1004275451906438397   \n",
       "...                    ...                  ...                  ...   \n",
       "17929  2023-05-04 08:26:27  2022-04-13 16:27:05  9098420251984331865   \n",
       "17930  2023-05-04 08:12:57  2023-03-27 07:18:44  9098763241952696987   \n",
       "17931  2023-05-05 10:37:20  2022-12-01 16:04:52  9098854922065243854   \n",
       "17932  2023-05-03 13:46:55  2023-03-27 10:31:22  9098878821897345386   \n",
       "17933  2023-05-05 08:03:17  2020-09-11 08:40:01  9099788401457954048   \n",
       "\n",
       "                                                itemsBox    domain  \\\n",
       "0      8578_712-cafef_detail_readmore_boxid_1_algid_1...  cafef.vn   \n",
       "1      22987_564-cafef_detail_readmore_boxid_1_algid_...  cafef.vn   \n",
       "2      6187_599-cafef_detail_readmore_boxid_1_algid_1...  cafef.vn   \n",
       "3      8952_714-cafef_detail_readmore_boxid_1_algid_1...  cafef.vn   \n",
       "4      9018_571-cafef_detail_readmore_boxid_1_algid_1...  cafef.vn   \n",
       "...                                                  ...       ...   \n",
       "17929  10004_695-cafef_detail_readmore_boxid_1_algid_...  cafef.vn   \n",
       "17930  9195_520-cafef_detail_readmore_boxid_1_algid_1...  cafef.vn   \n",
       "17931  9806_1001-cafef_detail_readmore_boxid_1_algid_...  cafef.vn   \n",
       "17932  9844_639-cafef_detail_readmore_boxid_1_algid_1...  cafef.vn   \n",
       "17933  8522_473-cafef_detail_readmore_boxid_1_algid_1...  cafef.vn   \n",
       "\n",
       "                                                    path  \\\n",
       "0      /do-thi-kinh-bac-kbc-lai-hon-nghin-ty-quy-dau-...   \n",
       "1      /moi-ngay-co-hon-1-trieu-nguoi-xem-jenny-huynh...   \n",
       "2      /mot-du-an-cop-mac-masterise-homes-tai-phia-do...   \n",
       "3      /truoc-on-ao-hen-ho-ong-dang-le-nguyen-vu-hoa-...   \n",
       "4      /truoc-on-ao-hen-ho-ong-dang-le-nguyen-vu-hoa-...   \n",
       "...                                                  ...   \n",
       "17929  /vndirect-khong-co-doanh-nghiep-phat-hanh-trai...   \n",
       "17930  /nhung-con-so-khung-dau-tien-ve-du-lich-30-4-1...   \n",
       "17931  /hoi-me-bau-tiet-lo-chi-phi-sam-do-don-con-cha...   \n",
       "17932  /viet-hai-lang-chai-co-duoc-cac-gia-dinh-quan-...   \n",
       "17933  /co-nhung-bi-mat-gi-ben-trong-cuon-sach-dat-gi...   \n",
       "\n",
       "                                                fullPath               ip  \\\n",
       "0                                      https://cafef.vn/   116.110.41.128   \n",
       "1                                      https://cafef.vn/    116.96.77.181   \n",
       "2                                      https://cafef.vn/    171.250.4.146   \n",
       "3                                      https://cafef.vn/    101.99.15.197   \n",
       "4                                      https://cafef.vn/  203.210.239.212   \n",
       "...                                                  ...              ...   \n",
       "17929                                  https://cafef.vn/    118.70.128.89   \n",
       "17930                                  https://cafef.vn/    42.118.194.42   \n",
       "17931                                  https://cafef.vn/   125.212.129.94   \n",
       "17932                                  https://cafef.vn/      1.52.41.121   \n",
       "17933  https://cafef.vn/co-nhung-bi-mat-gi-ben-trong-...    171.248.96.69   \n",
       "\n",
       "      ipChain  clickOrView referer     pageloadId                         f13  \\\n",
       "0                        1          1682874404047  01GZ9J7EWVRV26EJYE2Q06YDB7   \n",
       "1                        1          1683192308658  01GZK1FMPNSRXJBDY436HJF1EC   \n",
       "2                        1          1683188310790  01GZJXV97QVGHX24CSYEX113RT   \n",
       "3                        1          1683190190533  01GZK0VPJHY9BX033DFTSXHN4E   \n",
       "4                        1          1683173491683  01GZJFCVVEBX157DTM9PXEE516   \n",
       "...       ...          ...     ...            ...                         ...   \n",
       "17929                    1          1683163804740  01GZJ5W92W6K96NQDRAA7SVKJE   \n",
       "17930                    1          1683162635847  01GZJ53J4GE42SQTYF1PJK2VM8   \n",
       "17931                    1          1683257727076  01GZMZRMZ9VDEESK1B9SW6KBTN   \n",
       "17932                    1          1683096514794  01GZG5TB2XWZAM55F3KG51XT17   \n",
       "17933                    1          1683248244009  01GZMPYJ40E0KHRRE2ZABY4F56   \n",
       "\n",
       "      f14                       domain_guid        date               itemIDs  \\\n",
       "0       1  737e608e246895d2d3428d039e00111e  2023-05-01  [188230429084604137]   \n",
       "1       1  96dba11b057c1f0ccf8e3df385aba09b  2023-05-04  [188230504072627199]   \n",
       "2       1  814f5cc0243ddab54d1faa2eccd638b8  2023-05-04  [188230504110147336]   \n",
       "3       1  cc6909aca803d8b723253cec7890d7a0  2023-05-04  [188230503230520784]   \n",
       "4       1  bdcea18fead7caa1025ff2bfffbfa289  2023-05-04   [18823050320045371]   \n",
       "...    ..                               ...         ...                   ...   \n",
       "17929   1  393bf99aa0c6bc1e7401f99d8b1fdd24  2023-05-04   [18823050315311197]   \n",
       "17930   1  bfa03b7dbbd1c9c9d2c54fe26f035c00  2023-05-04  [188230503155811935]   \n",
       "17931   1  cf600b02c3c28f4347f0ee2eeddeeebd  2023-05-05  [188230505085118761]   \n",
       "17932   1  0a2d22bf0bfa49535890e35bc0f13b65  2023-05-03  [188230502165724024]   \n",
       "17933   1  a130288c3d51993a9f824587e5589939  2023-05-05  [188230504203715481]   \n",
       "\n",
       "               sorted_itemIDs  \n",
       "0      [[188230429084604137]]  \n",
       "1      [[188230504072627199]]  \n",
       "2      [[188230504110147336]]  \n",
       "3      [[188230503230520784]]  \n",
       "4       [[18823050320045371]]  \n",
       "...                       ...  \n",
       "17929   [[18823050315311197]]  \n",
       "17930  [[188230503155811935]]  \n",
       "17931  [[188230505085118761]]  \n",
       "17932  [[188230502165724024]]  \n",
       "17933  [[188230504203715481]]  \n",
       "\n",
       "[17934 rows x 18 columns]"
      ]
     },
     "execution_count": 43,
     "metadata": {},
     "output_type": "execute_result"
    }
   ],
   "source": [
    "group_df_pandas"
   ]
  },
  {
   "cell_type": "code",
   "execution_count": 47,
   "id": "acde4679-79f0-4a8d-86f4-81bd909560a5",
   "metadata": {
    "tags": []
   },
   "outputs": [
    {
     "data": {
      "text/plain": [
       "'[188230429084604137]'"
      ]
     },
     "execution_count": 47,
     "metadata": {},
     "output_type": "execute_result"
    }
   ],
   "source": [
    "group_df_pandas.iloc[0]['sorted_itemIDs'][0] > 1"
   ]
  },
  {
   "cell_type": "code",
   "execution_count": 49,
   "id": "826a45a3-0600-47e7-b6b5-a12565eb98ef",
   "metadata": {
    "tags": []
   },
   "outputs": [
    {
     "data": {
      "text/html": [
       "<div>\n",
       "<style scoped>\n",
       "    .dataframe tbody tr th:only-of-type {\n",
       "        vertical-align: middle;\n",
       "    }\n",
       "\n",
       "    .dataframe tbody tr th {\n",
       "        vertical-align: top;\n",
       "    }\n",
       "\n",
       "    .dataframe thead th {\n",
       "        text-align: right;\n",
       "    }\n",
       "</style>\n",
       "<table border=\"1\" class=\"dataframe\">\n",
       "  <thead>\n",
       "    <tr style=\"text-align: right;\">\n",
       "      <th></th>\n",
       "      <th>dt</th>\n",
       "      <th>cookietime</th>\n",
       "      <th>guid</th>\n",
       "      <th>itemsBox</th>\n",
       "      <th>domain</th>\n",
       "      <th>path</th>\n",
       "      <th>fullPath</th>\n",
       "      <th>ip</th>\n",
       "      <th>ipChain</th>\n",
       "      <th>clickOrView</th>\n",
       "      <th>referer</th>\n",
       "      <th>pageloadId</th>\n",
       "      <th>f13</th>\n",
       "      <th>f14</th>\n",
       "      <th>domain_guid</th>\n",
       "      <th>date</th>\n",
       "      <th>itemIDs</th>\n",
       "      <th>sorted_itemIDs</th>\n",
       "    </tr>\n",
       "  </thead>\n",
       "  <tbody>\n",
       "    <tr>\n",
       "      <th>2261</th>\n",
       "      <td>2023-05-01 19:49:59</td>\n",
       "      <td>2023-01-02 22:59:04</td>\n",
       "      <td>2026751441952460211</td>\n",
       "      <td>11472_561-cafef_detail_readmore_boxid_1_algid_...</td>\n",
       "      <td>cafef.vn</td>\n",
       "      <td>/nong-jack-ma-chinh-thuc-tu-bo-alibaba-cham-du...</td>\n",
       "      <td>https://cafef.vn/</td>\n",
       "      <td>113.185.55.162</td>\n",
       "      <td></td>\n",
       "      <td>1</td>\n",
       "      <td></td>\n",
       "      <td>-1</td>\n",
       "      <td>01GZBNSPCSRJYBMA7Z4T5PBRP4</td>\n",
       "      <td>1</td>\n",
       "      <td>b3a2455911637a31e6b6b8e052e545ab</td>\n",
       "      <td>2023-05-01</td>\n",
       "      <td>[188230501105830854]</td>\n",
       "      <td>[[188230501105830854], [188230501105830854]]</td>\n",
       "    </tr>\n",
       "    <tr>\n",
       "      <th>4718</th>\n",
       "      <td>2023-05-04 14:08:01</td>\n",
       "      <td>2021-10-02 16:28:09</td>\n",
       "      <td>3131668891953373896</td>\n",
       "      <td>7939_850-cafef_detail_readmore_boxid_1_algid_1...</td>\n",
       "      <td>cafef.vn</td>\n",
       "      <td>/techcombank-da-ban-toa-nha-hoi-so-cu-o-191-ba...</td>\n",
       "      <td>https://cafef.vn/</td>\n",
       "      <td>116.105.211.79</td>\n",
       "      <td></td>\n",
       "      <td>1</td>\n",
       "      <td></td>\n",
       "      <td>1683183800572</td>\n",
       "      <td>01GZJSDPR5G1JWC6Y6MXJ76ME8</td>\n",
       "      <td>1</td>\n",
       "      <td>6368153f9f57a34a890db19cdec0687b</td>\n",
       "      <td>2023-05-04</td>\n",
       "      <td>[18823050408173207]</td>\n",
       "      <td>[[18823050408173207], [18823050408173207]]</td>\n",
       "    </tr>\n",
       "    <tr>\n",
       "      <th>6040</th>\n",
       "      <td>2023-05-03 14:28:01</td>\n",
       "      <td>2022-12-26 08:23:12</td>\n",
       "      <td>3720177921906371135</td>\n",
       "      <td>10128_822-cafef_detail_readmore_boxid_1_algid_...</td>\n",
       "      <td>cafef.vn</td>\n",
       "      <td>/resort-60-trieu-dong-dem-co-ran-den-tham-phon...</td>\n",
       "      <td>https://cafef.vn/</td>\n",
       "      <td>113.160.234.63</td>\n",
       "      <td></td>\n",
       "      <td>1</td>\n",
       "      <td></td>\n",
       "      <td>1683098732904</td>\n",
       "      <td>01GZG85KWQ60SSD156RM6GRAX1</td>\n",
       "      <td>1</td>\n",
       "      <td>76ef0779142a4463ea33da499c2f25d0</td>\n",
       "      <td>2023-05-03</td>\n",
       "      <td>[188230502091142082]</td>\n",
       "      <td>[[188230502091142082], [188230502091142082]]</td>\n",
       "    </tr>\n",
       "    <tr>\n",
       "      <th>6726</th>\n",
       "      <td>2023-05-05 13:15:26</td>\n",
       "      <td>2022-09-28 08:17:23</td>\n",
       "      <td>4043278433419591021</td>\n",
       "      <td>5802_829-cafef_detail_readmore_boxid_1_algid_1...</td>\n",
       "      <td>cafef.vn</td>\n",
       "      <td>/lich-su-kien-va-tin-van-chung-khoan-ngay-4-5-...</td>\n",
       "      <td>https://cafef.vn/</td>\n",
       "      <td>203.210.209.109</td>\n",
       "      <td></td>\n",
       "      <td>1</td>\n",
       "      <td></td>\n",
       "      <td>1683267184594</td>\n",
       "      <td>01GZN8T4XEEYRKFP3WHQYJVW6E</td>\n",
       "      <td>1</td>\n",
       "      <td>738c2010ddf715a271cc2c89f8c1da02</td>\n",
       "      <td>2023-05-05</td>\n",
       "      <td>[188230505085930287]</td>\n",
       "      <td>[[188230505085930287], [188230505085930287]]</td>\n",
       "    </tr>\n",
       "    <tr>\n",
       "      <th>7141</th>\n",
       "      <td>2023-05-05 08:37:39</td>\n",
       "      <td>2023-05-05 08:33:54</td>\n",
       "      <td>4232504341984251035</td>\n",
       "      <td>7145_653-cafef_detail_readmore_boxid_1_algid_1...</td>\n",
       "      <td>cafef.vn</td>\n",
       "      <td>/bat-dong-san-kho-ban-nhieu-doanh-nghiep-moi-g...</td>\n",
       "      <td>https://cafef.vn/</td>\n",
       "      <td>118.69.68.155</td>\n",
       "      <td></td>\n",
       "      <td>1</td>\n",
       "      <td></td>\n",
       "      <td>1683250604214</td>\n",
       "      <td>01GZMRXGG0B2SEHPPGSQQK0MDT</td>\n",
       "      <td>1</td>\n",
       "      <td>f750c1e41d554d3d82ef7997edeec740</td>\n",
       "      <td>2023-05-05</td>\n",
       "      <td>[188230504152750924]</td>\n",
       "      <td>[[188230504152750924], [188230504152750924]]</td>\n",
       "    </tr>\n",
       "    <tr>\n",
       "      <th>7414</th>\n",
       "      <td>2023-05-01 23:31:53</td>\n",
       "      <td>2022-04-26 10:12:47</td>\n",
       "      <td>4350942767999945252</td>\n",
       "      <td>6199_816-cafef_detail_readmore_boxid_1_algid_1...</td>\n",
       "      <td>cafef.vn</td>\n",
       "      <td>/hai-nha-dau-tu-muon-lam-du-an-khu-do-thi-hon-...</td>\n",
       "      <td>https://cafef.vn/</td>\n",
       "      <td>116.110.41.206</td>\n",
       "      <td></td>\n",
       "      <td>1</td>\n",
       "      <td></td>\n",
       "      <td>1682957645540</td>\n",
       "      <td>01GZC2G09NKC0619V1Q1Y9T12X</td>\n",
       "      <td>1</td>\n",
       "      <td>e8c9bc581abf5d1194da26c705bfd0ea</td>\n",
       "      <td>2023-05-01</td>\n",
       "      <td>[188230501152725076]</td>\n",
       "      <td>[[188230501152725076], [188230501152725076]]</td>\n",
       "    </tr>\n",
       "    <tr>\n",
       "      <th>7610</th>\n",
       "      <td>2023-05-05 08:42:10</td>\n",
       "      <td>2022-02-11 14:25:53</td>\n",
       "      <td>4445643532064949172</td>\n",
       "      <td>5517_548-cafef_detail_readmore_boxid_1_algid_1...</td>\n",
       "      <td>cafef.vn</td>\n",
       "      <td>/khanh-hoa-hon-3500-ha-dat-nong-nghiep-chuyen-...</td>\n",
       "      <td>https://cafef.vn/</td>\n",
       "      <td>171.247.180.1</td>\n",
       "      <td></td>\n",
       "      <td>1</td>\n",
       "      <td></td>\n",
       "      <td>1683250394989</td>\n",
       "      <td>01GZMS5RAZZY39RGA3DG8WNV82</td>\n",
       "      <td>1</td>\n",
       "      <td>5ceded2c3e2cbff9fc6a2b7c30a4f9e3</td>\n",
       "      <td>2023-05-05</td>\n",
       "      <td>[188230504201620247]</td>\n",
       "      <td>[[188230504201620247], [188230504201620247]]</td>\n",
       "    </tr>\n",
       "    <tr>\n",
       "      <th>9931</th>\n",
       "      <td>2023-05-02 00:10:26</td>\n",
       "      <td>2021-11-15 11:44:33</td>\n",
       "      <td>5469514732064649642</td>\n",
       "      <td>6835_485-cafef_detail_readmore_boxid_1_algid_1...</td>\n",
       "      <td>cafef.vn</td>\n",
       "      <td>/ha-noi-dien-bien-la-cua-thi-truong-bat-dong-s...</td>\n",
       "      <td>https://cafef.vn/</td>\n",
       "      <td>1.52.219.60</td>\n",
       "      <td></td>\n",
       "      <td>1</td>\n",
       "      <td></td>\n",
       "      <td>1682960808496</td>\n",
       "      <td>01GZC4PKHQK9PNQ1G8B77XMWFH</td>\n",
       "      <td>1</td>\n",
       "      <td>afe889bdf2cc5e326a3731f5e7b0bbee</td>\n",
       "      <td>2023-05-02</td>\n",
       "      <td>[188230501094046086]</td>\n",
       "      <td>[[188230501094046086], [188230501094046086]]</td>\n",
       "    </tr>\n",
       "    <tr>\n",
       "      <th>13205</th>\n",
       "      <td>2023-05-01 16:03:15</td>\n",
       "      <td>2021-11-10 11:03:26</td>\n",
       "      <td>6965170061281048681</td>\n",
       "      <td>6611_663-cafef_detail_readmore_boxid_1_algid_1...</td>\n",
       "      <td>cafef.vn</td>\n",
       "      <td>/nong-jack-ma-chinh-thuc-tu-bo-alibaba-cham-du...</td>\n",
       "      <td>https://cafef.vn/</td>\n",
       "      <td>141.98.239.144</td>\n",
       "      <td></td>\n",
       "      <td>1</td>\n",
       "      <td></td>\n",
       "      <td>1682931256484</td>\n",
       "      <td>01GZB8THS56VV14JZ26B6R2RF4</td>\n",
       "      <td>1</td>\n",
       "      <td>a9dd3b59838f339b823f7e05ec14a3a1</td>\n",
       "      <td>2023-05-01</td>\n",
       "      <td>[188230501070946789]</td>\n",
       "      <td>[[188230501070946789], [188230501070946789]]</td>\n",
       "    </tr>\n",
       "    <tr>\n",
       "      <th>14143</th>\n",
       "      <td>2023-05-04 07:58:09</td>\n",
       "      <td>2022-08-05 11:09:15</td>\n",
       "      <td>7396725551700988922</td>\n",
       "      <td>9965_494-cafef_detail_readmore_boxid_1_algid_1...</td>\n",
       "      <td>cafef.vn</td>\n",
       "      <td>/nova-consumer-ncg-lan-dau-bao-lo-ke-tu-sau-ip...</td>\n",
       "      <td>https://cafef.vn/</td>\n",
       "      <td>210.245.70.41</td>\n",
       "      <td></td>\n",
       "      <td>1</td>\n",
       "      <td></td>\n",
       "      <td>1683161354700</td>\n",
       "      <td>01GZJ48EF06SHZ4MRDBMQXTFX9</td>\n",
       "      <td>1</td>\n",
       "      <td>afde22f98f43a28f6db519e9b9575877</td>\n",
       "      <td>2023-05-04</td>\n",
       "      <td>[188230502225843303]</td>\n",
       "      <td>[[188230502225843303], [188230502225843303]]</td>\n",
       "    </tr>\n",
       "    <tr>\n",
       "      <th>15281</th>\n",
       "      <td>2023-05-06 08:27:15</td>\n",
       "      <td>2023-04-19 07:42:43</td>\n",
       "      <td>7918649632112614323</td>\n",
       "      <td>15740_868-cafef_detail_readmore_boxid_1_algid_...</td>\n",
       "      <td>cafef.vn</td>\n",
       "      <td>/man-dung-do-nhan-sac-cua-cac-hot-boy-hot-girl...</td>\n",
       "      <td>https://cafef.vn/</td>\n",
       "      <td>116.110.41.134</td>\n",
       "      <td></td>\n",
       "      <td>1</td>\n",
       "      <td></td>\n",
       "      <td>1683336328337</td>\n",
       "      <td>01GZQAQ5V9WW4MAHC2X6TREZR0</td>\n",
       "      <td>1</td>\n",
       "      <td>61df2028d51d9662aaae24032bd301ba</td>\n",
       "      <td>2023-05-06</td>\n",
       "      <td>[188230505134428108]</td>\n",
       "      <td>[[188230505134428108], [188230505134428108]]</td>\n",
       "    </tr>\n",
       "    <tr>\n",
       "      <th>16059</th>\n",
       "      <td>2023-05-07 11:45:20</td>\n",
       "      <td>2022-11-18 16:58:26</td>\n",
       "      <td>8268765506250735443</td>\n",
       "      <td>8382_709-cafef_detail_readmore_boxid_1_algid_1...</td>\n",
       "      <td>cafef.vn</td>\n",
       "      <td>/chi-chi-gan-9-trieu-mot-ca-nhan-tro-thanh-co-...</td>\n",
       "      <td>https://cafef.vn/</td>\n",
       "      <td>14.241.235.83</td>\n",
       "      <td></td>\n",
       "      <td>1</td>\n",
       "      <td></td>\n",
       "      <td>1683434597763</td>\n",
       "      <td>01GZT8EKDB5VZY0N36N9FWP4QZ</td>\n",
       "      <td>1</td>\n",
       "      <td>85038974c6472af5a0afb8e62e3d010a</td>\n",
       "      <td>2023-05-07</td>\n",
       "      <td>[188230507084637924]</td>\n",
       "      <td>[[188230507084637924], [188230507084637924]]</td>\n",
       "    </tr>\n",
       "    <tr>\n",
       "      <th>16793</th>\n",
       "      <td>2023-05-04 07:55:58</td>\n",
       "      <td>2022-11-25 11:28:57</td>\n",
       "      <td>8593505373068991172</td>\n",
       "      <td>9819_445-cafef_detail_readmore_boxid_1_algid_1...</td>\n",
       "      <td>cafef.vn</td>\n",
       "      <td>/resort-60-trieu-dong-dem-co-ran-den-tham-phon...</td>\n",
       "      <td>https://cafef.vn/</td>\n",
       "      <td>182.237.22.196</td>\n",
       "      <td></td>\n",
       "      <td>1</td>\n",
       "      <td></td>\n",
       "      <td>1683102688532</td>\n",
       "      <td>01GZJ44EQFYDSKRXSFVJY27S1P</td>\n",
       "      <td>1</td>\n",
       "      <td>e4fdf31ffe77119a59b9d41dd1714179</td>\n",
       "      <td>2023-05-04</td>\n",
       "      <td>[188230502132315415]</td>\n",
       "      <td>[[188230502132315415], [188230502182516652]]</td>\n",
       "    </tr>\n",
       "    <tr>\n",
       "      <th>17697</th>\n",
       "      <td>2023-05-05 08:29:41</td>\n",
       "      <td>2023-03-14 12:09:16</td>\n",
       "      <td>8987705561934295882</td>\n",
       "      <td>10136_716-cafef_detail_readmore_boxid_1_algid_...</td>\n",
       "      <td>cafef.vn</td>\n",
       "      <td>/fed-tang-lai-suat-dung-nhu-ky-vong-vi-sao-vn-...</td>\n",
       "      <td>https://cafef.vn/</td>\n",
       "      <td>115.75.3.74</td>\n",
       "      <td></td>\n",
       "      <td>1</td>\n",
       "      <td></td>\n",
       "      <td>1683249911115</td>\n",
       "      <td>01GZMREWZQEA4RMQMFNB91Y9NK</td>\n",
       "      <td>1</td>\n",
       "      <td>3e9ee9cc2b338638cd26b7f1039974ef</td>\n",
       "      <td>2023-05-05</td>\n",
       "      <td>[188230504155152043]</td>\n",
       "      <td>[[188230504155152043], [188230504155152043]]</td>\n",
       "    </tr>\n",
       "  </tbody>\n",
       "</table>\n",
       "</div>"
      ],
      "text/plain": [
       "                        dt           cookietime                 guid  \\\n",
       "2261   2023-05-01 19:49:59  2023-01-02 22:59:04  2026751441952460211   \n",
       "4718   2023-05-04 14:08:01  2021-10-02 16:28:09  3131668891953373896   \n",
       "6040   2023-05-03 14:28:01  2022-12-26 08:23:12  3720177921906371135   \n",
       "6726   2023-05-05 13:15:26  2022-09-28 08:17:23  4043278433419591021   \n",
       "7141   2023-05-05 08:37:39  2023-05-05 08:33:54  4232504341984251035   \n",
       "7414   2023-05-01 23:31:53  2022-04-26 10:12:47  4350942767999945252   \n",
       "7610   2023-05-05 08:42:10  2022-02-11 14:25:53  4445643532064949172   \n",
       "9931   2023-05-02 00:10:26  2021-11-15 11:44:33  5469514732064649642   \n",
       "13205  2023-05-01 16:03:15  2021-11-10 11:03:26  6965170061281048681   \n",
       "14143  2023-05-04 07:58:09  2022-08-05 11:09:15  7396725551700988922   \n",
       "15281  2023-05-06 08:27:15  2023-04-19 07:42:43  7918649632112614323   \n",
       "16059  2023-05-07 11:45:20  2022-11-18 16:58:26  8268765506250735443   \n",
       "16793  2023-05-04 07:55:58  2022-11-25 11:28:57  8593505373068991172   \n",
       "17697  2023-05-05 08:29:41  2023-03-14 12:09:16  8987705561934295882   \n",
       "\n",
       "                                                itemsBox    domain  \\\n",
       "2261   11472_561-cafef_detail_readmore_boxid_1_algid_...  cafef.vn   \n",
       "4718   7939_850-cafef_detail_readmore_boxid_1_algid_1...  cafef.vn   \n",
       "6040   10128_822-cafef_detail_readmore_boxid_1_algid_...  cafef.vn   \n",
       "6726   5802_829-cafef_detail_readmore_boxid_1_algid_1...  cafef.vn   \n",
       "7141   7145_653-cafef_detail_readmore_boxid_1_algid_1...  cafef.vn   \n",
       "7414   6199_816-cafef_detail_readmore_boxid_1_algid_1...  cafef.vn   \n",
       "7610   5517_548-cafef_detail_readmore_boxid_1_algid_1...  cafef.vn   \n",
       "9931   6835_485-cafef_detail_readmore_boxid_1_algid_1...  cafef.vn   \n",
       "13205  6611_663-cafef_detail_readmore_boxid_1_algid_1...  cafef.vn   \n",
       "14143  9965_494-cafef_detail_readmore_boxid_1_algid_1...  cafef.vn   \n",
       "15281  15740_868-cafef_detail_readmore_boxid_1_algid_...  cafef.vn   \n",
       "16059  8382_709-cafef_detail_readmore_boxid_1_algid_1...  cafef.vn   \n",
       "16793  9819_445-cafef_detail_readmore_boxid_1_algid_1...  cafef.vn   \n",
       "17697  10136_716-cafef_detail_readmore_boxid_1_algid_...  cafef.vn   \n",
       "\n",
       "                                                    path           fullPath  \\\n",
       "2261   /nong-jack-ma-chinh-thuc-tu-bo-alibaba-cham-du...  https://cafef.vn/   \n",
       "4718   /techcombank-da-ban-toa-nha-hoi-so-cu-o-191-ba...  https://cafef.vn/   \n",
       "6040   /resort-60-trieu-dong-dem-co-ran-den-tham-phon...  https://cafef.vn/   \n",
       "6726   /lich-su-kien-va-tin-van-chung-khoan-ngay-4-5-...  https://cafef.vn/   \n",
       "7141   /bat-dong-san-kho-ban-nhieu-doanh-nghiep-moi-g...  https://cafef.vn/   \n",
       "7414   /hai-nha-dau-tu-muon-lam-du-an-khu-do-thi-hon-...  https://cafef.vn/   \n",
       "7610   /khanh-hoa-hon-3500-ha-dat-nong-nghiep-chuyen-...  https://cafef.vn/   \n",
       "9931   /ha-noi-dien-bien-la-cua-thi-truong-bat-dong-s...  https://cafef.vn/   \n",
       "13205  /nong-jack-ma-chinh-thuc-tu-bo-alibaba-cham-du...  https://cafef.vn/   \n",
       "14143  /nova-consumer-ncg-lan-dau-bao-lo-ke-tu-sau-ip...  https://cafef.vn/   \n",
       "15281  /man-dung-do-nhan-sac-cua-cac-hot-boy-hot-girl...  https://cafef.vn/   \n",
       "16059  /chi-chi-gan-9-trieu-mot-ca-nhan-tro-thanh-co-...  https://cafef.vn/   \n",
       "16793  /resort-60-trieu-dong-dem-co-ran-den-tham-phon...  https://cafef.vn/   \n",
       "17697  /fed-tang-lai-suat-dung-nhu-ky-vong-vi-sao-vn-...  https://cafef.vn/   \n",
       "\n",
       "                    ip ipChain  clickOrView referer     pageloadId  \\\n",
       "2261    113.185.55.162                    1                     -1   \n",
       "4718    116.105.211.79                    1          1683183800572   \n",
       "6040    113.160.234.63                    1          1683098732904   \n",
       "6726   203.210.209.109                    1          1683267184594   \n",
       "7141     118.69.68.155                    1          1683250604214   \n",
       "7414    116.110.41.206                    1          1682957645540   \n",
       "7610     171.247.180.1                    1          1683250394989   \n",
       "9931       1.52.219.60                    1          1682960808496   \n",
       "13205   141.98.239.144                    1          1682931256484   \n",
       "14143    210.245.70.41                    1          1683161354700   \n",
       "15281   116.110.41.134                    1          1683336328337   \n",
       "16059    14.241.235.83                    1          1683434597763   \n",
       "16793   182.237.22.196                    1          1683102688532   \n",
       "17697      115.75.3.74                    1          1683249911115   \n",
       "\n",
       "                              f13 f14                       domain_guid  \\\n",
       "2261   01GZBNSPCSRJYBMA7Z4T5PBRP4   1  b3a2455911637a31e6b6b8e052e545ab   \n",
       "4718   01GZJSDPR5G1JWC6Y6MXJ76ME8   1  6368153f9f57a34a890db19cdec0687b   \n",
       "6040   01GZG85KWQ60SSD156RM6GRAX1   1  76ef0779142a4463ea33da499c2f25d0   \n",
       "6726   01GZN8T4XEEYRKFP3WHQYJVW6E   1  738c2010ddf715a271cc2c89f8c1da02   \n",
       "7141   01GZMRXGG0B2SEHPPGSQQK0MDT   1  f750c1e41d554d3d82ef7997edeec740   \n",
       "7414   01GZC2G09NKC0619V1Q1Y9T12X   1  e8c9bc581abf5d1194da26c705bfd0ea   \n",
       "7610   01GZMS5RAZZY39RGA3DG8WNV82   1  5ceded2c3e2cbff9fc6a2b7c30a4f9e3   \n",
       "9931   01GZC4PKHQK9PNQ1G8B77XMWFH   1  afe889bdf2cc5e326a3731f5e7b0bbee   \n",
       "13205  01GZB8THS56VV14JZ26B6R2RF4   1  a9dd3b59838f339b823f7e05ec14a3a1   \n",
       "14143  01GZJ48EF06SHZ4MRDBMQXTFX9   1  afde22f98f43a28f6db519e9b9575877   \n",
       "15281  01GZQAQ5V9WW4MAHC2X6TREZR0   1  61df2028d51d9662aaae24032bd301ba   \n",
       "16059  01GZT8EKDB5VZY0N36N9FWP4QZ   1  85038974c6472af5a0afb8e62e3d010a   \n",
       "16793  01GZJ44EQFYDSKRXSFVJY27S1P   1  e4fdf31ffe77119a59b9d41dd1714179   \n",
       "17697  01GZMREWZQEA4RMQMFNB91Y9NK   1  3e9ee9cc2b338638cd26b7f1039974ef   \n",
       "\n",
       "             date               itemIDs  \\\n",
       "2261   2023-05-01  [188230501105830854]   \n",
       "4718   2023-05-04   [18823050408173207]   \n",
       "6040   2023-05-03  [188230502091142082]   \n",
       "6726   2023-05-05  [188230505085930287]   \n",
       "7141   2023-05-05  [188230504152750924]   \n",
       "7414   2023-05-01  [188230501152725076]   \n",
       "7610   2023-05-05  [188230504201620247]   \n",
       "9931   2023-05-02  [188230501094046086]   \n",
       "13205  2023-05-01  [188230501070946789]   \n",
       "14143  2023-05-04  [188230502225843303]   \n",
       "15281  2023-05-06  [188230505134428108]   \n",
       "16059  2023-05-07  [188230507084637924]   \n",
       "16793  2023-05-04  [188230502132315415]   \n",
       "17697  2023-05-05  [188230504155152043]   \n",
       "\n",
       "                                     sorted_itemIDs  \n",
       "2261   [[188230501105830854], [188230501105830854]]  \n",
       "4718     [[18823050408173207], [18823050408173207]]  \n",
       "6040   [[188230502091142082], [188230502091142082]]  \n",
       "6726   [[188230505085930287], [188230505085930287]]  \n",
       "7141   [[188230504152750924], [188230504152750924]]  \n",
       "7414   [[188230501152725076], [188230501152725076]]  \n",
       "7610   [[188230504201620247], [188230504201620247]]  \n",
       "9931   [[188230501094046086], [188230501094046086]]  \n",
       "13205  [[188230501070946789], [188230501070946789]]  \n",
       "14143  [[188230502225843303], [188230502225843303]]  \n",
       "15281  [[188230505134428108], [188230505134428108]]  \n",
       "16059  [[188230507084637924], [188230507084637924]]  \n",
       "16793  [[188230502132315415], [188230502182516652]]  \n",
       "17697  [[188230504155152043], [188230504155152043]]  "
      ]
     },
     "execution_count": 49,
     "metadata": {},
     "output_type": "execute_result"
    }
   ],
   "source": [
    "group_df_pandas[group_df_pandas['sorted_itemIDs'].apply(lambda x: len(x) > 1)]"
   ]
  },
  {
   "cell_type": "markdown",
   "id": "7851cb83-c32f-40d7-b3e9-1859079d1714",
   "metadata": {},
   "source": [
    "## Read and process news data"
   ]
  },
  {
   "cell_type": "code",
   "execution_count": 60,
   "id": "90b50e9a-1a7d-484e-a934-272e1f59b56c",
   "metadata": {
    "tags": []
   },
   "outputs": [
    {
     "data": {
      "text/html": [
       "<div>\n",
       "<style scoped>\n",
       "    .dataframe tbody tr th:only-of-type {\n",
       "        vertical-align: middle;\n",
       "    }\n",
       "\n",
       "    .dataframe tbody tr th {\n",
       "        vertical-align: top;\n",
       "    }\n",
       "\n",
       "    .dataframe thead th {\n",
       "        text-align: right;\n",
       "    }\n",
       "</style>\n",
       "<table border=\"1\" class=\"dataframe\">\n",
       "  <thead>\n",
       "    <tr style=\"text-align: right;\">\n",
       "      <th></th>\n",
       "      <th>newsId</th>\n",
       "      <th>sourceNews</th>\n",
       "      <th>publishDate</th>\n",
       "      <th>catId</th>\n",
       "      <th>title</th>\n",
       "      <th>sapo</th>\n",
       "      <th>content</th>\n",
       "    </tr>\n",
       "  </thead>\n",
       "  <tbody>\n",
       "    <tr>\n",
       "      <th>0</th>\n",
       "      <td>202212191625241</td>\n",
       "      <td>CafeF</td>\n",
       "      <td>2022-12-20 07:26:00</td>\n",
       "      <td>32</td>\n",
       "      <td>Trung Quốc ký thỏa thuận với hi vọng thay đổi ...</td>\n",
       "      <td>Các chuyên gia cho biết việc Trung Quốc thúc đ...</td>\n",
       "      <td>Đồng nhân dân tệ lên ngôi Trung Quốc đang có k...</td>\n",
       "    </tr>\n",
       "    <tr>\n",
       "      <th>1</th>\n",
       "      <td>18823032614273083</td>\n",
       "      <td>CafeF</td>\n",
       "      <td>2023-03-26 15:34:00</td>\n",
       "      <td>188114</td>\n",
       "      <td>4 nỗi sợ mà đàn ông không bao giờ muốn nhắc tớ...</td>\n",
       "      <td>Đây là 4 nỗi sợ thầm kín của nam giới đã được ...</td>\n",
       "      <td>Phái mạnh vốn không mạnh mẽ như họ thể hiện . ...</td>\n",
       "    </tr>\n",
       "    <tr>\n",
       "      <th>2</th>\n",
       "      <td>18823051708563511</td>\n",
       "      <td>CafeF</td>\n",
       "      <td>2023-05-17 10:00:00</td>\n",
       "      <td>18835</td>\n",
       "      <td>Tiến độ cùng loạt ưu đãi giúp Grand SunLake ch...</td>\n",
       "      <td>Bất chấp tình hình khó khăn chung của thị trườ...</td>\n",
       "      <td>Grand SunLake ghi điểm với tiến độ thi công vư...</td>\n",
       "    </tr>\n",
       "    <tr>\n",
       "      <th>3</th>\n",
       "      <td>18823052208054379</td>\n",
       "      <td>CafeF</td>\n",
       "      <td>2023-05-22 08:03:00</td>\n",
       "      <td>188112</td>\n",
       "      <td>13 hộ dân bị bãi rác khổng lồ tra tấn cầu cứu ...</td>\n",
       "      <td>13 hộ dân sống khổ sở cạnh bãi rác khổng lồ củ...</td>\n",
       "      <td>Từ năm 2016 đến nay 13 hộ dân với 45 nhân khẩu...</td>\n",
       "    </tr>\n",
       "    <tr>\n",
       "      <th>4</th>\n",
       "      <td>18823052216352836</td>\n",
       "      <td>CafeF</td>\n",
       "      <td>2023-05-22 23:37:00</td>\n",
       "      <td>188121</td>\n",
       "      <td>1 người giàu nhất Hàn Quốc khủng đến mức nào H...</td>\n",
       "      <td>Theo báo các công bố hồi tháng 4 của Forbes Ch...</td>\n",
       "      <td>Báo cáo của một công ty bảo hiểm địa phương mớ...</td>\n",
       "    </tr>\n",
       "  </tbody>\n",
       "</table>\n",
       "</div>"
      ],
      "text/plain": [
       "              newsId sourceNews          publishDate   catId  \\\n",
       "0    202212191625241      CafeF  2022-12-20 07:26:00      32   \n",
       "1  18823032614273083      CafeF  2023-03-26 15:34:00  188114   \n",
       "2  18823051708563511      CafeF  2023-05-17 10:00:00   18835   \n",
       "3  18823052208054379      CafeF  2023-05-22 08:03:00  188112   \n",
       "4  18823052216352836      CafeF  2023-05-22 23:37:00  188121   \n",
       "\n",
       "                                               title  \\\n",
       "0  Trung Quốc ký thỏa thuận với hi vọng thay đổi ...   \n",
       "1  4 nỗi sợ mà đàn ông không bao giờ muốn nhắc tớ...   \n",
       "2  Tiến độ cùng loạt ưu đãi giúp Grand SunLake ch...   \n",
       "3  13 hộ dân bị bãi rác khổng lồ tra tấn cầu cứu ...   \n",
       "4  1 người giàu nhất Hàn Quốc khủng đến mức nào H...   \n",
       "\n",
       "                                                sapo  \\\n",
       "0  Các chuyên gia cho biết việc Trung Quốc thúc đ...   \n",
       "1  Đây là 4 nỗi sợ thầm kín của nam giới đã được ...   \n",
       "2  Bất chấp tình hình khó khăn chung của thị trườ...   \n",
       "3  13 hộ dân sống khổ sở cạnh bãi rác khổng lồ củ...   \n",
       "4  Theo báo các công bố hồi tháng 4 của Forbes Ch...   \n",
       "\n",
       "                                             content  \n",
       "0  Đồng nhân dân tệ lên ngôi Trung Quốc đang có k...  \n",
       "1  Phái mạnh vốn không mạnh mẽ như họ thể hiện . ...  \n",
       "2  Grand SunLake ghi điểm với tiến độ thi công vư...  \n",
       "3  Từ năm 2016 đến nay 13 hộ dân với 45 nhân khẩu...  \n",
       "4  Báo cáo của một công ty bảo hiểm địa phương mớ...  "
      ]
     },
     "execution_count": 60,
     "metadata": {},
     "output_type": "execute_result"
    }
   ],
   "source": [
    "import pandas as pd\n",
    "\n",
    "news_df = pd.read_csv('../data_news/news_data.csv')\n",
    "news_df.head()"
   ]
  },
  {
   "cell_type": "code",
   "execution_count": 63,
   "id": "20c403e7-124d-44e9-bdec-1c4ab34f65d6",
   "metadata": {
    "tags": []
   },
   "outputs": [],
   "source": [
    "import re\n",
    "\n",
    "def striphtml(data, DEBUG=False, url = ''):\n",
    "    # print(type(data))\n",
    "    # print(data)\n",
    "    if not isinstance(data, str):\n",
    "        if DEBUG:\n",
    "            print('IN')\n",
    "        if 'thethaovanhoa' in url:\n",
    "            for tag in data.find_all('h2'):\n",
    "                tag.decompose()\n",
    "            for tag in data.find_all('div', class_='boxembedtinlienquan'):\n",
    "                tag.decompose()\n",
    "        for tag in data.find_all('div', id='relatedpost'):\n",
    "            tag.decompose() \n",
    "            \n",
    "        for tag in data.find_all('h2', class_='sapo'):\n",
    "            tag.decompose()\n",
    "            \n",
    "        for d in data(['style', 'script', 'code', 'a', 'p.p-author', 'h2.sapo']):\n",
    "            # Remove tags\n",
    "            d.decompose()\n",
    "        # print(data)\n",
    "        data = str(data)\n",
    "        \n",
    "    try:\n",
    "        assert isinstance(data, str), 'Not String'\n",
    "    except:\n",
    "        print(data)\n",
    "    p = re.compile(r'<.*?>')\n",
    "    p = p.sub(' ', data)\n",
    "    p = re.sub('\\s+',' ', p)\n",
    "    p = re.sub('&nbsp;','', p)\n",
    "    p = p.replace(\"&amp;\", \" \")\n",
    "    p = re.sub(r'https?:\\/\\/.*[\\r\\n]*', '', p, flags=re.MULTILINE)\n",
    "\n",
    "    return p.strip()"
   ]
  },
  {
   "cell_type": "code",
   "execution_count": 64,
   "id": "b59338da-e91b-4422-a26b-5c6436403601",
   "metadata": {
    "tags": []
   },
   "outputs": [],
   "source": [
    "# from vncorenlp import VnCoreNLP\n",
    "# rdrsegmenter = VnCoreNLP(\"./vncorenlp/VnCoreNLP-1.1.1.jar\", annotators=\"wseg\", max_heap_size='-Xmx500m') \n",
    "import re\n",
    "\n",
    "uniChars = \"àáảãạâầấẩẫậăằắẳẵặèéẻẽẹêềếểễệđìíỉĩịòóỏõọôồốổỗộơờớởỡợùúủũụưừứửữựỳýỷỹỵÀÁẢÃẠÂẦẤẨẪẬĂẰẮẲẴẶÈÉẺẼẸÊỀẾỂỄỆĐÌÍỈĨỊÒÓỎÕỌÔỒỐỔỖỘƠỜỚỞỠỢÙÚỦŨỤƯỪỨỬỮỰỲÝỶỸỴÂĂĐÔƠƯ.\"\n",
    "punc_re = '[^\\w'+uniChars+']'\n",
    "def preprocess_text(sen):\n",
    "    if not isinstance(sen, str):\n",
    "        sen = ''\n",
    "    ##Unicode reform\n",
    "    assert isinstance(sen, str), 'Not String'\n",
    "    # sen = convert_unicode(sen)\n",
    "    sen = striphtml(sen)\n",
    "    ##Remove punctuation\n",
    "    sen = re.sub(punc_re,' ', sen)\n",
    "    ##Remove multiple space\n",
    "    sen = re.sub('\\s+',' ', sen)\n",
    "    ##Lower\n",
    "    sen = sen.strip()\n",
    "    sen = re.sub(r'\\.', ' .', sen)\n",
    "    ##Segment\n",
    "    # seg = rdrsegmenter.tokenize(sen)\n",
    "    # if len(seg) == 0:\n",
    "    #   sen = ' '\n",
    "    # else: \n",
    "    #   sen = ' '.join(seg[0])\n",
    "    return sen\n",
    "# vec_pre = np.vectorize(preprocess_text)\n",
    "# print(vec_pre((data_df.iloc[3,3])))\n",
    "# data_df['preprocess_comment'] = data_df.apply(lambda x: preprocess_text(x['Comment']), axis = 1)"
   ]
  },
  {
   "cell_type": "code",
   "execution_count": 65,
   "id": "22c7eb20-7a31-435c-a3a5-329a5ec81446",
   "metadata": {
    "tags": []
   },
   "outputs": [
    {
     "data": {
      "text/html": [
       "<div>\n",
       "<style scoped>\n",
       "    .dataframe tbody tr th:only-of-type {\n",
       "        vertical-align: middle;\n",
       "    }\n",
       "\n",
       "    .dataframe tbody tr th {\n",
       "        vertical-align: top;\n",
       "    }\n",
       "\n",
       "    .dataframe thead th {\n",
       "        text-align: right;\n",
       "    }\n",
       "</style>\n",
       "<table border=\"1\" class=\"dataframe\">\n",
       "  <thead>\n",
       "    <tr style=\"text-align: right;\">\n",
       "      <th></th>\n",
       "      <th>newsId</th>\n",
       "      <th>sourceNews</th>\n",
       "      <th>publishDate</th>\n",
       "      <th>catId</th>\n",
       "      <th>title</th>\n",
       "      <th>sapo</th>\n",
       "      <th>content</th>\n",
       "    </tr>\n",
       "  </thead>\n",
       "  <tbody>\n",
       "    <tr>\n",
       "      <th>62</th>\n",
       "      <td>188230523092131964</td>\n",
       "      <td>CafeF</td>\n",
       "      <td>2023-05-23 09:20:00</td>\n",
       "      <td>188112</td>\n",
       "      <td>Mức thưởng huân chương cao nhất gần 100 triệu ...</td>\n",
       "      <td>Từ 1 7 này tăng lương cơ sở lên 1 8 triệu đồng...</td>\n",
       "      <td>NaN</td>\n",
       "    </tr>\n",
       "    <tr>\n",
       "      <th>138</th>\n",
       "      <td>188230520074101115</td>\n",
       "      <td>CafeF</td>\n",
       "      <td>2023-05-20 07:39:00</td>\n",
       "      <td>188112</td>\n",
       "      <td>Những ai được tăng phụ cấp khu vực từ 1 7 2023</td>\n",
       "      <td>Từ 1 7 2023 lương cơ sở tăng từ 1 .490 .000 đồ...</td>\n",
       "      <td>NaN</td>\n",
       "    </tr>\n",
       "    <tr>\n",
       "      <th>762</th>\n",
       "      <td>188230327223527336</td>\n",
       "      <td>CafeF</td>\n",
       "      <td>2023-03-28 08:00:00</td>\n",
       "      <td>18834</td>\n",
       "      <td>Lienvietpostbank Nhìn lại 15 năm mở rộng quy m...</td>\n",
       "      <td>Sau 15 năm thành lập và phát triển tổng tài sả...</td>\n",
       "      <td>NaN</td>\n",
       "    </tr>\n",
       "    <tr>\n",
       "      <th>816</th>\n",
       "      <td>188230522194126769</td>\n",
       "      <td>CafeF</td>\n",
       "      <td>2023-05-22 19:38:00</td>\n",
       "      <td>188112</td>\n",
       "      <td>Chân dung tân Bộ trưởng TN MT Đặng Quốc Khánh</td>\n",
       "      <td>Bí thư Tỉnh uỷ Hà Giang được Quốc hội phê chuẩ...</td>\n",
       "      <td>NaN</td>\n",
       "    </tr>\n",
       "    <tr>\n",
       "      <th>821</th>\n",
       "      <td>188230523093903164</td>\n",
       "      <td>CafeF</td>\n",
       "      <td>2023-05-23 09:48:00</td>\n",
       "      <td>18835</td>\n",
       "      <td>Chi tiết danh sách dự án nhà ở xã hội tại Hà N...</td>\n",
       "      <td>TPO Bên cạnh dự án nhà ở xã hội NHS Trung Văn ...</td>\n",
       "      <td>NaN</td>\n",
       "    </tr>\n",
       "    <tr>\n",
       "      <th>1372</th>\n",
       "      <td>188230512151129249</td>\n",
       "      <td>CafeF</td>\n",
       "      <td>2023-05-12 15:10:00</td>\n",
       "      <td>188112</td>\n",
       "      <td>Mức lương của Thường trực Ban Bí thư từ ngày t...</td>\n",
       "      <td>Mục I Bảng 1 ban hành kèm theo Quyết định 128 ...</td>\n",
       "      <td>NaN</td>\n",
       "    </tr>\n",
       "    <tr>\n",
       "      <th>2061</th>\n",
       "      <td>188230513073239028</td>\n",
       "      <td>CafeF</td>\n",
       "      <td>2023-05-13 07:28:00</td>\n",
       "      <td>188112</td>\n",
       "      <td>Từ 1 7 2023 bộ trưởng nhận mức lương như thế nào</td>\n",
       "      <td>Từ 1 7 này với mức lương cơ sở mới là 1 8 triệ...</td>\n",
       "      <td>NaN</td>\n",
       "    </tr>\n",
       "    <tr>\n",
       "      <th>2552</th>\n",
       "      <td>188230516223219823</td>\n",
       "      <td>CafeF</td>\n",
       "      <td>2023-05-17 08:00:00</td>\n",
       "      <td>18834</td>\n",
       "      <td>Cùng Sacombank đi tìm chiếc thẻ tín dụng phù h...</td>\n",
       "      <td>Hệ sinh thái thẻ tín dụng của Sacombank có hơn...</td>\n",
       "      <td>NaN</td>\n",
       "    </tr>\n",
       "    <tr>\n",
       "      <th>2644</th>\n",
       "      <td>188230516095318584</td>\n",
       "      <td>CafeF</td>\n",
       "      <td>2023-05-16 09:51:00</td>\n",
       "      <td>188112</td>\n",
       "      <td>21 Ủy viên Bộ Chính trị Ban Bí thư được Trung ...</td>\n",
       "      <td>Tại hội nghị giữa nhiệm kỳ Ban Chấp hành Trung...</td>\n",
       "      <td>NaN</td>\n",
       "    </tr>\n",
       "    <tr>\n",
       "      <th>2932</th>\n",
       "      <td>188230506101742777</td>\n",
       "      <td>CafeF</td>\n",
       "      <td>2023-05-06 10:16:00</td>\n",
       "      <td>188112</td>\n",
       "      <td>Mức tăng lương hưu dự kiến áp dụng từ 1 7</td>\n",
       "      <td>Bộ Lao động Thương Binh và Xã hội đang lấy ý k...</td>\n",
       "      <td>NaN</td>\n",
       "    </tr>\n",
       "  </tbody>\n",
       "</table>\n",
       "</div>"
      ],
      "text/plain": [
       "                  newsId sourceNews          publishDate   catId  \\\n",
       "62    188230523092131964      CafeF  2023-05-23 09:20:00  188112   \n",
       "138   188230520074101115      CafeF  2023-05-20 07:39:00  188112   \n",
       "762   188230327223527336      CafeF  2023-03-28 08:00:00   18834   \n",
       "816   188230522194126769      CafeF  2023-05-22 19:38:00  188112   \n",
       "821   188230523093903164      CafeF  2023-05-23 09:48:00   18835   \n",
       "1372  188230512151129249      CafeF  2023-05-12 15:10:00  188112   \n",
       "2061  188230513073239028      CafeF  2023-05-13 07:28:00  188112   \n",
       "2552  188230516223219823      CafeF  2023-05-17 08:00:00   18834   \n",
       "2644  188230516095318584      CafeF  2023-05-16 09:51:00  188112   \n",
       "2932  188230506101742777      CafeF  2023-05-06 10:16:00  188112   \n",
       "\n",
       "                                                  title  \\\n",
       "62    Mức thưởng huân chương cao nhất gần 100 triệu ...   \n",
       "138      Những ai được tăng phụ cấp khu vực từ 1 7 2023   \n",
       "762   Lienvietpostbank Nhìn lại 15 năm mở rộng quy m...   \n",
       "816       Chân dung tân Bộ trưởng TN MT Đặng Quốc Khánh   \n",
       "821   Chi tiết danh sách dự án nhà ở xã hội tại Hà N...   \n",
       "1372  Mức lương của Thường trực Ban Bí thư từ ngày t...   \n",
       "2061   Từ 1 7 2023 bộ trưởng nhận mức lương như thế nào   \n",
       "2552  Cùng Sacombank đi tìm chiếc thẻ tín dụng phù h...   \n",
       "2644  21 Ủy viên Bộ Chính trị Ban Bí thư được Trung ...   \n",
       "2932          Mức tăng lương hưu dự kiến áp dụng từ 1 7   \n",
       "\n",
       "                                                   sapo content  \n",
       "62    Từ 1 7 này tăng lương cơ sở lên 1 8 triệu đồng...     NaN  \n",
       "138   Từ 1 7 2023 lương cơ sở tăng từ 1 .490 .000 đồ...     NaN  \n",
       "762   Sau 15 năm thành lập và phát triển tổng tài sả...     NaN  \n",
       "816   Bí thư Tỉnh uỷ Hà Giang được Quốc hội phê chuẩ...     NaN  \n",
       "821   TPO Bên cạnh dự án nhà ở xã hội NHS Trung Văn ...     NaN  \n",
       "1372  Mục I Bảng 1 ban hành kèm theo Quyết định 128 ...     NaN  \n",
       "2061  Từ 1 7 này với mức lương cơ sở mới là 1 8 triệ...     NaN  \n",
       "2552  Hệ sinh thái thẻ tín dụng của Sacombank có hơn...     NaN  \n",
       "2644  Tại hội nghị giữa nhiệm kỳ Ban Chấp hành Trung...     NaN  \n",
       "2932  Bộ Lao động Thương Binh và Xã hội đang lấy ý k...     NaN  "
      ]
     },
     "execution_count": 65,
     "metadata": {},
     "output_type": "execute_result"
    }
   ],
   "source": [
    "news_df[news_df['content'].isnull()]"
   ]
  },
  {
   "cell_type": "code",
   "execution_count": 66,
   "id": "4293c69a-3c54-4267-8b06-d02d0c1e3beb",
   "metadata": {
    "tags": []
   },
   "outputs": [
    {
     "data": {
      "text/html": [
       "<div>\n",
       "<style scoped>\n",
       "    .dataframe tbody tr th:only-of-type {\n",
       "        vertical-align: middle;\n",
       "    }\n",
       "\n",
       "    .dataframe tbody tr th {\n",
       "        vertical-align: top;\n",
       "    }\n",
       "\n",
       "    .dataframe thead th {\n",
       "        text-align: right;\n",
       "    }\n",
       "</style>\n",
       "<table border=\"1\" class=\"dataframe\">\n",
       "  <thead>\n",
       "    <tr style=\"text-align: right;\">\n",
       "      <th></th>\n",
       "      <th>newsId</th>\n",
       "      <th>sourceNews</th>\n",
       "      <th>publishDate</th>\n",
       "      <th>catId</th>\n",
       "      <th>title</th>\n",
       "      <th>sapo</th>\n",
       "      <th>content</th>\n",
       "    </tr>\n",
       "  </thead>\n",
       "  <tbody>\n",
       "    <tr>\n",
       "      <th>0</th>\n",
       "      <td>202212191625241</td>\n",
       "      <td>CafeF</td>\n",
       "      <td>2022-12-20 07:26:00</td>\n",
       "      <td>32</td>\n",
       "      <td>Trung Quốc ký thỏa thuận với hi vọng thay đổi ...</td>\n",
       "      <td>Các chuyên gia cho biết việc Trung Quốc thúc đ...</td>\n",
       "      <td>Đồng nhân dân tệ lên ngôi Trung Quốc đang có k...</td>\n",
       "    </tr>\n",
       "    <tr>\n",
       "      <th>1</th>\n",
       "      <td>18823032614273083</td>\n",
       "      <td>CafeF</td>\n",
       "      <td>2023-03-26 15:34:00</td>\n",
       "      <td>188114</td>\n",
       "      <td>4 nỗi sợ mà đàn ông không bao giờ muốn nhắc tớ...</td>\n",
       "      <td>Đây là 4 nỗi sợ thầm kín của nam giới đã được ...</td>\n",
       "      <td>Phái mạnh vốn không mạnh mẽ như họ thể hiện  ....</td>\n",
       "    </tr>\n",
       "    <tr>\n",
       "      <th>2</th>\n",
       "      <td>18823051708563511</td>\n",
       "      <td>CafeF</td>\n",
       "      <td>2023-05-17 10:00:00</td>\n",
       "      <td>18835</td>\n",
       "      <td>Tiến độ cùng loạt ưu đãi giúp Grand SunLake ch...</td>\n",
       "      <td>Bất chấp tình hình khó khăn chung của thị trườ...</td>\n",
       "      <td>Grand SunLake ghi điểm với tiến độ thi công vư...</td>\n",
       "    </tr>\n",
       "    <tr>\n",
       "      <th>3</th>\n",
       "      <td>18823052208054379</td>\n",
       "      <td>CafeF</td>\n",
       "      <td>2023-05-22 08:03:00</td>\n",
       "      <td>188112</td>\n",
       "      <td>13 hộ dân bị bãi rác khổng lồ tra tấn cầu cứu ...</td>\n",
       "      <td>13 hộ dân sống khổ sở cạnh bãi rác khổng lồ củ...</td>\n",
       "      <td>Từ năm 2016 đến nay 13 hộ dân với 45 nhân khẩu...</td>\n",
       "    </tr>\n",
       "    <tr>\n",
       "      <th>4</th>\n",
       "      <td>18823052216352836</td>\n",
       "      <td>CafeF</td>\n",
       "      <td>2023-05-22 23:37:00</td>\n",
       "      <td>188121</td>\n",
       "      <td>1 người giàu nhất Hàn Quốc khủng đến mức nào H...</td>\n",
       "      <td>Theo báo các công bố hồi tháng 4 của Forbes Ch...</td>\n",
       "      <td>Báo cáo của một công ty bảo hiểm địa phương mớ...</td>\n",
       "    </tr>\n",
       "  </tbody>\n",
       "</table>\n",
       "</div>"
      ],
      "text/plain": [
       "              newsId sourceNews          publishDate   catId  \\\n",
       "0    202212191625241      CafeF  2022-12-20 07:26:00      32   \n",
       "1  18823032614273083      CafeF  2023-03-26 15:34:00  188114   \n",
       "2  18823051708563511      CafeF  2023-05-17 10:00:00   18835   \n",
       "3  18823052208054379      CafeF  2023-05-22 08:03:00  188112   \n",
       "4  18823052216352836      CafeF  2023-05-22 23:37:00  188121   \n",
       "\n",
       "                                               title  \\\n",
       "0  Trung Quốc ký thỏa thuận với hi vọng thay đổi ...   \n",
       "1  4 nỗi sợ mà đàn ông không bao giờ muốn nhắc tớ...   \n",
       "2  Tiến độ cùng loạt ưu đãi giúp Grand SunLake ch...   \n",
       "3  13 hộ dân bị bãi rác khổng lồ tra tấn cầu cứu ...   \n",
       "4  1 người giàu nhất Hàn Quốc khủng đến mức nào H...   \n",
       "\n",
       "                                                sapo  \\\n",
       "0  Các chuyên gia cho biết việc Trung Quốc thúc đ...   \n",
       "1  Đây là 4 nỗi sợ thầm kín của nam giới đã được ...   \n",
       "2  Bất chấp tình hình khó khăn chung của thị trườ...   \n",
       "3  13 hộ dân sống khổ sở cạnh bãi rác khổng lồ củ...   \n",
       "4  Theo báo các công bố hồi tháng 4 của Forbes Ch...   \n",
       "\n",
       "                                             content  \n",
       "0  Đồng nhân dân tệ lên ngôi Trung Quốc đang có k...  \n",
       "1  Phái mạnh vốn không mạnh mẽ như họ thể hiện  ....  \n",
       "2  Grand SunLake ghi điểm với tiến độ thi công vư...  \n",
       "3  Từ năm 2016 đến nay 13 hộ dân với 45 nhân khẩu...  \n",
       "4  Báo cáo của một công ty bảo hiểm địa phương mớ...  "
      ]
     },
     "execution_count": 66,
     "metadata": {},
     "output_type": "execute_result"
    }
   ],
   "source": [
    "news_df['content'] = news_df['content'].apply(preprocess_text)\n",
    "news_df.head()"
   ]
  },
  {
   "cell_type": "code",
   "execution_count": 67,
   "id": "8622c89c-d62f-4e9c-9b31-ce1c9d256b9d",
   "metadata": {
    "tags": []
   },
   "outputs": [
    {
     "data": {
      "text/html": [
       "<div>\n",
       "<style scoped>\n",
       "    .dataframe tbody tr th:only-of-type {\n",
       "        vertical-align: middle;\n",
       "    }\n",
       "\n",
       "    .dataframe tbody tr th {\n",
       "        vertical-align: top;\n",
       "    }\n",
       "\n",
       "    .dataframe thead th {\n",
       "        text-align: right;\n",
       "    }\n",
       "</style>\n",
       "<table border=\"1\" class=\"dataframe\">\n",
       "  <thead>\n",
       "    <tr style=\"text-align: right;\">\n",
       "      <th></th>\n",
       "      <th>newsId</th>\n",
       "      <th>sourceNews</th>\n",
       "      <th>publishDate</th>\n",
       "      <th>catId</th>\n",
       "      <th>title</th>\n",
       "      <th>sapo</th>\n",
       "      <th>content</th>\n",
       "    </tr>\n",
       "  </thead>\n",
       "  <tbody>\n",
       "    <tr>\n",
       "      <th>0</th>\n",
       "      <td>202212191625241</td>\n",
       "      <td>CafeF</td>\n",
       "      <td>2022-12-20 07:26:00</td>\n",
       "      <td>32</td>\n",
       "      <td>Trung Quốc ký thỏa thuận với hi vọng thay đổi ...</td>\n",
       "      <td>Các chuyên gia cho biết việc Trung Quốc thúc đ...</td>\n",
       "      <td>Đồng nhân dân tệ lên ngôi Trung Quốc đang có k...</td>\n",
       "    </tr>\n",
       "    <tr>\n",
       "      <th>1</th>\n",
       "      <td>18823032614273083</td>\n",
       "      <td>CafeF</td>\n",
       "      <td>2023-03-26 15:34:00</td>\n",
       "      <td>188114</td>\n",
       "      <td>4 nỗi sợ mà đàn ông không bao giờ muốn nhắc tớ...</td>\n",
       "      <td>Đây là 4 nỗi sợ thầm kín của nam giới đã được ...</td>\n",
       "      <td>Phái mạnh vốn không mạnh mẽ như họ thể hiện  ....</td>\n",
       "    </tr>\n",
       "    <tr>\n",
       "      <th>2</th>\n",
       "      <td>18823051708563511</td>\n",
       "      <td>CafeF</td>\n",
       "      <td>2023-05-17 10:00:00</td>\n",
       "      <td>18835</td>\n",
       "      <td>Tiến độ cùng loạt ưu đãi giúp Grand SunLake ch...</td>\n",
       "      <td>Bất chấp tình hình khó khăn chung của thị trườ...</td>\n",
       "      <td>Grand SunLake ghi điểm với tiến độ thi công vư...</td>\n",
       "    </tr>\n",
       "    <tr>\n",
       "      <th>3</th>\n",
       "      <td>18823052208054379</td>\n",
       "      <td>CafeF</td>\n",
       "      <td>2023-05-22 08:03:00</td>\n",
       "      <td>188112</td>\n",
       "      <td>13 hộ dân bị bãi rác khổng lồ tra tấn cầu cứu ...</td>\n",
       "      <td>13 hộ dân sống khổ sở cạnh bãi rác khổng lồ củ...</td>\n",
       "      <td>Từ năm 2016 đến nay 13 hộ dân với 45 nhân khẩu...</td>\n",
       "    </tr>\n",
       "    <tr>\n",
       "      <th>4</th>\n",
       "      <td>18823052216352836</td>\n",
       "      <td>CafeF</td>\n",
       "      <td>2023-05-22 23:37:00</td>\n",
       "      <td>188121</td>\n",
       "      <td>1 người giàu nhất Hàn Quốc khủng đến mức nào H...</td>\n",
       "      <td>Theo báo các công bố hồi tháng 4 của Forbes Ch...</td>\n",
       "      <td>Báo cáo của một công ty bảo hiểm địa phương mớ...</td>\n",
       "    </tr>\n",
       "  </tbody>\n",
       "</table>\n",
       "</div>"
      ],
      "text/plain": [
       "              newsId sourceNews          publishDate   catId  \\\n",
       "0    202212191625241      CafeF  2022-12-20 07:26:00      32   \n",
       "1  18823032614273083      CafeF  2023-03-26 15:34:00  188114   \n",
       "2  18823051708563511      CafeF  2023-05-17 10:00:00   18835   \n",
       "3  18823052208054379      CafeF  2023-05-22 08:03:00  188112   \n",
       "4  18823052216352836      CafeF  2023-05-22 23:37:00  188121   \n",
       "\n",
       "                                               title  \\\n",
       "0  Trung Quốc ký thỏa thuận với hi vọng thay đổi ...   \n",
       "1  4 nỗi sợ mà đàn ông không bao giờ muốn nhắc tớ...   \n",
       "2  Tiến độ cùng loạt ưu đãi giúp Grand SunLake ch...   \n",
       "3  13 hộ dân bị bãi rác khổng lồ tra tấn cầu cứu ...   \n",
       "4  1 người giàu nhất Hàn Quốc khủng đến mức nào H...   \n",
       "\n",
       "                                                sapo  \\\n",
       "0  Các chuyên gia cho biết việc Trung Quốc thúc đ...   \n",
       "1  Đây là 4 nỗi sợ thầm kín của nam giới đã được ...   \n",
       "2  Bất chấp tình hình khó khăn chung của thị trườ...   \n",
       "3  13 hộ dân sống khổ sở cạnh bãi rác khổng lồ củ...   \n",
       "4  Theo báo các công bố hồi tháng 4 của Forbes Ch...   \n",
       "\n",
       "                                             content  \n",
       "0  Đồng nhân dân tệ lên ngôi Trung Quốc đang có k...  \n",
       "1  Phái mạnh vốn không mạnh mẽ như họ thể hiện  ....  \n",
       "2  Grand SunLake ghi điểm với tiến độ thi công vư...  \n",
       "3  Từ năm 2016 đến nay 13 hộ dân với 45 nhân khẩu...  \n",
       "4  Báo cáo của một công ty bảo hiểm địa phương mớ...  "
      ]
     },
     "execution_count": 67,
     "metadata": {},
     "output_type": "execute_result"
    }
   ],
   "source": [
    "news_df['title'] = news_df['title'].apply(preprocess_text)\n",
    "news_df['sapo'] = news_df['sapo'].apply(preprocess_text)\n",
    "news_df.head()"
   ]
  },
  {
   "cell_type": "code",
   "execution_count": 68,
   "id": "d24ccc02-ac84-40b1-821f-c405314eac39",
   "metadata": {
    "tags": []
   },
   "outputs": [],
   "source": [
    "# news_df.to_csv('../data_news/NewsByBatch.csv', index = False)"
   ]
  },
  {
   "cell_type": "code",
   "execution_count": 5,
   "id": "ae98cdfa-627e-4ed1-be14-724b5d0133eb",
   "metadata": {
    "tags": []
   },
   "outputs": [
    {
     "data": {
      "text/html": [
       "<div>\n",
       "<style scoped>\n",
       "    .dataframe tbody tr th:only-of-type {\n",
       "        vertical-align: middle;\n",
       "    }\n",
       "\n",
       "    .dataframe tbody tr th {\n",
       "        vertical-align: top;\n",
       "    }\n",
       "\n",
       "    .dataframe thead th {\n",
       "        text-align: right;\n",
       "    }\n",
       "</style>\n",
       "<table border=\"1\" class=\"dataframe\">\n",
       "  <thead>\n",
       "    <tr style=\"text-align: right;\">\n",
       "      <th></th>\n",
       "      <th>dt</th>\n",
       "      <th>user</th>\n",
       "      <th>clicked_news</th>\n",
       "      <th>click_0_itemIDs</th>\n",
       "      <th>candidate_news</th>\n",
       "      <th>clicked</th>\n",
       "    </tr>\n",
       "  </thead>\n",
       "  <tbody>\n",
       "    <tr>\n",
       "      <th>0</th>\n",
       "      <td>2023-05-23 16:09:20</td>\n",
       "      <td>1000715571907506311</td>\n",
       "      <td>[188230523084634909]</td>\n",
       "      <td>[188230523065136764, 188230523133342615, 18823...</td>\n",
       "      <td>188230523151137269</td>\n",
       "      <td>1 0 0 0</td>\n",
       "    </tr>\n",
       "    <tr>\n",
       "      <th>1</th>\n",
       "      <td>2023-05-23 13:12:56</td>\n",
       "      <td>1000869511963106373</td>\n",
       "      <td>[188230523091949273, 188230523110803808, 18823...</td>\n",
       "      <td>[188230523110422031, 188230523130918105, 18823...</td>\n",
       "      <td>188230523110422031</td>\n",
       "      <td>1 0 0 0</td>\n",
       "    </tr>\n",
       "    <tr>\n",
       "      <th>2</th>\n",
       "      <td>2023-05-23 13:38:17</td>\n",
       "      <td>1002133351984329224</td>\n",
       "      <td>[188230523064729426]</td>\n",
       "      <td>[188230522101418843, 188230523104932182, 18823...</td>\n",
       "      <td>188230523110949589</td>\n",
       "      <td>1 0 0 0</td>\n",
       "    </tr>\n",
       "    <tr>\n",
       "      <th>3</th>\n",
       "      <td>2023-05-23 08:12:58</td>\n",
       "      <td>1002379101984331591</td>\n",
       "      <td>[188230523073739961, 18823052220004079, 188230...</td>\n",
       "      <td>[188230522201229326, 188230523073739961, 18823...</td>\n",
       "      <td>188230522230501154</td>\n",
       "      <td>1 0 0 0</td>\n",
       "    </tr>\n",
       "    <tr>\n",
       "      <th>4</th>\n",
       "      <td>2023-05-23 13:34:03</td>\n",
       "      <td>1002923693419218533</td>\n",
       "      <td>[188230523084634909]</td>\n",
       "      <td>[18823052309482578, 188230523095924173, 188230...</td>\n",
       "      <td>188230523091949273</td>\n",
       "      <td>1 0 0 0</td>\n",
       "    </tr>\n",
       "  </tbody>\n",
       "</table>\n",
       "</div>"
      ],
      "text/plain": [
       "                    dt                 user  \\\n",
       "0  2023-05-23 16:09:20  1000715571907506311   \n",
       "1  2023-05-23 13:12:56  1000869511963106373   \n",
       "2  2023-05-23 13:38:17  1002133351984329224   \n",
       "3  2023-05-23 08:12:58  1002379101984331591   \n",
       "4  2023-05-23 13:34:03  1002923693419218533   \n",
       "\n",
       "                                        clicked_news  \\\n",
       "0                               [188230523084634909]   \n",
       "1  [188230523091949273, 188230523110803808, 18823...   \n",
       "2                               [188230523064729426]   \n",
       "3  [188230523073739961, 18823052220004079, 188230...   \n",
       "4                               [188230523084634909]   \n",
       "\n",
       "                                     click_0_itemIDs      candidate_news  \\\n",
       "0  [188230523065136764, 188230523133342615, 18823...  188230523151137269   \n",
       "1  [188230523110422031, 188230523130918105, 18823...  188230523110422031   \n",
       "2  [188230522101418843, 188230523104932182, 18823...  188230523110949589   \n",
       "3  [188230522201229326, 188230523073739961, 18823...  188230522230501154   \n",
       "4  [18823052309482578, 188230523095924173, 188230...  188230523091949273   \n",
       "\n",
       "   clicked  \n",
       "0  1 0 0 0  \n",
       "1  1 0 0 0  \n",
       "2  1 0 0 0  \n",
       "3  1 0 0 0  \n",
       "4  1 0 0 0  "
      ]
     },
     "execution_count": 5,
     "metadata": {},
     "output_type": "execute_result"
    }
   ],
   "source": [
    "import pandas as pd\n",
    "from ast import literal_eval\n",
    "\n",
    "behavior_df = pd.read_csv('../data_news/behaviors_data.csv', \n",
    "            # usecols=['newsId'] + config.dataset_attributes['news'],\n",
    "        )\n",
    "behavior_df.head()"
   ]
  },
  {
   "cell_type": "code",
   "execution_count": 6,
   "id": "3d0e321e-2908-4346-93a0-ab34fcbd632c",
   "metadata": {
    "tags": []
   },
   "outputs": [
    {
     "data": {
      "text/plain": [
       "0                                     [188230523084634909]\n",
       "1        [188230523091949273, 188230523110803808, 18823...\n",
       "2                                     [188230523064729426]\n",
       "3        [188230523073739961, 18823052220004079, 188230...\n",
       "4                                     [188230523084634909]\n",
       "                               ...                        \n",
       "26607             [188230522013522903, 188230522192304932]\n",
       "26608    [188230523085243286, 188230522105503221, 18823...\n",
       "26609    [188230522223641785, 188230521163244667, 18823...\n",
       "26610    [188230522013522903, 18823052308285342, 188230...\n",
       "26611    [188230523134148285, 188230523111454947, 18823...\n",
       "Name: clicked_news, Length: 26612, dtype: object"
      ]
     },
     "execution_count": 6,
     "metadata": {},
     "output_type": "execute_result"
    }
   ],
   "source": [
    "behavior_df['clicked_news']"
   ]
  },
  {
   "cell_type": "code",
   "execution_count": 7,
   "id": "edf9dc40-c88d-49a9-845c-f2cf5ac434fe",
   "metadata": {
    "tags": []
   },
   "outputs": [],
   "source": [
    "import ast\n",
    "\n",
    "def convert_string_to_list(string):\n",
    "    return ast.literal_eval(string)\n",
    "behavior_df['clicked_news'] = behavior_df['clicked_news'].apply(convert_string_to_list)"
   ]
  },
  {
   "cell_type": "code",
   "execution_count": 8,
   "id": "0d4ebbfe-f60c-481f-b161-7a99322af54d",
   "metadata": {
    "tags": []
   },
   "outputs": [],
   "source": [
    "behavior_df['click_0_itemIDs'] = behavior_df['click_0_itemIDs'].apply(convert_string_to_list)"
   ]
  },
  {
   "cell_type": "code",
   "execution_count": 10,
   "id": "fac06c49-f19b-46ea-a0cb-25ab3cfa54a7",
   "metadata": {
    "tags": []
   },
   "outputs": [],
   "source": [
    "# behavior_df['candidate_news'].iloc[0] in news_df['newsId'].tolist()"
   ]
  },
  {
   "cell_type": "code",
   "execution_count": 11,
   "id": "d63788c7-092f-4ff9-be0d-17acc5d5f9e9",
   "metadata": {
    "tags": []
   },
   "outputs": [
    {
     "data": {
      "text/plain": [
       "dt                 26612\n",
       "user               26612\n",
       "clicked_news       26612\n",
       "click_0_itemIDs    26612\n",
       "candidate_news     26612\n",
       "clicked            26612\n",
       "dtype: int64"
      ]
     },
     "execution_count": 11,
     "metadata": {},
     "output_type": "execute_result"
    }
   ],
   "source": [
    "behavior_df.count()"
   ]
  },
  {
   "cell_type": "code",
   "execution_count": 78,
   "id": "e4adbb4e-a36d-4d3f-875e-26e4370c456c",
   "metadata": {
    "tags": []
   },
   "outputs": [
    {
     "data": {
      "text/plain": [
       "[188230523084634909]"
      ]
     },
     "execution_count": 78,
     "metadata": {},
     "output_type": "execute_result"
    }
   ],
   "source": [
    "behavior_df.iloc[0]['clicked_news']"
   ]
  },
  {
   "cell_type": "code",
   "execution_count": 80,
   "id": "5d8da78d-bae9-47c4-bde0-7edef27bcc98",
   "metadata": {},
   "outputs": [
    {
     "data": {
      "text/plain": [
       "True"
      ]
     },
     "execution_count": 80,
     "metadata": {},
     "output_type": "execute_result"
    }
   ],
   "source": [
    "188230523151137269 in news_df['newsId'].tolist()"
   ]
  },
  {
   "cell_type": "code",
   "execution_count": 52,
   "id": "0e9a952f-5dd2-4aae-954e-351943ae5447",
   "metadata": {
    "tags": []
   },
   "outputs": [
    {
     "data": {
      "text/plain": [
       "0    True\n",
       "1    True\n",
       "2    True\n",
       "3    True\n",
       "4    True\n",
       "5    True\n",
       "6    True\n",
       "7    True\n",
       "8    True\n",
       "9    True\n",
       "dtype: bool"
      ]
     },
     "execution_count": 52,
     "metadata": {},
     "output_type": "execute_result"
    }
   ],
   "source": [
    "def filter_not_exist(row):\n",
    "    a_set = set(row['clicked_news'])\n",
    "    exist_list = df['newsId'].tolist()\n",
    "    if (a_set.issubset(exist_list)) and (set(row['click_0_itemIDs']).issubset(exist_list)) and (row['candidate_news'] in exist_list):\n",
    "        return True\n",
    "    return False\n",
    "\n",
    "news_df_true = behavior_df.apply(filter_not_exist, axis = 1)\n",
    "news_df_true[:10]"
   ]
  },
  {
   "cell_type": "code",
   "execution_count": 53,
   "id": "773679c1-9eed-412d-b401-8343edaaa28e",
   "metadata": {
    "tags": []
   },
   "outputs": [
    {
     "data": {
      "text/html": [
       "<div>\n",
       "<style scoped>\n",
       "    .dataframe tbody tr th:only-of-type {\n",
       "        vertical-align: middle;\n",
       "    }\n",
       "\n",
       "    .dataframe tbody tr th {\n",
       "        vertical-align: top;\n",
       "    }\n",
       "\n",
       "    .dataframe thead th {\n",
       "        text-align: right;\n",
       "    }\n",
       "</style>\n",
       "<table border=\"1\" class=\"dataframe\">\n",
       "  <thead>\n",
       "    <tr style=\"text-align: right;\">\n",
       "      <th></th>\n",
       "      <th>dt</th>\n",
       "      <th>user</th>\n",
       "      <th>clicked_news</th>\n",
       "      <th>click_0_itemIDs</th>\n",
       "      <th>candidate_news</th>\n",
       "      <th>clicked</th>\n",
       "    </tr>\n",
       "  </thead>\n",
       "  <tbody>\n",
       "    <tr>\n",
       "      <th>0</th>\n",
       "      <td>2023-05-23 16:09:20</td>\n",
       "      <td>1000715571907506311</td>\n",
       "      <td>[188230523084634909]</td>\n",
       "      <td>[188230523065136764, 188230523133342615, 18823...</td>\n",
       "      <td>188230523151137269</td>\n",
       "      <td>1 0 0 0</td>\n",
       "    </tr>\n",
       "    <tr>\n",
       "      <th>1</th>\n",
       "      <td>2023-05-23 13:12:56</td>\n",
       "      <td>1000869511963106373</td>\n",
       "      <td>[188230523091949273, 188230523110803808, 18823...</td>\n",
       "      <td>[188230523110422031, 188230523130918105, 18823...</td>\n",
       "      <td>188230523110422031</td>\n",
       "      <td>1 0 0 0</td>\n",
       "    </tr>\n",
       "    <tr>\n",
       "      <th>2</th>\n",
       "      <td>2023-05-23 13:38:17</td>\n",
       "      <td>1002133351984329224</td>\n",
       "      <td>[188230523064729426]</td>\n",
       "      <td>[188230522101418843, 188230523104932182, 18823...</td>\n",
       "      <td>188230523110949589</td>\n",
       "      <td>1 0 0 0</td>\n",
       "    </tr>\n",
       "    <tr>\n",
       "      <th>3</th>\n",
       "      <td>2023-05-23 08:12:58</td>\n",
       "      <td>1002379101984331591</td>\n",
       "      <td>[188230523073739961, 18823052220004079, 188230...</td>\n",
       "      <td>[188230522201229326, 188230523073739961, 18823...</td>\n",
       "      <td>188230522230501154</td>\n",
       "      <td>1 0 0 0</td>\n",
       "    </tr>\n",
       "    <tr>\n",
       "      <th>4</th>\n",
       "      <td>2023-05-23 13:34:03</td>\n",
       "      <td>1002923693419218533</td>\n",
       "      <td>[188230523084634909]</td>\n",
       "      <td>[18823052309482578, 188230523095924173, 188230...</td>\n",
       "      <td>188230523091949273</td>\n",
       "      <td>1 0 0 0</td>\n",
       "    </tr>\n",
       "    <tr>\n",
       "      <th>...</th>\n",
       "      <td>...</td>\n",
       "      <td>...</td>\n",
       "      <td>...</td>\n",
       "      <td>...</td>\n",
       "      <td>...</td>\n",
       "      <td>...</td>\n",
       "    </tr>\n",
       "    <tr>\n",
       "      <th>29759</th>\n",
       "      <td>2023-05-23 14:22:46</td>\n",
       "      <td>9096996021732208930</td>\n",
       "      <td>[188230522013522903, 188230522192304932]</td>\n",
       "      <td>[188230519214427864, 188230522223641785, 18823...</td>\n",
       "      <td>18823052309482578</td>\n",
       "      <td>1 0 0 0</td>\n",
       "    </tr>\n",
       "    <tr>\n",
       "      <th>29760</th>\n",
       "      <td>2023-05-23 16:58:09</td>\n",
       "      <td>9098854922065243854</td>\n",
       "      <td>[188230523085243286, 188230522105503221, 18823...</td>\n",
       "      <td>[188230523144039069, 188230523161251645, 18823...</td>\n",
       "      <td>188230523144039069</td>\n",
       "      <td>1 0 0 0</td>\n",
       "    </tr>\n",
       "    <tr>\n",
       "      <th>29761</th>\n",
       "      <td>2023-05-23 08:44:19</td>\n",
       "      <td>9098973871953376925</td>\n",
       "      <td>[188230522223641785, 188230521163244667, 18823...</td>\n",
       "      <td>[188230521082534922, 188230522013522903, 18823...</td>\n",
       "      <td>188230521082534922</td>\n",
       "      <td>1 0 0 0</td>\n",
       "    </tr>\n",
       "    <tr>\n",
       "      <th>29762</th>\n",
       "      <td>2023-05-23 19:06:25</td>\n",
       "      <td>9099546782885458450</td>\n",
       "      <td>[188230522013522903, 18823052308285342, 188230...</td>\n",
       "      <td>[188230523185505332, 188230523160606145, 18823...</td>\n",
       "      <td>188230523185505332</td>\n",
       "      <td>1 0 0 0</td>\n",
       "    </tr>\n",
       "    <tr>\n",
       "      <th>29763</th>\n",
       "      <td>2023-05-23 14:24:47</td>\n",
       "      <td>i25__create1675223024</td>\n",
       "      <td>[188230523134148285, 188230523111454947, 18823...</td>\n",
       "      <td>[188230520132854313, 188230517193202729, 18823...</td>\n",
       "      <td>188230520132854313</td>\n",
       "      <td>1 0 0 0</td>\n",
       "    </tr>\n",
       "  </tbody>\n",
       "</table>\n",
       "<p>27863 rows × 6 columns</p>\n",
       "</div>"
      ],
      "text/plain": [
       "                        dt                   user  \\\n",
       "0      2023-05-23 16:09:20    1000715571907506311   \n",
       "1      2023-05-23 13:12:56    1000869511963106373   \n",
       "2      2023-05-23 13:38:17    1002133351984329224   \n",
       "3      2023-05-23 08:12:58    1002379101984331591   \n",
       "4      2023-05-23 13:34:03    1002923693419218533   \n",
       "...                    ...                    ...   \n",
       "29759  2023-05-23 14:22:46    9096996021732208930   \n",
       "29760  2023-05-23 16:58:09    9098854922065243854   \n",
       "29761  2023-05-23 08:44:19    9098973871953376925   \n",
       "29762  2023-05-23 19:06:25    9099546782885458450   \n",
       "29763  2023-05-23 14:24:47  i25__create1675223024   \n",
       "\n",
       "                                            clicked_news  \\\n",
       "0                                   [188230523084634909]   \n",
       "1      [188230523091949273, 188230523110803808, 18823...   \n",
       "2                                   [188230523064729426]   \n",
       "3      [188230523073739961, 18823052220004079, 188230...   \n",
       "4                                   [188230523084634909]   \n",
       "...                                                  ...   \n",
       "29759           [188230522013522903, 188230522192304932]   \n",
       "29760  [188230523085243286, 188230522105503221, 18823...   \n",
       "29761  [188230522223641785, 188230521163244667, 18823...   \n",
       "29762  [188230522013522903, 18823052308285342, 188230...   \n",
       "29763  [188230523134148285, 188230523111454947, 18823...   \n",
       "\n",
       "                                         click_0_itemIDs      candidate_news  \\\n",
       "0      [188230523065136764, 188230523133342615, 18823...  188230523151137269   \n",
       "1      [188230523110422031, 188230523130918105, 18823...  188230523110422031   \n",
       "2      [188230522101418843, 188230523104932182, 18823...  188230523110949589   \n",
       "3      [188230522201229326, 188230523073739961, 18823...  188230522230501154   \n",
       "4      [18823052309482578, 188230523095924173, 188230...  188230523091949273   \n",
       "...                                                  ...                 ...   \n",
       "29759  [188230519214427864, 188230522223641785, 18823...   18823052309482578   \n",
       "29760  [188230523144039069, 188230523161251645, 18823...  188230523144039069   \n",
       "29761  [188230521082534922, 188230522013522903, 18823...  188230521082534922   \n",
       "29762  [188230523185505332, 188230523160606145, 18823...  188230523185505332   \n",
       "29763  [188230520132854313, 188230517193202729, 18823...  188230520132854313   \n",
       "\n",
       "       clicked  \n",
       "0      1 0 0 0  \n",
       "1      1 0 0 0  \n",
       "2      1 0 0 0  \n",
       "3      1 0 0 0  \n",
       "4      1 0 0 0  \n",
       "...        ...  \n",
       "29759  1 0 0 0  \n",
       "29760  1 0 0 0  \n",
       "29761  1 0 0 0  \n",
       "29762  1 0 0 0  \n",
       "29763  1 0 0 0  \n",
       "\n",
       "[27863 rows x 6 columns]"
      ]
     },
     "execution_count": 53,
     "metadata": {},
     "output_type": "execute_result"
    }
   ],
   "source": [
    "behavior_df = behavior_df[news_df_true]\n",
    "behavior_df"
   ]
  },
  {
   "cell_type": "code",
   "execution_count": 67,
   "id": "4b28ad62-4b52-4874-ae53-8cc78f88ad90",
   "metadata": {
    "tags": []
   },
   "outputs": [],
   "source": [
    "behavior_df.to_csv('../data_news/behaviors_data.csv', index = False)"
   ]
  },
  {
   "cell_type": "code",
   "execution_count": 14,
   "id": "c86a9e36-5dcf-443b-823d-55d97c8c8d48",
   "metadata": {
    "tags": []
   },
   "outputs": [
    {
     "data": {
      "text/plain": [
       "[188230522101418843, 188230523104932182, 188230523133503048]"
      ]
     },
     "execution_count": 14,
     "metadata": {},
     "output_type": "execute_result"
    }
   ],
   "source": [
    "behavior_df.iloc[2]['click_0_itemIDs']"
   ]
  },
  {
   "cell_type": "code",
   "execution_count": 1,
   "id": "b0e08ab3-6478-4b25-8785-859cf8168646",
   "metadata": {
    "tags": []
   },
   "outputs": [],
   "source": [
    "from vncorenlp import VnCoreNLP\n",
    "rdrsegmenter = VnCoreNLP(\"../vncorenlp/VnCoreNLP-1.1.1.jar\", annotators=\"wseg\", max_heap_size='-Xmx500m') "
   ]
  },
  {
   "cell_type": "code",
   "execution_count": 18,
   "id": "b4079fa4-267e-42b6-9749-8a5b1a9d4949",
   "metadata": {},
   "outputs": [],
   "source": [
    "def segment_text(sen):\n",
    "    ##Lower\n",
    "    try:\n",
    "        sen = sen.lower()\n",
    "    except:\n",
    "        print(sen)\n",
    "    ##Segment\n",
    "    seg = rdrsegmenter.tokenize(sen)\n",
    "    if len(seg) == 0:\n",
    "        sen = ' '\n",
    "    else: \n",
    "        sen = ' '.join(seg[0])\n",
    "    return sen"
   ]
  },
  {
   "cell_type": "code",
   "execution_count": 35,
   "id": "9e7556e2-a99a-46ce-bc50-6629e522ccf0",
   "metadata": {},
   "outputs": [
    {
     "data": {
      "text/html": [
       "<div>\n",
       "<style scoped>\n",
       "    .dataframe tbody tr th:only-of-type {\n",
       "        vertical-align: middle;\n",
       "    }\n",
       "\n",
       "    .dataframe tbody tr th {\n",
       "        vertical-align: top;\n",
       "    }\n",
       "\n",
       "    .dataframe thead th {\n",
       "        text-align: right;\n",
       "    }\n",
       "</style>\n",
       "<table border=\"1\" class=\"dataframe\">\n",
       "  <thead>\n",
       "    <tr style=\"text-align: right;\">\n",
       "      <th></th>\n",
       "      <th>newsId</th>\n",
       "      <th>sourceNews</th>\n",
       "      <th>publishDate</th>\n",
       "      <th>catId</th>\n",
       "      <th>title</th>\n",
       "      <th>sapo</th>\n",
       "      <th>content</th>\n",
       "    </tr>\n",
       "  </thead>\n",
       "  <tbody>\n",
       "    <tr>\n",
       "      <th>0</th>\n",
       "      <td>202212191625241</td>\n",
       "      <td>CafeF</td>\n",
       "      <td>2022-12-20 07:26:00</td>\n",
       "      <td>32</td>\n",
       "      <td>trung_quốc ký thoả_thuận với hi_vọng thay_đổi ...</td>\n",
       "      <td>các chuyên_gia cho biết việc trung_quốc thúc_đ...</td>\n",
       "      <td>đồng_nhân_dân_tệ lên_ngôi trung_quốc đang có k...</td>\n",
       "    </tr>\n",
       "    <tr>\n",
       "      <th>1</th>\n",
       "      <td>18823032614273083</td>\n",
       "      <td>CafeF</td>\n",
       "      <td>2023-03-26 15:34:00</td>\n",
       "      <td>188114</td>\n",
       "      <td>4 nỗi sợ mà đàn_ông không bao_giờ muốn nhắc tớ...</td>\n",
       "      <td>đây là 4 nỗi sợ thầm_kín của nam_giới đã được ...</td>\n",
       "      <td>phái_mạnh vốn không mạnh_mẽ như họ thể_hiện . ...</td>\n",
       "    </tr>\n",
       "    <tr>\n",
       "      <th>2</th>\n",
       "      <td>18823051708563511</td>\n",
       "      <td>CafeF</td>\n",
       "      <td>2023-05-17 10:00:00</td>\n",
       "      <td>18835</td>\n",
       "      <td>tiến_độ cùng loạt ưu_đãi giúp grand sunlake ch...</td>\n",
       "      <td>bất_chấp tình_hình khó_khăn chung của thị_trườ...</td>\n",
       "      <td>grand sunlake ghi_điểm với tiến_độ thi_công vư...</td>\n",
       "    </tr>\n",
       "    <tr>\n",
       "      <th>3</th>\n",
       "      <td>18823052208054379</td>\n",
       "      <td>CafeF</td>\n",
       "      <td>2023-05-22 08:03:00</td>\n",
       "      <td>188112</td>\n",
       "      <td>13 hộ dân bị bãi rác khổng_lồ tra_tấn cầu_cứu ...</td>\n",
       "      <td>13 hộ dân sống khổ_sở cạnh bãi rác khổng_lồ củ...</td>\n",
       "      <td>từ năm 2016 đến nay 13 hộ dân với 45 nhân_khẩu...</td>\n",
       "    </tr>\n",
       "    <tr>\n",
       "      <th>4</th>\n",
       "      <td>18823052216352836</td>\n",
       "      <td>CafeF</td>\n",
       "      <td>2023-05-22 23:37:00</td>\n",
       "      <td>188121</td>\n",
       "      <td>1 người giàu nhất hàn_quốc khủng đến mức nào h...</td>\n",
       "      <td>theo báo các công_bố hồi tháng 4 của forbes ch...</td>\n",
       "      <td>báo_cáo của một công_ty bảo_hiểm địa_phương mớ...</td>\n",
       "    </tr>\n",
       "  </tbody>\n",
       "</table>\n",
       "</div>"
      ],
      "text/plain": [
       "              newsId sourceNews          publishDate   catId  \\\n",
       "0    202212191625241      CafeF  2022-12-20 07:26:00      32   \n",
       "1  18823032614273083      CafeF  2023-03-26 15:34:00  188114   \n",
       "2  18823051708563511      CafeF  2023-05-17 10:00:00   18835   \n",
       "3  18823052208054379      CafeF  2023-05-22 08:03:00  188112   \n",
       "4  18823052216352836      CafeF  2023-05-22 23:37:00  188121   \n",
       "\n",
       "                                               title  \\\n",
       "0  trung_quốc ký thoả_thuận với hi_vọng thay_đổi ...   \n",
       "1  4 nỗi sợ mà đàn_ông không bao_giờ muốn nhắc tớ...   \n",
       "2  tiến_độ cùng loạt ưu_đãi giúp grand sunlake ch...   \n",
       "3  13 hộ dân bị bãi rác khổng_lồ tra_tấn cầu_cứu ...   \n",
       "4  1 người giàu nhất hàn_quốc khủng đến mức nào h...   \n",
       "\n",
       "                                                sapo  \\\n",
       "0  các chuyên_gia cho biết việc trung_quốc thúc_đ...   \n",
       "1  đây là 4 nỗi sợ thầm_kín của nam_giới đã được ...   \n",
       "2  bất_chấp tình_hình khó_khăn chung của thị_trườ...   \n",
       "3  13 hộ dân sống khổ_sở cạnh bãi rác khổng_lồ củ...   \n",
       "4  theo báo các công_bố hồi tháng 4 của forbes ch...   \n",
       "\n",
       "                                             content  \n",
       "0  đồng_nhân_dân_tệ lên_ngôi trung_quốc đang có k...  \n",
       "1  phái_mạnh vốn không mạnh_mẽ như họ thể_hiện . ...  \n",
       "2  grand sunlake ghi_điểm với tiến_độ thi_công vư...  \n",
       "3  từ năm 2016 đến nay 13 hộ dân với 45 nhân_khẩu...  \n",
       "4  báo_cáo của một công_ty bảo_hiểm địa_phương mớ...  "
      ]
     },
     "execution_count": 35,
     "metadata": {},
     "output_type": "execute_result"
    }
   ],
   "source": [
    "news_df['title'] = news_df['title'].apply(segment_text)\n",
    "news_df['sapo'] = news_df['sapo'].apply(segment_text)\n",
    "news_df['content'] = news_df['content'].apply(segment_text)\n",
    "news_df.head()"
   ]
  },
  {
   "cell_type": "code",
   "execution_count": 96,
   "id": "593460f2-5f39-4770-939d-98649baae284",
   "metadata": {},
   "outputs": [
    {
     "data": {
      "text/plain": [
       "<AxesSubplot: >"
      ]
     },
     "execution_count": 96,
     "metadata": {},
     "output_type": "execute_result"
    },
    {
     "data": {
      "image/png": "[encoded data removed]",
      "text/plain": [
       "<Figure size 640x480 with 1 Axes>"
      ]
     },
     "metadata": {},
     "output_type": "display_data"
    }
   ],
   "source": [
    "seq_len = [len(i) for i in behavior_df['clicked_news']]\n",
    "\n",
    "pd.Series(seq_len).hist(bins = 10)"
   ]
  },
  {
   "cell_type": "code",
   "execution_count": 36,
   "id": "2d1bbe27-3fcc-43cf-8230-19af1979e529",
   "metadata": {},
   "outputs": [
    {
     "data": {
      "text/plain": [
       "<AxesSubplot: >"
      ]
     },
     "execution_count": 36,
     "metadata": {},
     "output_type": "execute_result"
    },
    {
     "data": {
      "image/png": "[encoded data removed]",
      "text/plain": [
       "<Figure size 640x480 with 1 Axes>"
      ]
     },
     "metadata": {},
     "output_type": "display_data"
    }
   ],
   "source": [
    "seq_len = [len(i.split()) for i in news_df['title']]\n",
    "\n",
    "pd.Series(seq_len).hist(bins = 30)"
   ]
  },
  {
   "cell_type": "code",
   "execution_count": 37,
   "id": "a7da367f-2f0d-4770-8e42-5074e3e930c7",
   "metadata": {},
   "outputs": [
    {
     "data": {
      "text/plain": [
       "<AxesSubplot: >"
      ]
     },
     "execution_count": 37,
     "metadata": {},
     "output_type": "execute_result"
    },
    {
     "data": {
      "image/png": "[encoded data removed]",
      "text/plain": [
       "<Figure size 640x480 with 1 Axes>"
      ]
     },
     "metadata": {},
     "output_type": "display_data"
    }
   ],
   "source": [
    "seq_len = [len(i.split()) for i in news_df['sapo']]\n",
    "\n",
    "pd.Series(seq_len).hist(bins = 30)"
   ]
  },
  {
   "cell_type": "code",
   "execution_count": 39,
   "id": "72fdde60-fa90-426a-8ba4-8143d5e5099f",
   "metadata": {},
   "outputs": [],
   "source": [
    "news_df.to_csv('../data_news/segment_news_data.csv', index = False)"
   ]
  },
  {
   "cell_type": "code",
   "execution_count": 4,
   "id": "ca15c6a5-c23b-4399-ba32-9f66d129c641",
   "metadata": {
    "tags": []
   },
   "outputs": [],
   "source": [
    "# import py_vncorenlp\n",
    "# py_vncorenlp.download_model(save_dir='/data2/nghiatl/REC/news-recommendation/src/VNCORENLP')"
   ]
  },
  {
   "cell_type": "code",
   "execution_count": 25,
   "id": "12745f80-d82d-4b7d-9fcb-d0294cf41fbf",
   "metadata": {
    "tags": []
   },
   "outputs": [],
   "source": [
    "# model = py_vncorenlp.VnCoreNLP(save_dir='/data2/nghiatl/REC/news-recommendation/src/VNCORENLP')"
   ]
  },
  {
   "cell_type": "code",
   "execution_count": 8,
   "id": "71024c37-cd40-4bb9-8151-3552d3890a22",
   "metadata": {
    "tags": []
   },
   "outputs": [],
   "source": [
    "from vncorenlp import VnCoreNLP\n",
    "\n",
    "annotator = VnCoreNLP(\"/data2/nghiatl/REC/news-recommendation/src/VNCORENLP/VnCoreNLP-1.2.jar\", annotators=\"wseg,pos,ner,parse\", max_heap_size='-Xmx2g')"
   ]
  },
  {
   "cell_type": "code",
   "execution_count": 26,
   "id": "231f8cc6-f164-4f39-b848-255018283e3b",
   "metadata": {
    "tags": []
   },
   "outputs": [
    {
     "data": {
      "text/plain": [
       "[['tôi', 'không', 'ăn', 'nhà_hàng']]"
      ]
     },
     "execution_count": 26,
     "metadata": {},
     "output_type": "execute_result"
    }
   ],
   "source": [
    "annotator.tokenize(\"tôi không ăn nhà hàng\")"
   ]
  },
  {
   "cell_type": "code",
   "execution_count": 45,
   "id": "c86a35c3-5c09-49d8-baa3-c2de1d19f537",
   "metadata": {
    "tags": []
   },
   "outputs": [],
   "source": [
    "class NewsDataset(Dataset):\n",
    "    \"\"\"\n",
    "    Load news for evaluation.\n",
    "    \"\"\"\n",
    "    def __init__(self, news_path):\n",
    "        super(NewsDataset, self).__init__()\n",
    "        self.news_parsed = pd.read_csv(\n",
    "            news_path,\n",
    "            index_col='newsId',\n",
    "            usecols=['newsId'] + config.dataset_attributes['news'],\n",
    "            converters={\n",
    "                attribute: literal_eval\n",
    "                for attribute in set(config.dataset_attributes['news']) & set([\n",
    "                    'catId'\n",
    "                ])\n",
    "            }\n",
    "            )\n",
    "        \n",
    "        self.tokenizer = AutoTokenizer.from_pretrained(config.encoder_pretrained_path)\n",
    "        self.news2dict = self.news_parsed.to_dict('index')\n",
    "        print(self.news2dict)\n",
    "        for key1 in self.news2dict.keys():\n",
    "            for key2 in self.news2dict[key1].keys():\n",
    "                if key2 == 'title':\n",
    "                    self.news2dict[key1][key2] = self.tokenizer(\n",
    "                self.news2dict[key1][key2], padding='max_length', truncation=True, max_length = config.num_words_title, return_tensors=\"pt\")\n",
    "                    for k in self.news2dict[key1][key2].keys():\n",
    "                        self.news2dict[key1][key2][k] = self.news2dict[key1][key2][k][0]\n",
    "                        assert len(self.news2dict[key1][key2][k]) == config.num_words_title\n",
    "                elif key2 == 'sapo':\n",
    "                    self.news2dict[key1][key2] = self.tokenizer(\n",
    "                self.news2dict[key1][key2], padding='max_length', truncation=True, max_length = config.num_words_abstract, return_tensors=\"pt\")\n",
    "                    for k in self.news2dict[key1][key2].keys():\n",
    "                        self.news2dict[key1][key2][k] = self.news2dict[key1][key2][k][0]\n",
    "                        assert len(self.news2dict[key1][key2][k]) == config.num_words_abstract\n",
    "                else:\n",
    "                    self.news2dict[key1][key2] = torch.tensor(\n",
    "                self.news2dict[key1][key2])\n",
    "\n",
    "    def __len__(self):\n",
    "        return len(self.news_parsed)\n",
    "\n",
    "    def __getitem__(self, idx):\n",
    "        item = self.news2dict[idx]\n",
    "        return item"
   ]
  },
  {
   "cell_type": "code",
   "execution_count": 48,
   "id": "386626ae-d5a7-456b-a652-cea88da1f61f",
   "metadata": {
    "tags": []
   },
   "outputs": [
    {
     "data": {
      "text/plain": [
       "{'user': '1000869511963106373',\n",
       " 'time': '2023-05-23 13:12:56',\n",
       " 'clicked_news_string': '188230523091949273 188230523110803808 18823052216352836 188230523110218882 188230522230501154 188230523070259414 188230523115739876',\n",
       " 'impressions': '188230523110422031 188230523110422031 188230523130918105 188230523111454947',\n",
       " 'clicked': '1 0 0 0'}"
      ]
     },
     "execution_count": 48,
     "metadata": {},
     "output_type": "execute_result"
    }
   ],
   "source": [
    "from torch.utils.data import Dataset, DataLoader\n",
    "\n",
    "class BehaviorsDataset(Dataset):\n",
    "    \"\"\"\n",
    "    Load behaviors for evaluation, (user, time) pair as session\n",
    "    \"\"\"\n",
    "    def __init__(self, behaviors_path):\n",
    "        super(BehaviorsDataset, self).__init__()\n",
    "        self.behaviors = pd.read_csv(behaviors_path, converters={\n",
    "                attribute: literal_eval\n",
    "                for attribute in set([\n",
    "                    'clicked_news', 'click_0_itemIDs'\n",
    "                ])\n",
    "            })\n",
    "        # self.behaviors.clicked_news.fillna(' ', inplace=True)\n",
    "        # self.behaviors.impressions = self.behaviors.impressions.str.split()\n",
    "\n",
    "    def __len__(self):\n",
    "        return len(self.behaviors)\n",
    "\n",
    "    def __getitem__(self, idx):\n",
    "        row = self.behaviors.iloc[idx]\n",
    "        item = {\n",
    "            # \"impression_id\": row.impression_id,\n",
    "            \"user\": row.user,\n",
    "            \"time\": str(row['dt']),\n",
    "            \"clicked_news_string\": \" \".join([str(i) for i in row.clicked_news]),\n",
    "            \"impressions\": str(row.candidate_news) + ' ' + ' '.join([str(idnew) for idnew in row.click_0_itemIDs]),\n",
    "            \"clicked\": row.clicked\n",
    "        }\n",
    "        return item\n",
    "dat = BehaviorsDataset('../data_news/behaviors_data.csv')\n",
    "dat.__getitem__(1)"
   ]
  },
  {
   "cell_type": "code",
   "execution_count": 51,
   "id": "e6c7d3b9-0d50-4ecd-8b0e-8f364250036a",
   "metadata": {
    "tags": []
   },
   "outputs": [
    {
     "data": {
      "text/plain": [
       "{'user': '1000869511963106373',\n",
       " 'clicked_news_string': '188230523091949273 188230523110803808 18823052216352836 188230523110218882 188230522230501154 188230523070259414 188230523115739876',\n",
       " 'clicked_news': [188230523091949273,\n",
       "  188230523110803808,\n",
       "  18823052216352836,\n",
       "  188230523110218882,\n",
       "  188230522230501154],\n",
       " 'clicked_news_length': 5}"
      ]
     },
     "execution_count": 51,
     "metadata": {},
     "output_type": "execute_result"
    }
   ],
   "source": [
    "class UserDataset(Dataset):\n",
    "    \"\"\"\n",
    "    Load users for evaluation, duplicated rows will be dropped\n",
    "    \"\"\"\n",
    "    def __init__(self, behaviors_path):\n",
    "        super(UserDataset, self).__init__()\n",
    "        self.behaviors = pd.read_csv(behaviors_path, converters={\n",
    "                attribute: literal_eval\n",
    "                for attribute in set([\n",
    "                    'clicked_news', 'click_0_itemIDs'\n",
    "                ])\n",
    "            })\n",
    "        # self.behaviors_parsed.clicked_news.fillna(' ', inplace=True)\n",
    "        # self.behaviors.drop_duplicates(inplace=True)\n",
    "        \n",
    "        \n",
    "\n",
    "    def __len__(self):\n",
    "        return len(self.behaviors)\n",
    "\n",
    "    def __getitem__(self, idx):\n",
    "        row = self.behaviors.iloc[idx]\n",
    "        \n",
    "        item = {\n",
    "            \"user\":\n",
    "            row.user,\n",
    "            \"clicked_news_string\":\n",
    "            \" \".join([str(i) for i in row.clicked_news]),\n",
    "            \"clicked_news\":\n",
    "            row.clicked_news[:5]\n",
    "        }\n",
    "        \n",
    "        item['clicked_news_length'] = len(item[\"clicked_news\"])\n",
    "        repeated_times = 5 - len(\n",
    "            item[\"clicked_news\"])\n",
    "        assert repeated_times >= 0\n",
    "        item[\"clicked_news\"] = item[\"clicked_news\"] + ['PADDED_NEWS'] * repeated_times\n",
    "\n",
    "        return item\n",
    "\n",
    "dat = UserDataset('../data_news/behaviors_data.csv')\n",
    "dat.__getitem__(1)"
   ]
  },
  {
   "cell_type": "code",
   "execution_count": null,
   "id": "cc0cea96-1ed3-4efe-8e47-3cb4c420f70e",
   "metadata": {},
   "outputs": [],
   "source": []
  }
 ],
 "metadata": {
  "kernelspec": {
   "display_name": "REC",
   "language": "python",
   "name": "rec"
  },
  "language_info": {
   "codemirror_mode": {
    "name": "ipython",
    "version": 3
   },
   "file_extension": ".py",
   "mimetype": "text/x-python",
   "name": "python",
   "nbconvert_exporter": "python",
   "pygments_lexer": "ipython3",
   "version": "3.8.16"
  }
 },
 "nbformat": 4,
 "nbformat_minor": 5
}
