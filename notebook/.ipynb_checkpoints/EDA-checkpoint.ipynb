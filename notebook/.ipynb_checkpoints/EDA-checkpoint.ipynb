{
 "cells": [
  {
   "cell_type": "code",
   "execution_count": 87,
   "id": "e99a8b34-2d56-4c71-b418-14286fddbf28",
   "metadata": {},
   "outputs": [],
   "source": [
    "# import os\n",
    "\n",
    "# os.listdir('../data_news')"
   ]
  },
  {
   "cell_type": "code",
   "execution_count": 88,
   "id": "f6328f47-7885-4fd2-be7c-11490d889db6",
   "metadata": {},
   "outputs": [],
   "source": [
    "# def update_phase(new_contents):\n",
    "#     file_path = \"../src/checkpoint/CHAMELEON/training.txt\"  # Replace with the actual file path\n",
    "\n",
    "#     # Open the file for writing (this will overwrite the existing contents)\n",
    "#     with open(file_path, \"w\") as file:\n",
    "#         file.write(new_contents)\n",
    "#     print(\"File overwritten successfully.\")"
   ]
  },
  {
   "cell_type": "code",
   "execution_count": 86,
   "id": "8853ff56-2471-4170-999b-54c2e66b050b",
   "metadata": {},
   "outputs": [],
   "source": [
    "# import schedule\n",
    "# import time\n",
    "# def build_retrain_model() -> None:\n",
    "#     update_phase('True')\n",
    "#     time.sleep(3)\n",
    "#     print('inside')\n",
    "#     update_phase('False')\n",
    "    \n",
    "# if __name__ == \"__main__\":\n",
    "#     build_retrain_model()\n",
    "#     schedule.every(10).seconds.do(build_retrain_model).tag(\"run_retrain_model\", 1)\n",
    "#     while True:\n",
    "#         schedule.run_pending()\n",
    "#         time.sleep(1)"
   ]
  },
  {
   "cell_type": "code",
   "execution_count": 96,
   "id": "09c3e901-baac-4981-8371-f9700c634b2a",
   "metadata": {},
   "outputs": [
    {
     "data": {
      "text/plain": [
       "tensor([0, 0, 0])"
      ]
     },
     "execution_count": 96,
     "metadata": {},
     "output_type": "execute_result"
    }
   ],
   "source": [
    "import torch\n",
    "\n",
    "a = torch.randint(1,2,(3,2))\n",
    "y = torch.zeros(len(a)).long()\n",
    "y"
   ]
  },
  {
   "cell_type": "code",
   "execution_count": 94,
   "id": "fc9caeab-db11-4b70-8524-9f2279c73edb",
   "metadata": {},
   "outputs": [],
   "source": [
    "import torch.nn as nn\n",
    "criterion = nn.CrossEntropyLoss()"
   ]
  },
  {
   "cell_type": "code",
   "execution_count": 98,
   "id": "d9d1860f-b576-4879-99d7-2d12438e1cd4",
   "metadata": {},
   "outputs": [
    {
     "data": {
      "text/plain": [
       "tensor(0.6931)"
      ]
     },
     "execution_count": 98,
     "metadata": {},
     "output_type": "execute_result"
    }
   ],
   "source": [
    "criterion(a.float(), y)"
   ]
  },
  {
   "cell_type": "code",
   "execution_count": 136,
   "id": "a16398d3-af60-42c8-8a65-baf09c38106a",
   "metadata": {},
   "outputs": [
    {
     "data": {
      "text/html": [
       "<div>\n",
       "<style scoped>\n",
       "    .dataframe tbody tr th:only-of-type {\n",
       "        vertical-align: middle;\n",
       "    }\n",
       "\n",
       "    .dataframe tbody tr th {\n",
       "        vertical-align: top;\n",
       "    }\n",
       "\n",
       "    .dataframe thead th {\n",
       "        text-align: right;\n",
       "    }\n",
       "</style>\n",
       "<table border=\"1\" class=\"dataframe\">\n",
       "  <thead>\n",
       "    <tr style=\"text-align: right;\">\n",
       "      <th></th>\n",
       "      <th>dt</th>\n",
       "      <th>user</th>\n",
       "      <th>clicked_news</th>\n",
       "      <th>click_0_itemIDs</th>\n",
       "      <th>candidate_news</th>\n",
       "      <th>clicked</th>\n",
       "    </tr>\n",
       "  </thead>\n",
       "  <tbody>\n",
       "    <tr>\n",
       "      <th>0</th>\n",
       "      <td>2023-07-18 15:01:26</td>\n",
       "      <td>3764870302246545166</td>\n",
       "      <td>[188230718072648501]</td>\n",
       "      <td>[188230718152841555, 188230718114525449, 18823...</td>\n",
       "      <td>188230718072648501</td>\n",
       "      <td>1 0 0 0</td>\n",
       "    </tr>\n",
       "    <tr>\n",
       "      <th>1</th>\n",
       "      <td>2023-07-10 17:44:05</td>\n",
       "      <td>4653250051953221246</td>\n",
       "      <td>[188230710065353612, 188230710141730958, 18823...</td>\n",
       "      <td>[188230706140134781, 188230630134929958, 18823...</td>\n",
       "      <td>188230710173301174</td>\n",
       "      <td>1 0 0 0</td>\n",
       "    </tr>\n",
       "    <tr>\n",
       "      <th>2</th>\n",
       "      <td>2023-07-20 16:10:56</td>\n",
       "      <td>5271874081907690088</td>\n",
       "      <td>[188230720111947623, 188230719084630922]</td>\n",
       "      <td>[188230720155405648, 188230720160622212, 18823...</td>\n",
       "      <td>188230720134314893</td>\n",
       "      <td>1 0 0 0</td>\n",
       "    </tr>\n",
       "    <tr>\n",
       "      <th>3</th>\n",
       "      <td>2023-07-24 13:02:48</td>\n",
       "      <td>8487359277249698085</td>\n",
       "      <td>[188230724102123608, 188230723094632053]</td>\n",
       "      <td>[18823072212173673, 18823072407091647, 1882307...</td>\n",
       "      <td>18823072408560719</td>\n",
       "      <td>1 0 0 0</td>\n",
       "    </tr>\n",
       "    <tr>\n",
       "      <th>4</th>\n",
       "      <td>2023-07-12 09:26:31</td>\n",
       "      <td>1312125071934495494</td>\n",
       "      <td>[18823071209064702, 188230712085856526]</td>\n",
       "      <td>[188230711233637218, 188230711233904013, 18823...</td>\n",
       "      <td>188230712073856277</td>\n",
       "      <td>1 0 0 0</td>\n",
       "    </tr>\n",
       "  </tbody>\n",
       "</table>\n",
       "</div>"
      ],
      "text/plain": [
       "                    dt                 user   \n",
       "0  2023-07-18 15:01:26  3764870302246545166  \\\n",
       "1  2023-07-10 17:44:05  4653250051953221246   \n",
       "2  2023-07-20 16:10:56  5271874081907690088   \n",
       "3  2023-07-24 13:02:48  8487359277249698085   \n",
       "4  2023-07-12 09:26:31  1312125071934495494   \n",
       "\n",
       "                                        clicked_news   \n",
       "0                               [188230718072648501]  \\\n",
       "1  [188230710065353612, 188230710141730958, 18823...   \n",
       "2           [188230720111947623, 188230719084630922]   \n",
       "3           [188230724102123608, 188230723094632053]   \n",
       "4            [18823071209064702, 188230712085856526]   \n",
       "\n",
       "                                     click_0_itemIDs      candidate_news   \n",
       "0  [188230718152841555, 188230718114525449, 18823...  188230718072648501  \\\n",
       "1  [188230706140134781, 188230630134929958, 18823...  188230710173301174   \n",
       "2  [188230720155405648, 188230720160622212, 18823...  188230720134314893   \n",
       "3  [18823072212173673, 18823072407091647, 1882307...   18823072408560719   \n",
       "4  [188230711233637218, 188230711233904013, 18823...  188230712073856277   \n",
       "\n",
       "    clicked  \n",
       "0  1 0 0 0   \n",
       "1  1 0 0 0   \n",
       "2  1 0 0 0   \n",
       "3  1 0 0 0   \n",
       "4  1 0 0 0   "
      ]
     },
     "execution_count": 136,
     "metadata": {},
     "output_type": "execute_result"
    }
   ],
   "source": [
    "import pandas as pd\n",
    "from ast import literal_eval\n",
    "\n",
    "df = pd.read_csv('../data_news/31-7-2023/train/behaviors_data.csv', converters={\n",
    "                attribute: literal_eval\n",
    "                for attribute in set([\n",
    "                    'clicked_news', 'click_0_itemIDs'\n",
    "                ])\n",
    "            })\n",
    "df.head()"
   ]
  },
  {
   "cell_type": "code",
   "execution_count": 137,
   "id": "70ee85d7-9a5f-478c-b930-4e06debfe749",
   "metadata": {},
   "outputs": [
    {
     "data": {
      "text/html": [
       "<div>\n",
       "<style scoped>\n",
       "    .dataframe tbody tr th:only-of-type {\n",
       "        vertical-align: middle;\n",
       "    }\n",
       "\n",
       "    .dataframe tbody tr th {\n",
       "        vertical-align: top;\n",
       "    }\n",
       "\n",
       "    .dataframe thead th {\n",
       "        text-align: right;\n",
       "    }\n",
       "</style>\n",
       "<table border=\"1\" class=\"dataframe\">\n",
       "  <thead>\n",
       "    <tr style=\"text-align: right;\">\n",
       "      <th></th>\n",
       "      <th>dt</th>\n",
       "      <th>user</th>\n",
       "      <th>clicked_news</th>\n",
       "      <th>click_0_itemIDs</th>\n",
       "      <th>candidate_news</th>\n",
       "      <th>clicked</th>\n",
       "    </tr>\n",
       "  </thead>\n",
       "  <tbody>\n",
       "    <tr>\n",
       "      <th>0</th>\n",
       "      <td>2023-07-18 15:01:26</td>\n",
       "      <td>3764870302246545166</td>\n",
       "      <td>[188230718072648501]</td>\n",
       "      <td>[188230718152841555, 188230718114525449, 18823...</td>\n",
       "      <td>188230718072648501</td>\n",
       "      <td>1 0 0 0</td>\n",
       "    </tr>\n",
       "    <tr>\n",
       "      <th>1</th>\n",
       "      <td>2023-07-10 17:44:05</td>\n",
       "      <td>4653250051953221246</td>\n",
       "      <td>[188230710065353612, 188230710141730958, 18823...</td>\n",
       "      <td>[188230706140134781, 188230630134929958, 18823...</td>\n",
       "      <td>188230710173301174</td>\n",
       "      <td>1 0 0 0</td>\n",
       "    </tr>\n",
       "    <tr>\n",
       "      <th>2</th>\n",
       "      <td>2023-07-20 16:10:56</td>\n",
       "      <td>5271874081907690088</td>\n",
       "      <td>[188230720111947623, 188230719084630922]</td>\n",
       "      <td>[188230720155405648, 188230720160622212, 18823...</td>\n",
       "      <td>188230720134314893</td>\n",
       "      <td>1 0 0 0</td>\n",
       "    </tr>\n",
       "    <tr>\n",
       "      <th>3</th>\n",
       "      <td>2023-07-24 13:02:48</td>\n",
       "      <td>8487359277249698085</td>\n",
       "      <td>[188230724102123608, 188230723094632053]</td>\n",
       "      <td>[18823072212173673, 18823072407091647, 1882307...</td>\n",
       "      <td>18823072408560719</td>\n",
       "      <td>1 0 0 0</td>\n",
       "    </tr>\n",
       "    <tr>\n",
       "      <th>4</th>\n",
       "      <td>2023-07-12 09:26:31</td>\n",
       "      <td>1312125071934495494</td>\n",
       "      <td>[18823071209064702, 188230712085856526]</td>\n",
       "      <td>[188230711233637218, 188230711233904013, 18823...</td>\n",
       "      <td>188230712073856277</td>\n",
       "      <td>1 0 0 0</td>\n",
       "    </tr>\n",
       "  </tbody>\n",
       "</table>\n",
       "</div>"
      ],
      "text/plain": [
       "                    dt                 user   \n",
       "0  2023-07-18 15:01:26  3764870302246545166  \\\n",
       "1  2023-07-10 17:44:05  4653250051953221246   \n",
       "2  2023-07-20 16:10:56  5271874081907690088   \n",
       "3  2023-07-24 13:02:48  8487359277249698085   \n",
       "4  2023-07-12 09:26:31  1312125071934495494   \n",
       "\n",
       "                                        clicked_news   \n",
       "0                               [188230718072648501]  \\\n",
       "1  [188230710065353612, 188230710141730958, 18823...   \n",
       "2           [188230720111947623, 188230719084630922]   \n",
       "3           [188230724102123608, 188230723094632053]   \n",
       "4            [18823071209064702, 188230712085856526]   \n",
       "\n",
       "                                     click_0_itemIDs      candidate_news   \n",
       "0  [188230718152841555, 188230718114525449, 18823...  188230718072648501  \\\n",
       "1  [188230706140134781, 188230630134929958, 18823...  188230710173301174   \n",
       "2  [188230720155405648, 188230720160622212, 18823...  188230720134314893   \n",
       "3  [18823072212173673, 18823072407091647, 1882307...   18823072408560719   \n",
       "4  [188230711233637218, 188230711233904013, 18823...  188230712073856277   \n",
       "\n",
       "    clicked  \n",
       "0  1 0 0 0   \n",
       "1  1 0 0 0   \n",
       "2  1 0 0 0   \n",
       "3  1 0 0 0   \n",
       "4  1 0 0 0   "
      ]
     },
     "execution_count": 137,
     "metadata": {},
     "output_type": "execute_result"
    }
   ],
   "source": [
    "df.head()"
   ]
  },
  {
   "cell_type": "code",
   "execution_count": 129,
   "id": "6fe6acd7-917f-443c-852f-5cc29f3fdaa9",
   "metadata": {},
   "outputs": [
    {
     "data": {
      "text/html": [
       "<div>\n",
       "<style scoped>\n",
       "    .dataframe tbody tr th:only-of-type {\n",
       "        vertical-align: middle;\n",
       "    }\n",
       "\n",
       "    .dataframe tbody tr th {\n",
       "        vertical-align: top;\n",
       "    }\n",
       "\n",
       "    .dataframe thead th {\n",
       "        text-align: right;\n",
       "    }\n",
       "</style>\n",
       "<table border=\"1\" class=\"dataframe\">\n",
       "  <thead>\n",
       "    <tr style=\"text-align: right;\">\n",
       "      <th></th>\n",
       "      <th>clicked</th>\n",
       "      <th>clicked_0</th>\n",
       "    </tr>\n",
       "  </thead>\n",
       "  <tbody>\n",
       "    <tr>\n",
       "      <th>0</th>\n",
       "      <td>[1, 2, 3, 4]</td>\n",
       "      <td>1 0 0 0</td>\n",
       "    </tr>\n",
       "  </tbody>\n",
       "</table>\n",
       "</div>"
      ],
      "text/plain": [
       "        clicked clicked_0\n",
       "0  [1, 2, 3, 4]   1 0 0 0"
      ]
     },
     "execution_count": 129,
     "metadata": {},
     "output_type": "execute_result"
    }
   ],
   "source": [
    "t_df = pd.DataFrame({'clicked':[[1,2,3,4]], 'clicked_0':['1 0 0 0']})\n",
    "t_df"
   ]
  },
  {
   "cell_type": "code",
   "execution_count": 147,
   "id": "8589b875-0cd3-4491-8ee7-196ccaec7f47",
   "metadata": {},
   "outputs": [],
   "source": [
    "from random import shuffle\n",
    "\n",
    "def shuffle_list(row):\n",
    "    list_clicked_0 =  row['clicked'].split()\n",
    "    print(type(row['click_0_itemIDs']))\n",
    "    list_can = [row['candidate_news']] + row['click_0_itemIDs'] \n",
    "#     print(row['clicked'], list_clicked_0)\n",
    "    l =list(zip(list_can, list_clicked_0))\n",
    "    shuffle(l)\n",
    "    a, b = zip(*l)\n",
    "#     print(list(a), list(b))\n",
    "    row['candidate_news'] = list(a)\n",
    "    row['clicked_0'] = ' '.join(list(b))\n",
    "    \n",
    "    return row"
   ]
  },
  {
   "cell_type": "code",
   "execution_count": 148,
   "id": "1e77a5ec-1569-4bcb-91fa-9f5f1ef7a582",
   "metadata": {},
   "outputs": [
    {
     "name": "stdout",
     "output_type": "stream",
     "text": [
      "<class 'str'>\n"
     ]
    },
    {
     "ename": "TypeError",
     "evalue": "can only concatenate list (not \"str\") to list",
     "output_type": "error",
     "traceback": [
      "\u001b[0;31m---------------------------------------------------------------------------\u001b[0m",
      "\u001b[0;31mTypeError\u001b[0m                                 Traceback (most recent call last)",
      "Cell \u001b[0;32mIn[148], line 1\u001b[0m\n\u001b[0;32m----> 1\u001b[0m df \u001b[38;5;241m=\u001b[39m \u001b[43mdf\u001b[49m\u001b[38;5;241;43m.\u001b[39;49m\u001b[43mapply\u001b[49m\u001b[43m(\u001b[49m\u001b[43mshuffle_list\u001b[49m\u001b[43m,\u001b[49m\u001b[43m \u001b[49m\u001b[43maxis\u001b[49m\u001b[38;5;241;43m=\u001b[39;49m\u001b[38;5;241;43m1\u001b[39;49m\u001b[43m)\u001b[49m\n\u001b[1;32m      2\u001b[0m df\u001b[38;5;241m.\u001b[39mhead()\n",
      "File \u001b[0;32m/data2/nghiatl/anaconda3/envs/REC/lib/python3.8/site-packages/pandas/core/frame.py:9433\u001b[0m, in \u001b[0;36mDataFrame.apply\u001b[0;34m(self, func, axis, raw, result_type, args, **kwargs)\u001b[0m\n\u001b[1;32m   9422\u001b[0m \u001b[38;5;28;01mfrom\u001b[39;00m \u001b[38;5;21;01mpandas\u001b[39;00m\u001b[38;5;21;01m.\u001b[39;00m\u001b[38;5;21;01mcore\u001b[39;00m\u001b[38;5;21;01m.\u001b[39;00m\u001b[38;5;21;01mapply\u001b[39;00m \u001b[38;5;28;01mimport\u001b[39;00m frame_apply\n\u001b[1;32m   9424\u001b[0m op \u001b[38;5;241m=\u001b[39m frame_apply(\n\u001b[1;32m   9425\u001b[0m     \u001b[38;5;28mself\u001b[39m,\n\u001b[1;32m   9426\u001b[0m     func\u001b[38;5;241m=\u001b[39mfunc,\n\u001b[0;32m   (...)\u001b[0m\n\u001b[1;32m   9431\u001b[0m     kwargs\u001b[38;5;241m=\u001b[39mkwargs,\n\u001b[1;32m   9432\u001b[0m )\n\u001b[0;32m-> 9433\u001b[0m \u001b[38;5;28;01mreturn\u001b[39;00m \u001b[43mop\u001b[49m\u001b[38;5;241;43m.\u001b[39;49m\u001b[43mapply\u001b[49m\u001b[43m(\u001b[49m\u001b[43m)\u001b[49m\u001b[38;5;241m.\u001b[39m__finalize__(\u001b[38;5;28mself\u001b[39m, method\u001b[38;5;241m=\u001b[39m\u001b[38;5;124m\"\u001b[39m\u001b[38;5;124mapply\u001b[39m\u001b[38;5;124m\"\u001b[39m)\n",
      "File \u001b[0;32m/data2/nghiatl/anaconda3/envs/REC/lib/python3.8/site-packages/pandas/core/apply.py:678\u001b[0m, in \u001b[0;36mFrameApply.apply\u001b[0;34m(self)\u001b[0m\n\u001b[1;32m    675\u001b[0m \u001b[38;5;28;01melif\u001b[39;00m \u001b[38;5;28mself\u001b[39m\u001b[38;5;241m.\u001b[39mraw:\n\u001b[1;32m    676\u001b[0m     \u001b[38;5;28;01mreturn\u001b[39;00m \u001b[38;5;28mself\u001b[39m\u001b[38;5;241m.\u001b[39mapply_raw()\n\u001b[0;32m--> 678\u001b[0m \u001b[38;5;28;01mreturn\u001b[39;00m \u001b[38;5;28;43mself\u001b[39;49m\u001b[38;5;241;43m.\u001b[39;49m\u001b[43mapply_standard\u001b[49m\u001b[43m(\u001b[49m\u001b[43m)\u001b[49m\n",
      "File \u001b[0;32m/data2/nghiatl/anaconda3/envs/REC/lib/python3.8/site-packages/pandas/core/apply.py:798\u001b[0m, in \u001b[0;36mFrameApply.apply_standard\u001b[0;34m(self)\u001b[0m\n\u001b[1;32m    797\u001b[0m \u001b[38;5;28;01mdef\u001b[39;00m \u001b[38;5;21mapply_standard\u001b[39m(\u001b[38;5;28mself\u001b[39m):\n\u001b[0;32m--> 798\u001b[0m     results, res_index \u001b[38;5;241m=\u001b[39m \u001b[38;5;28;43mself\u001b[39;49m\u001b[38;5;241;43m.\u001b[39;49m\u001b[43mapply_series_generator\u001b[49m\u001b[43m(\u001b[49m\u001b[43m)\u001b[49m\n\u001b[1;32m    800\u001b[0m     \u001b[38;5;66;03m# wrap results\u001b[39;00m\n\u001b[1;32m    801\u001b[0m     \u001b[38;5;28;01mreturn\u001b[39;00m \u001b[38;5;28mself\u001b[39m\u001b[38;5;241m.\u001b[39mwrap_results(results, res_index)\n",
      "File \u001b[0;32m/data2/nghiatl/anaconda3/envs/REC/lib/python3.8/site-packages/pandas/core/apply.py:814\u001b[0m, in \u001b[0;36mFrameApply.apply_series_generator\u001b[0;34m(self)\u001b[0m\n\u001b[1;32m    811\u001b[0m \u001b[38;5;28;01mwith\u001b[39;00m option_context(\u001b[38;5;124m\"\u001b[39m\u001b[38;5;124mmode.chained_assignment\u001b[39m\u001b[38;5;124m\"\u001b[39m, \u001b[38;5;28;01mNone\u001b[39;00m):\n\u001b[1;32m    812\u001b[0m     \u001b[38;5;28;01mfor\u001b[39;00m i, v \u001b[38;5;129;01min\u001b[39;00m \u001b[38;5;28menumerate\u001b[39m(series_gen):\n\u001b[1;32m    813\u001b[0m         \u001b[38;5;66;03m# ignore SettingWithCopy here in case the user mutates\u001b[39;00m\n\u001b[0;32m--> 814\u001b[0m         results[i] \u001b[38;5;241m=\u001b[39m \u001b[38;5;28;43mself\u001b[39;49m\u001b[38;5;241;43m.\u001b[39;49m\u001b[43mf\u001b[49m\u001b[43m(\u001b[49m\u001b[43mv\u001b[49m\u001b[43m)\u001b[49m\n\u001b[1;32m    815\u001b[0m         \u001b[38;5;28;01mif\u001b[39;00m \u001b[38;5;28misinstance\u001b[39m(results[i], ABCSeries):\n\u001b[1;32m    816\u001b[0m             \u001b[38;5;66;03m# If we have a view on v, we need to make a copy because\u001b[39;00m\n\u001b[1;32m    817\u001b[0m             \u001b[38;5;66;03m#  series_generator will swap out the underlying data\u001b[39;00m\n\u001b[1;32m    818\u001b[0m             results[i] \u001b[38;5;241m=\u001b[39m results[i]\u001b[38;5;241m.\u001b[39mcopy(deep\u001b[38;5;241m=\u001b[39m\u001b[38;5;28;01mFalse\u001b[39;00m)\n",
      "Cell \u001b[0;32mIn[147], line 6\u001b[0m, in \u001b[0;36mshuffle_list\u001b[0;34m(row)\u001b[0m\n\u001b[1;32m      4\u001b[0m     list_clicked_0 \u001b[38;5;241m=\u001b[39m  row[\u001b[38;5;124m'\u001b[39m\u001b[38;5;124mclicked\u001b[39m\u001b[38;5;124m'\u001b[39m]\u001b[38;5;241m.\u001b[39msplit()\n\u001b[1;32m      5\u001b[0m     \u001b[38;5;28mprint\u001b[39m(\u001b[38;5;28mtype\u001b[39m(row[\u001b[38;5;124m'\u001b[39m\u001b[38;5;124mclick_0_itemIDs\u001b[39m\u001b[38;5;124m'\u001b[39m]))\n\u001b[0;32m----> 6\u001b[0m     list_can \u001b[38;5;241m=\u001b[39m \u001b[43m[\u001b[49m\u001b[43mrow\u001b[49m\u001b[43m[\u001b[49m\u001b[38;5;124;43m'\u001b[39;49m\u001b[38;5;124;43mcandidate_news\u001b[39;49m\u001b[38;5;124;43m'\u001b[39;49m\u001b[43m]\u001b[49m\u001b[43m]\u001b[49m\u001b[43m \u001b[49m\u001b[38;5;241;43m+\u001b[39;49m\u001b[43m \u001b[49m\u001b[43mrow\u001b[49m\u001b[43m[\u001b[49m\u001b[38;5;124;43m'\u001b[39;49m\u001b[38;5;124;43mclick_0_itemIDs\u001b[39;49m\u001b[38;5;124;43m'\u001b[39;49m\u001b[43m]\u001b[49m \n\u001b[1;32m      7\u001b[0m \u001b[38;5;66;03m#     print(row['clicked'], list_clicked_0)\u001b[39;00m\n\u001b[1;32m      8\u001b[0m     l \u001b[38;5;241m=\u001b[39m\u001b[38;5;28mlist\u001b[39m(\u001b[38;5;28mzip\u001b[39m(list_can, list_clicked_0))\n",
      "\u001b[0;31mTypeError\u001b[0m: can only concatenate list (not \"str\") to list"
     ]
    }
   ],
   "source": [
    "df = df.apply(shuffle_list, axis=1)\n",
    "df.head()"
   ]
  },
  {
   "cell_type": "code",
   "execution_count": 62,
   "id": "c4bff2c0-697f-45da-a7be-dd862e8be0f4",
   "metadata": {},
   "outputs": [],
   "source": [
    "df = df[df['user'].apply(lambda x: x.isdigit())].reset_index(drop=True)"
   ]
  },
  {
   "cell_type": "code",
   "execution_count": 63,
   "id": "62e52fb6-7730-47d2-8250-9904e54e3a18",
   "metadata": {},
   "outputs": [
    {
     "name": "stdout",
     "output_type": "stream",
     "text": [
      "<class 'pandas.core.frame.DataFrame'>\n",
      "RangeIndex: 17159 entries, 0 to 17158\n",
      "Data columns (total 6 columns):\n",
      " #   Column           Non-Null Count  Dtype \n",
      "---  ------           --------------  ----- \n",
      " 0   dt               17159 non-null  object\n",
      " 1   user             17159 non-null  object\n",
      " 2   clicked_news     17159 non-null  object\n",
      " 3   click_0_itemIDs  17159 non-null  object\n",
      " 4   candidate_news   17159 non-null  int64 \n",
      " 5   clicked          17159 non-null  object\n",
      "dtypes: int64(1), object(5)\n",
      "memory usage: 804.5+ KB\n"
     ]
    }
   ],
   "source": [
    "df.info()"
   ]
  },
  {
   "cell_type": "code",
   "execution_count": 44,
   "id": "b6baf876-60bc-482c-a587-88b1de107d78",
   "metadata": {},
   "outputs": [],
   "source": [
    "df_to_csv[df_to_csv['click_0_itemIDs'].apply(lambda x: len(x) > config.k_candidate_train - 1)]"
   ]
  },
  {
   "cell_type": "code",
   "execution_count": 35,
   "id": "6f1555d1-6ccf-4dec-8592-cfed06579e11",
   "metadata": {},
   "outputs": [
    {
     "name": "stdout",
     "output_type": "stream",
     "text": [
      "<class 'pandas.core.frame.DataFrame'>\n",
      "Index: 34708 entries, 0 to 34712\n",
      "Data columns (total 6 columns):\n",
      " #   Column           Non-Null Count  Dtype \n",
      "---  ------           --------------  ----- \n",
      " 0   dt               34708 non-null  object\n",
      " 1   user             34708 non-null  object\n",
      " 2   clicked_news     34708 non-null  object\n",
      " 3   click_0_itemIDs  34708 non-null  object\n",
      " 4   candidate_news   34708 non-null  int64 \n",
      " 5   clicked          34708 non-null  object\n",
      "dtypes: int64(1), object(5)\n",
      "memory usage: 1.9+ MB\n"
     ]
    }
   ],
   "source": [
    "filtered_df.info()"
   ]
  },
  {
   "cell_type": "code",
   "execution_count": 64,
   "id": "b89ff1d9-cc52-4497-82f6-5403d9f7dc8a",
   "metadata": {},
   "outputs": [],
   "source": [
    "df.to_csv('../data_news/weekly_data/val/behaviors_data.csv', index = False)"
   ]
  },
  {
   "cell_type": "code",
   "execution_count": 34,
   "id": "fb4cd7cb-5cbe-45f0-bcbb-6872b0084ebb",
   "metadata": {},
   "outputs": [
    {
     "data": {
      "text/html": [
       "<div>\n",
       "<style scoped>\n",
       "    .dataframe tbody tr th:only-of-type {\n",
       "        vertical-align: middle;\n",
       "    }\n",
       "\n",
       "    .dataframe tbody tr th {\n",
       "        vertical-align: top;\n",
       "    }\n",
       "\n",
       "    .dataframe thead th {\n",
       "        text-align: right;\n",
       "    }\n",
       "</style>\n",
       "<table border=\"1\" class=\"dataframe\">\n",
       "  <thead>\n",
       "    <tr style=\"text-align: right;\">\n",
       "      <th></th>\n",
       "      <th>dt</th>\n",
       "      <th>user</th>\n",
       "      <th>clicked_news</th>\n",
       "      <th>click_0_itemIDs</th>\n",
       "      <th>candidate_news</th>\n",
       "    </tr>\n",
       "  </thead>\n",
       "  <tbody>\n",
       "    <tr>\n",
       "      <th>0</th>\n",
       "      <td>2023-07-10 17:12:21</td>\n",
       "      <td>1000869511963106373</td>\n",
       "      <td>[188230709220927133, 188230710103227318, 18823...</td>\n",
       "      <td>[18823071016062482, 188230710155859745, 188230...</td>\n",
       "      <td>188230710160516309</td>\n",
       "    </tr>\n",
       "    <tr>\n",
       "      <th>1</th>\n",
       "      <td>2023-07-10 18:36:38</td>\n",
       "      <td>1003963166457294478</td>\n",
       "      <td>[188230710163501832, 188230710121456856, 18823...</td>\n",
       "      <td>[188230710133400489, 188230710140219304, 18823...</td>\n",
       "      <td>188230710140219304</td>\n",
       "    </tr>\n",
       "    <tr>\n",
       "      <th>2</th>\n",
       "      <td>2023-07-10 17:20:10</td>\n",
       "      <td>1004173811963373118</td>\n",
       "      <td>[188230710150507105]</td>\n",
       "      <td>[188230707103716363, 188230710151047815, 18823...</td>\n",
       "      <td>188230710151047815</td>\n",
       "    </tr>\n",
       "    <tr>\n",
       "      <th>3</th>\n",
       "      <td>2023-07-10 14:53:39</td>\n",
       "      <td>1004623683250147708</td>\n",
       "      <td>[188230709123843263, 18823071007575433, 188230...</td>\n",
       "      <td>[188230709125650879, 188230709083753385, 18823...</td>\n",
       "      <td>188230709125650879</td>\n",
       "    </tr>\n",
       "    <tr>\n",
       "      <th>4</th>\n",
       "      <td>2023-07-10 09:12:51</td>\n",
       "      <td>1004833161953899231</td>\n",
       "      <td>[188230710090223897]</td>\n",
       "      <td>[20211015164528935, 188230626121804638, 188230...</td>\n",
       "      <td>188230709235357518</td>\n",
       "    </tr>\n",
       "  </tbody>\n",
       "</table>\n",
       "</div>"
      ],
      "text/plain": [
       "                    dt                 user   \n",
       "0  2023-07-10 17:12:21  1000869511963106373  \\\n",
       "1  2023-07-10 18:36:38  1003963166457294478   \n",
       "2  2023-07-10 17:20:10  1004173811963373118   \n",
       "3  2023-07-10 14:53:39  1004623683250147708   \n",
       "4  2023-07-10 09:12:51  1004833161953899231   \n",
       "\n",
       "                                        clicked_news   \n",
       "0  [188230709220927133, 188230710103227318, 18823...  \\\n",
       "1  [188230710163501832, 188230710121456856, 18823...   \n",
       "2                               [188230710150507105]   \n",
       "3  [188230709123843263, 18823071007575433, 188230...   \n",
       "4                               [188230710090223897]   \n",
       "\n",
       "                                     click_0_itemIDs      candidate_news  \n",
       "0  [18823071016062482, 188230710155859745, 188230...  188230710160516309  \n",
       "1  [188230710133400489, 188230710140219304, 18823...  188230710140219304  \n",
       "2  [188230707103716363, 188230710151047815, 18823...  188230710151047815  \n",
       "3  [188230709125650879, 188230709083753385, 18823...  188230709125650879  \n",
       "4  [20211015164528935, 188230626121804638, 188230...  188230709235357518  "
      ]
     },
     "execution_count": 34,
     "metadata": {},
     "output_type": "execute_result"
    }
   ],
   "source": [
    "logs_df = pd.read_csv('../data_news/31-7-2023/log.csv')\n",
    "logs_df.head()"
   ]
  },
  {
   "cell_type": "code",
   "execution_count": 45,
   "id": "ca1136d0-9c17-4406-aac7-9647a9e1d217",
   "metadata": {
    "tags": []
   },
   "outputs": [
    {
     "data": {
      "text/html": [
       "<div>\n",
       "<style scoped>\n",
       "    .dataframe tbody tr th:only-of-type {\n",
       "        vertical-align: middle;\n",
       "    }\n",
       "\n",
       "    .dataframe tbody tr th {\n",
       "        vertical-align: top;\n",
       "    }\n",
       "\n",
       "    .dataframe thead th {\n",
       "        text-align: right;\n",
       "    }\n",
       "</style>\n",
       "<table border=\"1\" class=\"dataframe\">\n",
       "  <thead>\n",
       "    <tr style=\"text-align: right;\">\n",
       "      <th></th>\n",
       "      <th>newsId</th>\n",
       "      <th>sourceNews</th>\n",
       "      <th>publishDate</th>\n",
       "      <th>catId</th>\n",
       "      <th>title</th>\n",
       "      <th>sapo</th>\n",
       "    </tr>\n",
       "  </thead>\n",
       "  <tbody>\n",
       "    <tr>\n",
       "      <th>0</th>\n",
       "      <td>18823071009341549</td>\n",
       "      <td>CafeF</td>\n",
       "      <td>2023-07-10 09:31:00</td>\n",
       "      <td>188112</td>\n",
       "      <td>Cấm xe máy vào nội đô, người dân đi lại bằng p...</td>\n",
       "      <td>Việc Hà Nội quay lại chủ trương cấm xe máy vào...</td>\n",
       "    </tr>\n",
       "    <tr>\n",
       "      <th>1</th>\n",
       "      <td>20170511213658244</td>\n",
       "      <td>CafeF</td>\n",
       "      <td>2017-05-12 09:37:00</td>\n",
       "      <td>114</td>\n",
       "      <td>8 mẫu đồng hồ mới nhất của Rolex: Dù là đấng m...</td>\n",
       "      <td>Vốn được biết đến là một trong những thương hi...</td>\n",
       "    </tr>\n",
       "    <tr>\n",
       "      <th>2</th>\n",
       "      <td>20210630151503985</td>\n",
       "      <td>CafeF</td>\n",
       "      <td>2021-06-30 15:14:39</td>\n",
       "      <td>36</td>\n",
       "      <td>Chân dung \"ông trùm\" giáo dục tư nhân ở Việt N...</td>\n",
       "      <td>Tập đoàn Nguyễn Hoàng hiện có 60 cơ sở giáo dụ...</td>\n",
       "    </tr>\n",
       "    <tr>\n",
       "      <th>3</th>\n",
       "      <td>20210924065521798</td>\n",
       "      <td>CafeF</td>\n",
       "      <td>2021-09-24 08:00:00</td>\n",
       "      <td>34</td>\n",
       "      <td>Cá nhân hoá theo nhu cầu khách hàng - Tương la...</td>\n",
       "      <td>Tiến bộ công nghệ và dữ liệu thúc đẩy các ngân...</td>\n",
       "    </tr>\n",
       "    <tr>\n",
       "      <th>4</th>\n",
       "      <td>20211209164554372</td>\n",
       "      <td>CafeF</td>\n",
       "      <td>2021-12-10 08:03:23</td>\n",
       "      <td>114</td>\n",
       "      <td>3 cặp đôi “vàng” trên thương trường Việt: Vừa ...</td>\n",
       "      <td>Họ là những \"cặp đôi vàng\" trên thương trường,...</td>\n",
       "    </tr>\n",
       "  </tbody>\n",
       "</table>\n",
       "</div>"
      ],
      "text/plain": [
       "              newsId sourceNews          publishDate   catId   \n",
       "0  18823071009341549      CafeF  2023-07-10 09:31:00  188112  \\\n",
       "1  20170511213658244      CafeF  2017-05-12 09:37:00     114   \n",
       "2  20210630151503985      CafeF  2021-06-30 15:14:39      36   \n",
       "3  20210924065521798      CafeF  2021-09-24 08:00:00      34   \n",
       "4  20211209164554372      CafeF  2021-12-10 08:03:23     114   \n",
       "\n",
       "                                               title   \n",
       "0  Cấm xe máy vào nội đô, người dân đi lại bằng p...  \\\n",
       "1  8 mẫu đồng hồ mới nhất của Rolex: Dù là đấng m...   \n",
       "2  Chân dung \"ông trùm\" giáo dục tư nhân ở Việt N...   \n",
       "3  Cá nhân hoá theo nhu cầu khách hàng - Tương la...   \n",
       "4  3 cặp đôi “vàng” trên thương trường Việt: Vừa ...   \n",
       "\n",
       "                                                sapo  \n",
       "0  Việc Hà Nội quay lại chủ trương cấm xe máy vào...  \n",
       "1  Vốn được biết đến là một trong những thương hi...  \n",
       "2  Tập đoàn Nguyễn Hoàng hiện có 60 cơ sở giáo dụ...  \n",
       "3  Tiến bộ công nghệ và dữ liệu thúc đẩy các ngân...  \n",
       "4  Họ là những \"cặp đôi vàng\" trên thương trường,...  "
      ]
     },
     "execution_count": 45,
     "metadata": {},
     "output_type": "execute_result"
    }
   ],
   "source": [
    "news_df = pd.read_csv('../data_news/31-7-2023/news_data.csv')\n",
    "news_df.head()"
   ]
  },
  {
   "cell_type": "code",
   "execution_count": null,
   "id": "6df3cc1d-8713-46bb-8e31-8e93cd6098d3",
   "metadata": {},
   "outputs": [],
   "source": []
  }
 ],
 "metadata": {
  "kernelspec": {
   "display_name": "REC",
   "language": "python",
   "name": "rec"
  },
  "language_info": {
   "codemirror_mode": {
    "name": "ipython",
    "version": 3
   },
   "file_extension": ".py",
   "mimetype": "text/x-python",
   "name": "python",
   "nbconvert_exporter": "python",
   "pygments_lexer": "ipython3",
   "version": "3.8.16"
  }
 },
 "nbformat": 4,
 "nbformat_minor": 5
}
